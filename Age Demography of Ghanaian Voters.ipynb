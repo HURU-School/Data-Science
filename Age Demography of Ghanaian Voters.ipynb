{
  "nbformat": 4,
  "nbformat_minor": 0,
  "metadata": {
    "colab": {
      "name": "Final_Project_Francis_Miah.ipynb",
      "provenance": [],
      "collapsed_sections": [
        "cVtjEO4cr6D9",
        "JHm7TXwKuF-0",
        "Kqvobnpv6QM7"
      ],
      "toc_visible": true,
      "include_colab_link": true
    },
    "kernelspec": {
      "name": "python3",
      "display_name": "Python 3"
    },
    "language_info": {
      "name": "python"
    }
  },
  "cells": [
    {
      "cell_type": "markdown",
      "metadata": {
        "id": "view-in-github",
        "colab_type": "text"
      },
      "source": [
        "<a href=\"https://colab.research.google.com/github/HURU-School/Data-Science/blob/main/Age%20Demography%20of%20Ghanaian%20Voters.ipynb\" target=\"_parent\"><img src=\"https://colab.research.google.com/assets/colab-badge.svg\" alt=\"Open In Colab\"/></a>"
      ]
    },
    {
      "cell_type": "markdown",
      "metadata": {
        "id": "q_5-nTUX_kZ3"
      },
      "source": [
        "# **Final Project - HURU School (Data Science)**\n",
        "## **Scientific Data Analysis And Data Visualization of the 2020 Electorate Register of The Republic of Ghana**\n",
        "Student: Francis Miah (DS2021048892)"
      ]
    },
    {
      "cell_type": "markdown",
      "metadata": {
        "id": "nDrCeoeoApMj"
      },
      "source": [
        "## Importing the required libraries"
      ]
    },
    {
      "cell_type": "code",
      "metadata": {
        "id": "vYK-Hgmu90rg"
      },
      "source": [
        "import pandas as pd\n",
        "import numpy as np\n",
        "import seaborn as sns                       #visualisation\n",
        "import matplotlib.pyplot as plt             #visualisation\n",
        "%matplotlib inline     \n",
        "sns.set(color_codes=True)"
      ],
      "execution_count": null,
      "outputs": []
    },
    {
      "cell_type": "markdown",
      "metadata": {
        "id": "UrhjzAy5JaCP"
      },
      "source": [
        "A function to generate a direct file link from onedrive download url"
      ]
    },
    {
      "cell_type": "code",
      "metadata": {
        "id": "XgwYzmfsJF1N"
      },
      "source": [
        "import base64\n",
        "def create_onedrive_directdownload (onedrive_link):\n",
        "    data_bytes64 = base64.b64encode(bytes(onedrive_link, 'utf-8'))\n",
        "    data_bytes64_String = data_bytes64.decode('utf-8').replace('/','_').replace('+','-').rstrip(\"=\")\n",
        "    resultUrl = f\"https://api.onedrive.com/v1.0/shares/u!{data_bytes64_String}/root/content\"\n",
        "    return resultUrl"
      ],
      "execution_count": null,
      "outputs": []
    },
    {
      "cell_type": "markdown",
      "metadata": {
        "id": "AXEjvSxZBakF"
      },
      "source": [
        "## Loading the data into the data frame from google drive"
      ]
    },
    {
      "cell_type": "code",
      "metadata": {
        "id": "rT6Cnk6pBeLk"
      },
      "source": [
        "# Input any OneDrive URL \n",
        "onedrive_url = \"https://1drv.ms/u/s!Ar7Id1qctGAZgxoFV93oCZYgS9EB?e=yWkBnF\"\n",
        "# Generate Direct Download URL from above Script\n",
        "direct_download_url = create_onedrive_directdownload(onedrive_url)\n",
        "# Load Dataset to the Dataframe\n",
        "df1 = pd.read_csv(direct_download_url)"
      ],
      "execution_count": null,
      "outputs": []
    },
    {
      "cell_type": "code",
      "metadata": {
        "colab": {
          "base_uri": "https://localhost:8080/",
          "height": 206
        },
        "id": "lOtbXeY-Grgv",
        "outputId": "bb2c63b5-2c53-4257-8a83-aaa3c76fa214"
      },
      "source": [
        "df1.head(5)"
      ],
      "execution_count": null,
      "outputs": [
        {
          "output_type": "execute_result",
          "data": {
            "text/html": [
              "<div>\n",
              "<style scoped>\n",
              "    .dataframe tbody tr th:only-of-type {\n",
              "        vertical-align: middle;\n",
              "    }\n",
              "\n",
              "    .dataframe tbody tr th {\n",
              "        vertical-align: top;\n",
              "    }\n",
              "\n",
              "    .dataframe thead th {\n",
              "        text-align: right;\n",
              "    }\n",
              "</style>\n",
              "<table border=\"1\" class=\"dataframe\">\n",
              "  <thead>\n",
              "    <tr style=\"text-align: right;\">\n",
              "      <th></th>\n",
              "      <th>VoterId</th>\n",
              "      <th>Surname</th>\n",
              "      <th>OtherNames</th>\n",
              "      <th>PhoneNumber</th>\n",
              "      <th>Sex</th>\n",
              "    </tr>\n",
              "  </thead>\n",
              "  <tbody>\n",
              "    <tr>\n",
              "      <th>0</th>\n",
              "      <td>1324000659</td>\n",
              "      <td>AMPONSAH</td>\n",
              "      <td>DEBORAH</td>\n",
              "      <td>247645414.0</td>\n",
              "      <td>1</td>\n",
              "    </tr>\n",
              "    <tr>\n",
              "      <th>1</th>\n",
              "      <td>1327000179</td>\n",
              "      <td>SAKYI</td>\n",
              "      <td>YAW</td>\n",
              "      <td>208286128.0</td>\n",
              "      <td>0</td>\n",
              "    </tr>\n",
              "    <tr>\n",
              "      <th>2</th>\n",
              "      <td>1324000109</td>\n",
              "      <td>SHEHU</td>\n",
              "      <td>RABI</td>\n",
              "      <td>557343969.0</td>\n",
              "      <td>1</td>\n",
              "    </tr>\n",
              "    <tr>\n",
              "      <th>3</th>\n",
              "      <td>1304000921</td>\n",
              "      <td>NKANSAH MENSAH</td>\n",
              "      <td>EMMANUEL</td>\n",
              "      <td>245897537.0</td>\n",
              "      <td>0</td>\n",
              "    </tr>\n",
              "    <tr>\n",
              "      <th>4</th>\n",
              "      <td>1305000083</td>\n",
              "      <td>BOATENG</td>\n",
              "      <td>AKUA ANKAMA</td>\n",
              "      <td>249143369.0</td>\n",
              "      <td>1</td>\n",
              "    </tr>\n",
              "  </tbody>\n",
              "</table>\n",
              "</div>"
            ],
            "text/plain": [
              "      VoterId         Surname   OtherNames  PhoneNumber  Sex\n",
              "0  1324000659        AMPONSAH      DEBORAH  247645414.0    1\n",
              "1  1327000179           SAKYI          YAW  208286128.0    0\n",
              "2  1324000109           SHEHU         RABI  557343969.0    1\n",
              "3  1304000921  NKANSAH MENSAH     EMMANUEL  245897537.0    0\n",
              "4  1305000083         BOATENG  AKUA ANKAMA  249143369.0    1"
            ]
          },
          "metadata": {
            "tags": []
          },
          "execution_count": 60
        }
      ]
    },
    {
      "cell_type": "code",
      "metadata": {
        "colab": {
          "base_uri": "https://localhost:8080/"
        },
        "id": "e4Zwo5VIExlp",
        "outputId": "b6a580c2-10fd-480f-ebeb-6994a88bb3b6"
      },
      "source": [
        "df1.shape"
      ],
      "execution_count": null,
      "outputs": [
        {
          "output_type": "execute_result",
          "data": {
            "text/plain": [
              "(17060678, 5)"
            ]
          },
          "metadata": {
            "tags": []
          },
          "execution_count": 61
        }
      ]
    },
    {
      "cell_type": "code",
      "metadata": {
        "colab": {
          "base_uri": "https://localhost:8080/"
        },
        "id": "SpgahPDcE6tr",
        "outputId": "d556d2a0-d1c6-45e3-be2f-439b2efaa93b"
      },
      "source": [
        "df1.info()"
      ],
      "execution_count": null,
      "outputs": [
        {
          "output_type": "stream",
          "text": [
            "<class 'pandas.core.frame.DataFrame'>\n",
            "RangeIndex: 17060678 entries, 0 to 17060677\n",
            "Data columns (total 5 columns):\n",
            " #   Column       Dtype  \n",
            "---  ------       -----  \n",
            " 0   VoterId      int64  \n",
            " 1   Surname      object \n",
            " 2   OtherNames   object \n",
            " 3   PhoneNumber  float64\n",
            " 4   Sex          int64  \n",
            "dtypes: float64(1), int64(2), object(2)\n",
            "memory usage: 650.8+ MB\n"
          ],
          "name": "stdout"
        }
      ]
    },
    {
      "cell_type": "code",
      "metadata": {
        "colab": {
          "base_uri": "https://localhost:8080/"
        },
        "id": "Ie4-X3W7FHOy",
        "outputId": "30da2825-3e7c-451f-9b44-60028ad13a12"
      },
      "source": [
        "df1.columns"
      ],
      "execution_count": null,
      "outputs": [
        {
          "output_type": "execute_result",
          "data": {
            "text/plain": [
              "Index(['VoterId', 'Surname', 'OtherNames', 'PhoneNumber', 'Sex'], dtype='object')"
            ]
          },
          "metadata": {
            "tags": []
          },
          "execution_count": 63
        }
      ]
    },
    {
      "cell_type": "code",
      "metadata": {
        "id": "aVNFMolAEGbN"
      },
      "source": [
        "# Input any OneDrive URL \n",
        "onedrive_url = \"https://1drv.ms/u/s!Ar7Id1qctGAZgxkHhpS8enZv1KlY?e=4vbf9q\"\n",
        "# Generate Direct Download URL from above Script\n",
        "direct_download_url = create_onedrive_directdownload(onedrive_url)\n",
        "# Load Dataset to the Dataframe\n",
        "df2 = pd.read_csv(direct_download_url)"
      ],
      "execution_count": null,
      "outputs": []
    },
    {
      "cell_type": "code",
      "metadata": {
        "colab": {
          "base_uri": "https://localhost:8080/",
          "height": 206
        },
        "id": "G0H4UU2zGo6b",
        "outputId": "0381abb4-e17c-4f65-8145-35e55a172434"
      },
      "source": [
        "df2.head(5)"
      ],
      "execution_count": null,
      "outputs": [
        {
          "output_type": "execute_result",
          "data": {
            "text/html": [
              "<div>\n",
              "<style scoped>\n",
              "    .dataframe tbody tr th:only-of-type {\n",
              "        vertical-align: middle;\n",
              "    }\n",
              "\n",
              "    .dataframe tbody tr th {\n",
              "        vertical-align: top;\n",
              "    }\n",
              "\n",
              "    .dataframe thead th {\n",
              "        text-align: right;\n",
              "    }\n",
              "</style>\n",
              "<table border=\"1\" class=\"dataframe\">\n",
              "  <thead>\n",
              "    <tr style=\"text-align: right;\">\n",
              "      <th></th>\n",
              "      <th>VoterId</th>\n",
              "      <th>EstimatedAge</th>\n",
              "    </tr>\n",
              "  </thead>\n",
              "  <tbody>\n",
              "    <tr>\n",
              "      <th>0</th>\n",
              "      <td>1324000659</td>\n",
              "      <td>43</td>\n",
              "    </tr>\n",
              "    <tr>\n",
              "      <th>1</th>\n",
              "      <td>1327000179</td>\n",
              "      <td>70</td>\n",
              "    </tr>\n",
              "    <tr>\n",
              "      <th>2</th>\n",
              "      <td>1324000109</td>\n",
              "      <td>32</td>\n",
              "    </tr>\n",
              "    <tr>\n",
              "      <th>3</th>\n",
              "      <td>1304000921</td>\n",
              "      <td>42</td>\n",
              "    </tr>\n",
              "    <tr>\n",
              "      <th>4</th>\n",
              "      <td>1305000083</td>\n",
              "      <td>22</td>\n",
              "    </tr>\n",
              "  </tbody>\n",
              "</table>\n",
              "</div>"
            ],
            "text/plain": [
              "      VoterId  EstimatedAge\n",
              "0  1324000659            43\n",
              "1  1327000179            70\n",
              "2  1324000109            32\n",
              "3  1304000921            42\n",
              "4  1305000083            22"
            ]
          },
          "metadata": {
            "tags": []
          },
          "execution_count": 65
        }
      ]
    },
    {
      "cell_type": "code",
      "metadata": {
        "colab": {
          "base_uri": "https://localhost:8080/"
        },
        "id": "inMAA7BEEqxJ",
        "outputId": "dc353b01-4645-40e8-df53-bce442a051f9"
      },
      "source": [
        "df2.shape"
      ],
      "execution_count": null,
      "outputs": [
        {
          "output_type": "execute_result",
          "data": {
            "text/plain": [
              "(17060678, 2)"
            ]
          },
          "metadata": {
            "tags": []
          },
          "execution_count": 66
        }
      ]
    },
    {
      "cell_type": "code",
      "metadata": {
        "colab": {
          "base_uri": "https://localhost:8080/"
        },
        "id": "B5jw7KsiEzwH",
        "outputId": "1574f55b-cb4b-4e9f-8fd9-8a90acc0bf11"
      },
      "source": [
        "df2.info()"
      ],
      "execution_count": null,
      "outputs": [
        {
          "output_type": "stream",
          "text": [
            "<class 'pandas.core.frame.DataFrame'>\n",
            "RangeIndex: 17060678 entries, 0 to 17060677\n",
            "Data columns (total 2 columns):\n",
            " #   Column        Dtype\n",
            "---  ------        -----\n",
            " 0   VoterId       int64\n",
            " 1   EstimatedAge  int64\n",
            "dtypes: int64(2)\n",
            "memory usage: 260.3 MB\n"
          ],
          "name": "stdout"
        }
      ]
    },
    {
      "cell_type": "code",
      "metadata": {
        "colab": {
          "base_uri": "https://localhost:8080/"
        },
        "id": "TLkQdN53FAm7",
        "outputId": "e9ad2b36-374c-4f3a-c394-2e057f7f939f"
      },
      "source": [
        "df2.columns"
      ],
      "execution_count": null,
      "outputs": [
        {
          "output_type": "execute_result",
          "data": {
            "text/plain": [
              "Index(['VoterId', 'EstimatedAge'], dtype='object')"
            ]
          },
          "metadata": {
            "tags": []
          },
          "execution_count": 68
        }
      ]
    },
    {
      "cell_type": "code",
      "metadata": {
        "id": "1WH4tw6_EIB_"
      },
      "source": [
        "df = pd.merge(df1, df2, on=\"VoterId\")"
      ],
      "execution_count": null,
      "outputs": []
    },
    {
      "cell_type": "code",
      "metadata": {
        "id": "CVbRVUbnGbtl"
      },
      "source": [
        "df = df.rename(columns={\"EstimatedAge\": \"Age\"})"
      ],
      "execution_count": null,
      "outputs": []
    },
    {
      "cell_type": "code",
      "metadata": {
        "id": "IODM5EcbQU4x"
      },
      "source": [
        "df = df[df['Age'] < 201]"
      ],
      "execution_count": null,
      "outputs": []
    },
    {
      "cell_type": "code",
      "metadata": {
        "colab": {
          "base_uri": "https://localhost:8080/",
          "height": 206
        },
        "id": "uMsKI_IQGmOF",
        "outputId": "7bf6d9e6-51c0-426d-b591-fe4b8203b865"
      },
      "source": [
        "df.head(5)"
      ],
      "execution_count": null,
      "outputs": [
        {
          "output_type": "execute_result",
          "data": {
            "text/html": [
              "<div>\n",
              "<style scoped>\n",
              "    .dataframe tbody tr th:only-of-type {\n",
              "        vertical-align: middle;\n",
              "    }\n",
              "\n",
              "    .dataframe tbody tr th {\n",
              "        vertical-align: top;\n",
              "    }\n",
              "\n",
              "    .dataframe thead th {\n",
              "        text-align: right;\n",
              "    }\n",
              "</style>\n",
              "<table border=\"1\" class=\"dataframe\">\n",
              "  <thead>\n",
              "    <tr style=\"text-align: right;\">\n",
              "      <th></th>\n",
              "      <th>VoterId</th>\n",
              "      <th>Surname</th>\n",
              "      <th>OtherNames</th>\n",
              "      <th>PhoneNumber</th>\n",
              "      <th>Sex</th>\n",
              "      <th>Age</th>\n",
              "    </tr>\n",
              "  </thead>\n",
              "  <tbody>\n",
              "    <tr>\n",
              "      <th>0</th>\n",
              "      <td>1324000659</td>\n",
              "      <td>AMPONSAH</td>\n",
              "      <td>DEBORAH</td>\n",
              "      <td>247645414.0</td>\n",
              "      <td>1</td>\n",
              "      <td>43</td>\n",
              "    </tr>\n",
              "    <tr>\n",
              "      <th>1</th>\n",
              "      <td>1327000179</td>\n",
              "      <td>SAKYI</td>\n",
              "      <td>YAW</td>\n",
              "      <td>208286128.0</td>\n",
              "      <td>0</td>\n",
              "      <td>70</td>\n",
              "    </tr>\n",
              "    <tr>\n",
              "      <th>2</th>\n",
              "      <td>1324000109</td>\n",
              "      <td>SHEHU</td>\n",
              "      <td>RABI</td>\n",
              "      <td>557343969.0</td>\n",
              "      <td>1</td>\n",
              "      <td>32</td>\n",
              "    </tr>\n",
              "    <tr>\n",
              "      <th>3</th>\n",
              "      <td>1304000921</td>\n",
              "      <td>NKANSAH MENSAH</td>\n",
              "      <td>EMMANUEL</td>\n",
              "      <td>245897537.0</td>\n",
              "      <td>0</td>\n",
              "      <td>42</td>\n",
              "    </tr>\n",
              "    <tr>\n",
              "      <th>4</th>\n",
              "      <td>1305000083</td>\n",
              "      <td>BOATENG</td>\n",
              "      <td>AKUA ANKAMA</td>\n",
              "      <td>249143369.0</td>\n",
              "      <td>1</td>\n",
              "      <td>22</td>\n",
              "    </tr>\n",
              "  </tbody>\n",
              "</table>\n",
              "</div>"
            ],
            "text/plain": [
              "      VoterId         Surname   OtherNames  PhoneNumber  Sex  Age\n",
              "0  1324000659        AMPONSAH      DEBORAH  247645414.0    1   43\n",
              "1  1327000179           SAKYI          YAW  208286128.0    0   70\n",
              "2  1324000109           SHEHU         RABI  557343969.0    1   32\n",
              "3  1304000921  NKANSAH MENSAH     EMMANUEL  245897537.0    0   42\n",
              "4  1305000083         BOATENG  AKUA ANKAMA  249143369.0    1   22"
            ]
          },
          "metadata": {
            "tags": []
          },
          "execution_count": 72
        }
      ]
    },
    {
      "cell_type": "code",
      "metadata": {
        "colab": {
          "base_uri": "https://localhost:8080/"
        },
        "id": "0AkJ12kFFpi4",
        "outputId": "e788c6c9-c2b1-41cc-8287-c76ec60335b0"
      },
      "source": [
        "df.shape"
      ],
      "execution_count": null,
      "outputs": [
        {
          "output_type": "execute_result",
          "data": {
            "text/plain": [
              "(17059638, 6)"
            ]
          },
          "metadata": {
            "tags": []
          },
          "execution_count": 73
        }
      ]
    },
    {
      "cell_type": "code",
      "metadata": {
        "colab": {
          "base_uri": "https://localhost:8080/"
        },
        "id": "S1q5gfD6Fri7",
        "outputId": "288f2878-e322-4b1a-c2c4-f65a843cdb28"
      },
      "source": [
        "df.info()"
      ],
      "execution_count": null,
      "outputs": [
        {
          "output_type": "stream",
          "text": [
            "<class 'pandas.core.frame.DataFrame'>\n",
            "Int64Index: 17059638 entries, 0 to 17060677\n",
            "Data columns (total 6 columns):\n",
            " #   Column       Dtype  \n",
            "---  ------       -----  \n",
            " 0   VoterId      int64  \n",
            " 1   Surname      object \n",
            " 2   OtherNames   object \n",
            " 3   PhoneNumber  float64\n",
            " 4   Sex          int64  \n",
            " 5   Age          int64  \n",
            "dtypes: float64(1), int64(3), object(2)\n",
            "memory usage: 911.1+ MB\n"
          ],
          "name": "stdout"
        }
      ]
    },
    {
      "cell_type": "code",
      "metadata": {
        "colab": {
          "base_uri": "https://localhost:8080/"
        },
        "id": "WKkLo8cUFvxl",
        "outputId": "b90a96a9-a9e4-4f9a-a236-fd9d4d33cdff"
      },
      "source": [
        "df.columns"
      ],
      "execution_count": null,
      "outputs": [
        {
          "output_type": "execute_result",
          "data": {
            "text/plain": [
              "Index(['VoterId', 'Surname', 'OtherNames', 'PhoneNumber', 'Sex', 'Age'], dtype='object')"
            ]
          },
          "metadata": {
            "tags": []
          },
          "execution_count": 75
        }
      ]
    },
    {
      "cell_type": "markdown",
      "metadata": {
        "id": "wLuXNy8XHIMK"
      },
      "source": [
        "## Dropping irrelevant columns"
      ]
    },
    {
      "cell_type": "code",
      "metadata": {
        "colab": {
          "base_uri": "https://localhost:8080/"
        },
        "id": "6U6ONFHWHOM0",
        "outputId": "f5b6edc8-1427-48ac-fdf2-fa732848d9e8"
      },
      "source": [
        "df = df.drop(['Surname', 'OtherNames', 'PhoneNumber'], axis=1)\n",
        "df.info()"
      ],
      "execution_count": null,
      "outputs": [
        {
          "output_type": "stream",
          "text": [
            "<class 'pandas.core.frame.DataFrame'>\n",
            "Int64Index: 17059638 entries, 0 to 17060677\n",
            "Data columns (total 3 columns):\n",
            " #   Column   Dtype\n",
            "---  ------   -----\n",
            " 0   VoterId  int64\n",
            " 1   Sex      int64\n",
            " 2   Age      int64\n",
            "dtypes: int64(3)\n",
            "memory usage: 520.6 MB\n"
          ],
          "name": "stdout"
        }
      ]
    },
    {
      "cell_type": "markdown",
      "metadata": {
        "id": "0maCaopFLI7u"
      },
      "source": [
        "## Split data by gender"
      ]
    },
    {
      "cell_type": "code",
      "metadata": {
        "id": "2DCnBVwxLRLe"
      },
      "source": [
        "dfMales = df[df['Sex'] == 0]"
      ],
      "execution_count": null,
      "outputs": []
    },
    {
      "cell_type": "code",
      "metadata": {
        "colab": {
          "base_uri": "https://localhost:8080/"
        },
        "id": "oVNC_t0BL3bi",
        "outputId": "1ded7699-75da-40a3-8000-a6a03ad42a63"
      },
      "source": [
        "dfMales.info()"
      ],
      "execution_count": null,
      "outputs": [
        {
          "output_type": "stream",
          "text": [
            "<class 'pandas.core.frame.DataFrame'>\n",
            "Int64Index: 8237561 entries, 1 to 17060677\n",
            "Data columns (total 3 columns):\n",
            " #   Column   Dtype\n",
            "---  ------   -----\n",
            " 0   VoterId  int64\n",
            " 1   Sex      int64\n",
            " 2   Age      int64\n",
            "dtypes: int64(3)\n",
            "memory usage: 251.4 MB\n"
          ],
          "name": "stdout"
        }
      ]
    },
    {
      "cell_type": "code",
      "metadata": {
        "id": "X2xVxGCEL90e"
      },
      "source": [
        "dfFemales = df[df['Sex'] == 1]"
      ],
      "execution_count": null,
      "outputs": []
    },
    {
      "cell_type": "code",
      "metadata": {
        "colab": {
          "base_uri": "https://localhost:8080/"
        },
        "id": "1TwVSsOBMDn1",
        "outputId": "03a3acdb-ebb7-4b5f-8d6d-003d6c618c3f"
      },
      "source": [
        "dfFemales.info()"
      ],
      "execution_count": null,
      "outputs": [
        {
          "output_type": "stream",
          "text": [
            "<class 'pandas.core.frame.DataFrame'>\n",
            "Int64Index: 8822077 entries, 0 to 17060676\n",
            "Data columns (total 3 columns):\n",
            " #   Column   Dtype\n",
            "---  ------   -----\n",
            " 0   VoterId  int64\n",
            " 1   Sex      int64\n",
            " 2   Age      int64\n",
            "dtypes: int64(3)\n",
            "memory usage: 269.2 MB\n"
          ],
          "name": "stdout"
        }
      ]
    },
    {
      "cell_type": "markdown",
      "metadata": {
        "id": "3SrCoLHMMVrr"
      },
      "source": [
        "## Measures of central tendency"
      ]
    },
    {
      "cell_type": "markdown",
      "metadata": {
        "id": "o7nPo-zqMceL"
      },
      "source": [
        "### Mode Age of the General Electorates"
      ]
    },
    {
      "cell_type": "code",
      "metadata": {
        "colab": {
          "base_uri": "https://localhost:8080/"
        },
        "id": "h_PgW2F3Mq6a",
        "outputId": "e94a2606-dece-481d-a329-0cf2e796c305"
      },
      "source": [
        "# mode age of the general electorates\n",
        "df['Age'].mode()"
      ],
      "execution_count": null,
      "outputs": [
        {
          "output_type": "execute_result",
          "data": {
            "text/plain": [
              "0    18\n",
              "dtype: int64"
            ]
          },
          "metadata": {
            "tags": []
          },
          "execution_count": 81
        }
      ]
    },
    {
      "cell_type": "markdown",
      "metadata": {
        "id": "RJ-4CvyeNi7x"
      },
      "source": [
        "### Mean Age of the General Electorates"
      ]
    },
    {
      "cell_type": "code",
      "metadata": {
        "colab": {
          "base_uri": "https://localhost:8080/"
        },
        "id": "gZVVuFbBNpHc",
        "outputId": "84732e22-6881-4788-8303-ba9badca7ffa"
      },
      "source": [
        "# mean age of the general electorates\n",
        "round(df['Age'].mean(), 2)"
      ],
      "execution_count": null,
      "outputs": [
        {
          "output_type": "execute_result",
          "data": {
            "text/plain": [
              "36.85"
            ]
          },
          "metadata": {
            "tags": []
          },
          "execution_count": 82
        }
      ]
    },
    {
      "cell_type": "markdown",
      "metadata": {
        "id": "JbUk5-hnNkfq"
      },
      "source": [
        "### Median Age of the General Electorates"
      ]
    },
    {
      "cell_type": "code",
      "metadata": {
        "colab": {
          "base_uri": "https://localhost:8080/"
        },
        "id": "w2SrxVoHNp4g",
        "outputId": "df64d625-43a1-4ddd-dd3d-fa20fb8647c7"
      },
      "source": [
        "# median age of the general electorates\n",
        "df['Age'].median()"
      ],
      "execution_count": null,
      "outputs": [
        {
          "output_type": "execute_result",
          "data": {
            "text/plain": [
              "33.0"
            ]
          },
          "metadata": {
            "tags": []
          },
          "execution_count": 83
        }
      ]
    },
    {
      "cell_type": "markdown",
      "metadata": {
        "id": "CLR8maTIO8LM"
      },
      "source": [
        "### Measures of Dispersion of the General Electorates"
      ]
    },
    {
      "cell_type": "code",
      "metadata": {
        "colab": {
          "base_uri": "https://localhost:8080/"
        },
        "id": "_AOmrpE8PABV",
        "outputId": "05734bb5-17a3-48fa-8736-f05fd72e1733"
      },
      "source": [
        "# quantiles\n",
        "df['Age'].quantile([.35, .5, .75])"
      ],
      "execution_count": null,
      "outputs": [
        {
          "output_type": "execute_result",
          "data": {
            "text/plain": [
              "0.35    28.0\n",
              "0.50    33.0\n",
              "0.75    46.0\n",
              "Name: Age, dtype: float64"
            ]
          },
          "metadata": {
            "tags": []
          },
          "execution_count": 84
        }
      ]
    },
    {
      "cell_type": "markdown",
      "metadata": {
        "id": "HYA5R3X9PZjD"
      },
      "source": [
        "### Range of the ages of the General Electorates"
      ]
    },
    {
      "cell_type": "code",
      "metadata": {
        "colab": {
          "base_uri": "https://localhost:8080/"
        },
        "id": "2vz7X00HPkfB",
        "outputId": "dfe8870e-7642-4c12-b181-b7f29cfa2649"
      },
      "source": [
        "# Range\n",
        "df['Age'].max() - df['Age'].min()"
      ],
      "execution_count": null,
      "outputs": [
        {
          "output_type": "execute_result",
          "data": {
            "text/plain": [
              "173"
            ]
          },
          "metadata": {
            "tags": []
          },
          "execution_count": 85
        }
      ]
    },
    {
      "cell_type": "markdown",
      "metadata": {
        "id": "XLVprpvwR3oE"
      },
      "source": [
        "### Standard Deviation of the General Electorates"
      ]
    },
    {
      "cell_type": "code",
      "metadata": {
        "colab": {
          "base_uri": "https://localhost:8080/"
        },
        "id": "BBI6B3guSIgo",
        "outputId": "1c2900e8-f7c6-4793-b80c-3aeb27076105"
      },
      "source": [
        "# standard deviation\n",
        "round(df['Age'].std(),2)"
      ],
      "execution_count": null,
      "outputs": [
        {
          "output_type": "execute_result",
          "data": {
            "text/plain": [
              "15.27"
            ]
          },
          "metadata": {
            "tags": []
          },
          "execution_count": 86
        }
      ]
    },
    {
      "cell_type": "markdown",
      "metadata": {
        "id": "ZAQFKitaSUga"
      },
      "source": [
        "### Summary Statistics for the General Electorates"
      ]
    },
    {
      "cell_type": "code",
      "metadata": {
        "colab": {
          "base_uri": "https://localhost:8080/"
        },
        "id": "mWUt4YM1SbFJ",
        "outputId": "c1f34950-f294-4b17-f6c9-b079c059772f"
      },
      "source": [
        "round(df['Age'].describe(),2)"
      ],
      "execution_count": null,
      "outputs": [
        {
          "output_type": "execute_result",
          "data": {
            "text/plain": [
              "count    17059638.00\n",
              "mean           36.85\n",
              "std            15.27\n",
              "min            18.00\n",
              "25%            25.00\n",
              "50%            33.00\n",
              "75%            46.00\n",
              "max           191.00\n",
              "Name: Age, dtype: float64"
            ]
          },
          "metadata": {
            "tags": []
          },
          "execution_count": 88
        }
      ]
    },
    {
      "cell_type": "markdown",
      "metadata": {
        "id": "cVtjEO4cr6D9"
      },
      "source": [
        "## Descriptive Statistics of Male Electorates"
      ]
    },
    {
      "cell_type": "markdown",
      "metadata": {
        "id": "6SMpF2u7SsUv"
      },
      "source": [
        "### Mode Age of all Males"
      ]
    },
    {
      "cell_type": "code",
      "metadata": {
        "colab": {
          "base_uri": "https://localhost:8080/"
        },
        "id": "ffoTNwtVSsUw",
        "outputId": "f29c7ef4-4183-4e3b-fa88-ca4a3e4425ea"
      },
      "source": [
        "# mode age of all Males\n",
        "dfMales['Age'].mode()"
      ],
      "execution_count": null,
      "outputs": [
        {
          "output_type": "execute_result",
          "data": {
            "text/plain": [
              "0    18\n",
              "dtype: int64"
            ]
          },
          "metadata": {
            "tags": []
          },
          "execution_count": 89
        }
      ]
    },
    {
      "cell_type": "markdown",
      "metadata": {
        "id": "US1-OPElSsUx"
      },
      "source": [
        "### Mean Age of all Males"
      ]
    },
    {
      "cell_type": "code",
      "metadata": {
        "colab": {
          "base_uri": "https://localhost:8080/"
        },
        "id": "3hJUqrtNSsUy",
        "outputId": "fdf56ae9-f9a4-4cfa-bd13-0c8411dfba14"
      },
      "source": [
        "# mean age of the all Males\n",
        "round(dfMales['Age'].mean(), 2)"
      ],
      "execution_count": null,
      "outputs": [
        {
          "output_type": "execute_result",
          "data": {
            "text/plain": [
              "36.32"
            ]
          },
          "metadata": {
            "tags": []
          },
          "execution_count": 90
        }
      ]
    },
    {
      "cell_type": "markdown",
      "metadata": {
        "id": "z93YxKBvSsUy"
      },
      "source": [
        "### Median Age of all Males"
      ]
    },
    {
      "cell_type": "code",
      "metadata": {
        "colab": {
          "base_uri": "https://localhost:8080/"
        },
        "id": "3XaZj9yUSsUz",
        "outputId": "38eeb6ba-3863-4502-deda-02ddcfa6edce"
      },
      "source": [
        "# median age of all Males\n",
        "dfMales['Age'].median()"
      ],
      "execution_count": null,
      "outputs": [
        {
          "output_type": "execute_result",
          "data": {
            "text/plain": [
              "33.0"
            ]
          },
          "metadata": {
            "tags": []
          },
          "execution_count": 92
        }
      ]
    },
    {
      "cell_type": "markdown",
      "metadata": {
        "id": "8OIWVR03SsU0"
      },
      "source": [
        "### Measures of Dispersion of all Males"
      ]
    },
    {
      "cell_type": "code",
      "metadata": {
        "colab": {
          "base_uri": "https://localhost:8080/"
        },
        "id": "TgtCoiPUSsU0",
        "outputId": "0f2a408f-b984-47ef-ee29-351e7980caaa"
      },
      "source": [
        "# quantiles\n",
        "dfMales['Age'].quantile([.35, .5, .75])"
      ],
      "execution_count": null,
      "outputs": [
        {
          "output_type": "execute_result",
          "data": {
            "text/plain": [
              "0.35    28.0\n",
              "0.50    33.0\n",
              "0.75    45.0\n",
              "Name: Age, dtype: float64"
            ]
          },
          "metadata": {
            "tags": []
          },
          "execution_count": 93
        }
      ]
    },
    {
      "cell_type": "markdown",
      "metadata": {
        "id": "SNrtSA8ySsU1"
      },
      "source": [
        "### Range of the ages of all Males"
      ]
    },
    {
      "cell_type": "code",
      "metadata": {
        "colab": {
          "base_uri": "https://localhost:8080/"
        },
        "id": "UBet8VWLSsU1",
        "outputId": "537cd0c1-d90c-4d1e-aae8-f193b4a0932d"
      },
      "source": [
        "# Range\n",
        "dfMales['Age'].max() - dfMales['Age'].min()"
      ],
      "execution_count": null,
      "outputs": [
        {
          "output_type": "execute_result",
          "data": {
            "text/plain": [
              "170"
            ]
          },
          "metadata": {
            "tags": []
          },
          "execution_count": 97
        }
      ]
    },
    {
      "cell_type": "markdown",
      "metadata": {
        "id": "NrW3Frk1SsU2"
      },
      "source": [
        "### Standard Deviation of all Males"
      ]
    },
    {
      "cell_type": "code",
      "metadata": {
        "colab": {
          "base_uri": "https://localhost:8080/"
        },
        "id": "QH1DwegrSsU2",
        "outputId": "40e28872-2bbd-462c-8b9f-031b0a070e65"
      },
      "source": [
        "# standard deviation\n",
        "round(dfMales['Age'].std(),2)"
      ],
      "execution_count": null,
      "outputs": [
        {
          "output_type": "execute_result",
          "data": {
            "text/plain": [
              "14.88"
            ]
          },
          "metadata": {
            "tags": []
          },
          "execution_count": 95
        }
      ]
    },
    {
      "cell_type": "markdown",
      "metadata": {
        "id": "MJIy3c3tSsU4"
      },
      "source": [
        "### Summary Statistics for all Males"
      ]
    },
    {
      "cell_type": "code",
      "metadata": {
        "colab": {
          "base_uri": "https://localhost:8080/"
        },
        "id": "HPqKyjopSsU4",
        "outputId": "615d5372-1596-4e5d-8d49-0d4f68aad5c8"
      },
      "source": [
        "round(dfMales['Age'].describe(),2)"
      ],
      "execution_count": null,
      "outputs": [
        {
          "output_type": "execute_result",
          "data": {
            "text/plain": [
              "count    8237561.00\n",
              "mean          36.32\n",
              "std           14.88\n",
              "min           18.00\n",
              "25%           24.00\n",
              "50%           33.00\n",
              "75%           45.00\n",
              "max          188.00\n",
              "Name: Age, dtype: float64"
            ]
          },
          "metadata": {
            "tags": []
          },
          "execution_count": 96
        }
      ]
    },
    {
      "cell_type": "markdown",
      "metadata": {
        "id": "C64MEho3sHs9"
      },
      "source": [
        "## Descriptive Statistics of Female Electorates"
      ]
    },
    {
      "cell_type": "markdown",
      "metadata": {
        "id": "VVh1RLgEsHs9"
      },
      "source": [
        "### Mode Age of all Females"
      ]
    },
    {
      "cell_type": "code",
      "metadata": {
        "colab": {
          "base_uri": "https://localhost:8080/"
        },
        "id": "HSpcMusKsHs-",
        "outputId": "8db60655-5787-491c-e71e-e91090608b06"
      },
      "source": [
        "# mode age of all Females\n",
        "dfFemales['Age'].mode()"
      ],
      "execution_count": null,
      "outputs": [
        {
          "output_type": "execute_result",
          "data": {
            "text/plain": [
              "0    18\n",
              "dtype: int64"
            ]
          },
          "metadata": {
            "tags": []
          },
          "execution_count": 98
        }
      ]
    },
    {
      "cell_type": "markdown",
      "metadata": {
        "id": "0fU5l7t1sHs-"
      },
      "source": [
        "### Mean Age of all Females"
      ]
    },
    {
      "cell_type": "code",
      "metadata": {
        "colab": {
          "base_uri": "https://localhost:8080/"
        },
        "id": "qWgAfhP6sHs_",
        "outputId": "ac74e761-ce6c-45a8-e92a-076c505ec959"
      },
      "source": [
        "# mean age of the all Females\n",
        "round(dfFemales['Age'].mean(), 2)"
      ],
      "execution_count": null,
      "outputs": [
        {
          "output_type": "execute_result",
          "data": {
            "text/plain": [
              "37.35"
            ]
          },
          "metadata": {
            "tags": []
          },
          "execution_count": 99
        }
      ]
    },
    {
      "cell_type": "markdown",
      "metadata": {
        "id": "53dG1LGlsHs_"
      },
      "source": [
        "### Median Age of all Females"
      ]
    },
    {
      "cell_type": "code",
      "metadata": {
        "colab": {
          "base_uri": "https://localhost:8080/"
        },
        "id": "HeP57GcdsHs_",
        "outputId": "985d819b-1582-4650-e3e3-17b3b0e359b8"
      },
      "source": [
        "# median age of all Females\n",
        "dfFemales['Age'].median()"
      ],
      "execution_count": null,
      "outputs": [
        {
          "output_type": "execute_result",
          "data": {
            "text/plain": [
              "34.0"
            ]
          },
          "metadata": {
            "tags": []
          },
          "execution_count": 100
        }
      ]
    },
    {
      "cell_type": "markdown",
      "metadata": {
        "id": "NJ8VMl_tsHtA"
      },
      "source": [
        "### Measures of Dispersion of all Females"
      ]
    },
    {
      "cell_type": "code",
      "metadata": {
        "colab": {
          "base_uri": "https://localhost:8080/"
        },
        "id": "Gj0ch_Q-sHtA",
        "outputId": "0dfc950a-0d97-4c9e-81ee-61471f4470ba"
      },
      "source": [
        "# quantiles\n",
        "dfFemales['Age'].quantile([.35, .5, .75])"
      ],
      "execution_count": null,
      "outputs": [
        {
          "output_type": "execute_result",
          "data": {
            "text/plain": [
              "0.35    28.0\n",
              "0.50    34.0\n",
              "0.75    47.0\n",
              "Name: Age, dtype: float64"
            ]
          },
          "metadata": {
            "tags": []
          },
          "execution_count": 101
        }
      ]
    },
    {
      "cell_type": "markdown",
      "metadata": {
        "id": "LnE4LrsBsHtA"
      },
      "source": [
        "### Range of the ages of all Females"
      ]
    },
    {
      "cell_type": "code",
      "metadata": {
        "colab": {
          "base_uri": "https://localhost:8080/"
        },
        "id": "CuzIu3G5sHtA",
        "outputId": "55c6c26e-a822-4413-e4f7-4d0af21f7bc1"
      },
      "source": [
        "# Range\n",
        "dfFemales['Age'].max() - dfFemales['Age'].min()"
      ],
      "execution_count": null,
      "outputs": [
        {
          "output_type": "execute_result",
          "data": {
            "text/plain": [
              "173"
            ]
          },
          "metadata": {
            "tags": []
          },
          "execution_count": 102
        }
      ]
    },
    {
      "cell_type": "markdown",
      "metadata": {
        "id": "WZUR5MD-sHtB"
      },
      "source": [
        "### Standard Deviation of all Females"
      ]
    },
    {
      "cell_type": "code",
      "metadata": {
        "colab": {
          "base_uri": "https://localhost:8080/"
        },
        "id": "EJdTLsB-sHtB",
        "outputId": "3dc44e71-133c-43db-f458-81e1b5c34f00"
      },
      "source": [
        "# standard deviation\n",
        "round(dfFemales['Age'].std(),2)"
      ],
      "execution_count": null,
      "outputs": [
        {
          "output_type": "execute_result",
          "data": {
            "text/plain": [
              "15.61"
            ]
          },
          "metadata": {
            "tags": []
          },
          "execution_count": 104
        }
      ]
    },
    {
      "cell_type": "markdown",
      "metadata": {
        "id": "EdK2bzd0sHtB"
      },
      "source": [
        "### Summary Statistics for all Females"
      ]
    },
    {
      "cell_type": "code",
      "metadata": {
        "colab": {
          "base_uri": "https://localhost:8080/"
        },
        "id": "lmwxCLrJsHtB",
        "outputId": "a87bf6a1-fa16-45c7-e931-86639b8cbcb8"
      },
      "source": [
        "round(dfFemales['Age'].describe(),2)"
      ],
      "execution_count": null,
      "outputs": [
        {
          "output_type": "execute_result",
          "data": {
            "text/plain": [
              "count    8822077.00\n",
              "mean          37.35\n",
              "std           15.61\n",
              "min           18.00\n",
              "25%           25.00\n",
              "50%           34.00\n",
              "75%           47.00\n",
              "max          191.00\n",
              "Name: Age, dtype: float64"
            ]
          },
          "metadata": {
            "tags": []
          },
          "execution_count": 105
        }
      ]
    },
    {
      "cell_type": "markdown",
      "metadata": {
        "id": "mE3au86dtcXB"
      },
      "source": [
        "## Categorize the data into age ranges for the general electorates and by sex\n",
        "The ages ranges are:\n",
        "1. 18 - 19\n",
        "2. 20 - 29\n",
        "3. 30 - 39\n",
        "4. 40 - 49\n",
        "5. 50 - 59\n",
        "6. 70 and above"
      ]
    },
    {
      "cell_type": "markdown",
      "metadata": {
        "id": "JHm7TXwKuF-0"
      },
      "source": [
        "### General Data Categorization\n"
      ]
    },
    {
      "cell_type": "code",
      "metadata": {
        "colab": {
          "base_uri": "https://localhost:8080/"
        },
        "id": "YDS3-a3nuNC-",
        "outputId": "2ab9927c-ab8e-421b-e404-dfb4bd4935cf"
      },
      "source": [
        "# Electorals from 18 to 19 years\n",
        "df18_19 = df[df['Age'] < 20]\n",
        "df18_19.info();"
      ],
      "execution_count": null,
      "outputs": [
        {
          "output_type": "stream",
          "text": [
            "<class 'pandas.core.frame.DataFrame'>\n",
            "Int64Index: 1424942 entries, 9 to 17060674\n",
            "Data columns (total 3 columns):\n",
            " #   Column   Non-Null Count    Dtype\n",
            "---  ------   --------------    -----\n",
            " 0   VoterId  1424942 non-null  int64\n",
            " 1   Sex      1424942 non-null  int64\n",
            " 2   Age      1424942 non-null  int64\n",
            "dtypes: int64(3)\n",
            "memory usage: 43.5 MB\n"
          ],
          "name": "stdout"
        }
      ]
    },
    {
      "cell_type": "code",
      "metadata": {
        "colab": {
          "base_uri": "https://localhost:8080/"
        },
        "id": "6bGwyb0MujO-",
        "outputId": "c3f0c644-725c-4386-b325-c85fdc4d23c5"
      },
      "source": [
        "# Electorals from 20 to 29 years\n",
        "df20_29 = df[(df['Age'] > 19) & (df['Age'] < 30)]\n",
        "df20_29.info();"
      ],
      "execution_count": null,
      "outputs": [
        {
          "output_type": "stream",
          "text": [
            "<class 'pandas.core.frame.DataFrame'>\n",
            "Int64Index: 5293298 entries, 4 to 17060671\n",
            "Data columns (total 3 columns):\n",
            " #   Column   Dtype\n",
            "---  ------   -----\n",
            " 0   VoterId  int64\n",
            " 1   Sex      int64\n",
            " 2   Age      int64\n",
            "dtypes: int64(3)\n",
            "memory usage: 161.5 MB\n"
          ],
          "name": "stdout"
        }
      ]
    },
    {
      "cell_type": "code",
      "metadata": {
        "colab": {
          "base_uri": "https://localhost:8080/"
        },
        "id": "a5JCCqbPvob4",
        "outputId": "0708b9e2-3da5-4253-9569-15d731ecadea"
      },
      "source": [
        "# Electorals from 30 to 39 years\n",
        "df30_39 = df[(df['Age'] > 29) & (df['Age'] < 40)]\n",
        "df30_39.info();"
      ],
      "execution_count": null,
      "outputs": [
        {
          "output_type": "stream",
          "text": [
            "<class 'pandas.core.frame.DataFrame'>\n",
            "Int64Index: 4148458 entries, 2 to 17060675\n",
            "Data columns (total 3 columns):\n",
            " #   Column   Dtype\n",
            "---  ------   -----\n",
            " 0   VoterId  int64\n",
            " 1   Sex      int64\n",
            " 2   Age      int64\n",
            "dtypes: int64(3)\n",
            "memory usage: 126.6 MB\n"
          ],
          "name": "stdout"
        }
      ]
    },
    {
      "cell_type": "code",
      "metadata": {
        "colab": {
          "base_uri": "https://localhost:8080/"
        },
        "id": "J9iuGtDzvpPA",
        "outputId": "46a177da-5287-4b8c-bc63-0aa2a44716fc"
      },
      "source": [
        "# Electorals from 40 to 49 years\n",
        "df40_49 = df[(df['Age'] > 39) & (df['Age'] < 50)]\n",
        "df40_49.info();"
      ],
      "execution_count": null,
      "outputs": [
        {
          "output_type": "stream",
          "text": [
            "<class 'pandas.core.frame.DataFrame'>\n",
            "Int64Index: 2772283 entries, 0 to 17060677\n",
            "Data columns (total 3 columns):\n",
            " #   Column   Dtype\n",
            "---  ------   -----\n",
            " 0   VoterId  int64\n",
            " 1   Sex      int64\n",
            " 2   Age      int64\n",
            "dtypes: int64(3)\n",
            "memory usage: 84.6 MB\n"
          ],
          "name": "stdout"
        }
      ]
    },
    {
      "cell_type": "code",
      "metadata": {
        "colab": {
          "base_uri": "https://localhost:8080/"
        },
        "id": "qPm9tZq3vpcF",
        "outputId": "8a2520c8-cf95-46bd-ffdd-8b0d30e938f7"
      },
      "source": [
        "# Electorals from 50 to 59 years\n",
        "df50_59 = df[(df['Age'] > 49) & (df['Age'] < 60)]\n",
        "df50_59.info();"
      ],
      "execution_count": null,
      "outputs": [
        {
          "output_type": "stream",
          "text": [
            "<class 'pandas.core.frame.DataFrame'>\n",
            "Int64Index: 1728960 entries, 24 to 17060667\n",
            "Data columns (total 3 columns):\n",
            " #   Column   Dtype\n",
            "---  ------   -----\n",
            " 0   VoterId  int64\n",
            " 1   Sex      int64\n",
            " 2   Age      int64\n",
            "dtypes: int64(3)\n",
            "memory usage: 52.8 MB\n"
          ],
          "name": "stdout"
        }
      ]
    },
    {
      "cell_type": "code",
      "metadata": {
        "colab": {
          "base_uri": "https://localhost:8080/"
        },
        "id": "2p5Koz-Uvpnb",
        "outputId": "57fb6d87-7c79-4ca9-cc3d-9dc02d21d762"
      },
      "source": [
        "# Electorals from 60 years and above\n",
        "dfOver60 = df[df['Age'] > 59]\n",
        "dfOver60.info();"
      ],
      "execution_count": null,
      "outputs": [
        {
          "output_type": "stream",
          "text": [
            "<class 'pandas.core.frame.DataFrame'>\n",
            "Int64Index: 1691697 entries, 1 to 17060676\n",
            "Data columns (total 3 columns):\n",
            " #   Column   Dtype\n",
            "---  ------   -----\n",
            " 0   VoterId  int64\n",
            " 1   Sex      int64\n",
            " 2   Age      int64\n",
            "dtypes: int64(3)\n",
            "memory usage: 51.6 MB\n"
          ],
          "name": "stdout"
        }
      ]
    },
    {
      "cell_type": "code",
      "metadata": {
        "colab": {
          "base_uri": "https://localhost:8080/"
        },
        "id": "GNVgaVYg8DZW",
        "outputId": "7fbec75d-e8d6-4898-e67c-121da8f6b4b5"
      },
      "source": [
        "# General Data Categorization Dictionary\n",
        "genDataDict = {0 : ['18_19', df18_19.shape[0]], 1 : ['20_29', df20_29.shape[0]], 2 : ['30_39', df30_39.shape[0]], 3 : ['40_49', df40_49.shape[0]], 4 : ['50_59', df50_59.shape[0]], 5 : ['60AndAbove', dfOver60.shape[0]]}\n",
        "print(genDataDict)"
      ],
      "execution_count": null,
      "outputs": [
        {
          "output_type": "stream",
          "text": [
            "{0: ['18_19', 1424942], 1: ['20_29', 5293298], 2: ['30_39', 4148458], 3: ['40_49', 2772283], 4: ['50_59', 1728960], 5: ['60AndAbove', 1691697]}\n"
          ],
          "name": "stdout"
        }
      ]
    },
    {
      "cell_type": "code",
      "metadata": {
        "colab": {
          "base_uri": "https://localhost:8080/",
          "height": 237
        },
        "id": "38Nzoq-12BUM",
        "outputId": "79d630e9-2301-47d2-bab0-000c3531ae94"
      },
      "source": [
        "# Create a dataframe from the dictionary\n",
        "genDf = pd.DataFrame.from_dict(genDataDict, orient='index', columns=['AgeGroup','Count'])\n",
        "genDf.head(6)"
      ],
      "execution_count": null,
      "outputs": [
        {
          "output_type": "execute_result",
          "data": {
            "text/html": [
              "<div>\n",
              "<style scoped>\n",
              "    .dataframe tbody tr th:only-of-type {\n",
              "        vertical-align: middle;\n",
              "    }\n",
              "\n",
              "    .dataframe tbody tr th {\n",
              "        vertical-align: top;\n",
              "    }\n",
              "\n",
              "    .dataframe thead th {\n",
              "        text-align: right;\n",
              "    }\n",
              "</style>\n",
              "<table border=\"1\" class=\"dataframe\">\n",
              "  <thead>\n",
              "    <tr style=\"text-align: right;\">\n",
              "      <th></th>\n",
              "      <th>AgeGroup</th>\n",
              "      <th>Count</th>\n",
              "    </tr>\n",
              "  </thead>\n",
              "  <tbody>\n",
              "    <tr>\n",
              "      <th>0</th>\n",
              "      <td>18_19</td>\n",
              "      <td>1424942</td>\n",
              "    </tr>\n",
              "    <tr>\n",
              "      <th>1</th>\n",
              "      <td>20_29</td>\n",
              "      <td>5293298</td>\n",
              "    </tr>\n",
              "    <tr>\n",
              "      <th>2</th>\n",
              "      <td>30_39</td>\n",
              "      <td>4148458</td>\n",
              "    </tr>\n",
              "    <tr>\n",
              "      <th>3</th>\n",
              "      <td>40_49</td>\n",
              "      <td>2772283</td>\n",
              "    </tr>\n",
              "    <tr>\n",
              "      <th>4</th>\n",
              "      <td>50_59</td>\n",
              "      <td>1728960</td>\n",
              "    </tr>\n",
              "    <tr>\n",
              "      <th>5</th>\n",
              "      <td>60AndAbove</td>\n",
              "      <td>1691697</td>\n",
              "    </tr>\n",
              "  </tbody>\n",
              "</table>\n",
              "</div>"
            ],
            "text/plain": [
              "     AgeGroup    Count\n",
              "0       18_19  1424942\n",
              "1       20_29  5293298\n",
              "2       30_39  4148458\n",
              "3       40_49  2772283\n",
              "4       50_59  1728960\n",
              "5  60AndAbove  1691697"
            ]
          },
          "metadata": {
            "tags": []
          },
          "execution_count": 178
        }
      ]
    },
    {
      "cell_type": "markdown",
      "metadata": {
        "id": "KtKMcYaPwm2K"
      },
      "source": [
        "### Male Data Categorization\n"
      ]
    },
    {
      "cell_type": "code",
      "metadata": {
        "colab": {
          "base_uri": "https://localhost:8080/"
        },
        "id": "7BIUKL_Vwm2e",
        "outputId": "86e51ece-ed14-46e2-8b8e-84ff42377fd6"
      },
      "source": [
        "# Male Electorals from 18 to 19 years\n",
        "dfMales18_19 = dfMales[dfMales['Age'] < 20]\n",
        "dfMales18_19.info();"
      ],
      "execution_count": null,
      "outputs": [
        {
          "output_type": "stream",
          "text": [
            "<class 'pandas.core.frame.DataFrame'>\n",
            "Int64Index: 711562 entries, 15 to 17060674\n",
            "Data columns (total 3 columns):\n",
            " #   Column   Non-Null Count   Dtype\n",
            "---  ------   --------------   -----\n",
            " 0   VoterId  711562 non-null  int64\n",
            " 1   Sex      711562 non-null  int64\n",
            " 2   Age      711562 non-null  int64\n",
            "dtypes: int64(3)\n",
            "memory usage: 21.7 MB\n"
          ],
          "name": "stdout"
        }
      ]
    },
    {
      "cell_type": "code",
      "metadata": {
        "colab": {
          "base_uri": "https://localhost:8080/"
        },
        "id": "HgXu_YaWwm2f",
        "outputId": "e53adde3-b010-446a-ca4a-d04ad1020d3f"
      },
      "source": [
        "# Male Electorals from 20 to 29 years\n",
        "dfMales20_29 = dfMales[(dfMales['Age'] > 19) & (dfMales['Age'] < 30)]\n",
        "dfMales20_29.info();"
      ],
      "execution_count": null,
      "outputs": [
        {
          "output_type": "stream",
          "text": [
            "<class 'pandas.core.frame.DataFrame'>\n",
            "Int64Index: 2622201 entries, 7 to 17060671\n",
            "Data columns (total 3 columns):\n",
            " #   Column   Dtype\n",
            "---  ------   -----\n",
            " 0   VoterId  int64\n",
            " 1   Sex      int64\n",
            " 2   Age      int64\n",
            "dtypes: int64(3)\n",
            "memory usage: 80.0 MB\n"
          ],
          "name": "stdout"
        }
      ]
    },
    {
      "cell_type": "code",
      "metadata": {
        "colab": {
          "base_uri": "https://localhost:8080/"
        },
        "id": "tohPwkKAwm2g",
        "outputId": "6de47a0d-5b3a-4c39-ebef-9fd605ee6bba"
      },
      "source": [
        "# Male Electorals from 30 to 39 years\n",
        "dfMales30_39 = dfMales[(dfMales['Age'] > 29) & (dfMales['Age'] < 40)]\n",
        "dfMales30_39.info();"
      ],
      "execution_count": null,
      "outputs": [
        {
          "output_type": "stream",
          "text": [
            "<class 'pandas.core.frame.DataFrame'>\n",
            "Int64Index: 2001112 entries, 10 to 17060662\n",
            "Data columns (total 3 columns):\n",
            " #   Column   Dtype\n",
            "---  ------   -----\n",
            " 0   VoterId  int64\n",
            " 1   Sex      int64\n",
            " 2   Age      int64\n",
            "dtypes: int64(3)\n",
            "memory usage: 61.1 MB\n"
          ],
          "name": "stdout"
        }
      ]
    },
    {
      "cell_type": "code",
      "metadata": {
        "colab": {
          "base_uri": "https://localhost:8080/"
        },
        "id": "HaVtGYsGwm2g",
        "outputId": "daad6416-42bc-4741-f001-8669eceff3c4"
      },
      "source": [
        "# Male Electorals from 40 to 49 years\n",
        "dfMales40_49 = dfMales[(dfMales['Age'] > 39) & (dfMales['Age'] < 50)]\n",
        "dfMales40_49.info();"
      ],
      "execution_count": null,
      "outputs": [
        {
          "output_type": "stream",
          "text": [
            "<class 'pandas.core.frame.DataFrame'>\n",
            "Int64Index: 1343953 entries, 3 to 17060677\n",
            "Data columns (total 3 columns):\n",
            " #   Column   Non-Null Count    Dtype\n",
            "---  ------   --------------    -----\n",
            " 0   VoterId  1343953 non-null  int64\n",
            " 1   Sex      1343953 non-null  int64\n",
            " 2   Age      1343953 non-null  int64\n",
            "dtypes: int64(3)\n",
            "memory usage: 41.0 MB\n"
          ],
          "name": "stdout"
        }
      ]
    },
    {
      "cell_type": "code",
      "metadata": {
        "colab": {
          "base_uri": "https://localhost:8080/"
        },
        "id": "Q_bPKyWiwm2h",
        "outputId": "cedd4f26-d101-4d14-b8d3-f51009e65bfe"
      },
      "source": [
        "# Male Electorals from 50 to 59 years\n",
        "dfMales50_59 = dfMales[(dfMales['Age'] > 49) & (dfMales['Age'] < 60)]\n",
        "dfMales50_59.info();"
      ],
      "execution_count": null,
      "outputs": [
        {
          "output_type": "stream",
          "text": [
            "<class 'pandas.core.frame.DataFrame'>\n",
            "Int64Index: 818202 entries, 42 to 17060667\n",
            "Data columns (total 3 columns):\n",
            " #   Column   Non-Null Count   Dtype\n",
            "---  ------   --------------   -----\n",
            " 0   VoterId  818202 non-null  int64\n",
            " 1   Sex      818202 non-null  int64\n",
            " 2   Age      818202 non-null  int64\n",
            "dtypes: int64(3)\n",
            "memory usage: 25.0 MB\n"
          ],
          "name": "stdout"
        }
      ]
    },
    {
      "cell_type": "code",
      "metadata": {
        "colab": {
          "base_uri": "https://localhost:8080/"
        },
        "id": "e9-jLqHEwm2h",
        "outputId": "e54e3c71-d365-45b4-ead1-e8bdce30d44c"
      },
      "source": [
        "# Male Electorals from 60 years and above\n",
        "dfMalesOver60 = dfMales[dfMales['Age'] > 59]\n",
        "dfMalesOver60.info();"
      ],
      "execution_count": null,
      "outputs": [
        {
          "output_type": "stream",
          "text": [
            "<class 'pandas.core.frame.DataFrame'>\n",
            "Int64Index: 740531 entries, 1 to 17060588\n",
            "Data columns (total 3 columns):\n",
            " #   Column   Non-Null Count   Dtype\n",
            "---  ------   --------------   -----\n",
            " 0   VoterId  740531 non-null  int64\n",
            " 1   Sex      740531 non-null  int64\n",
            " 2   Age      740531 non-null  int64\n",
            "dtypes: int64(3)\n",
            "memory usage: 22.6 MB\n"
          ],
          "name": "stdout"
        }
      ]
    },
    {
      "cell_type": "code",
      "metadata": {
        "colab": {
          "base_uri": "https://localhost:8080/"
        },
        "id": "Bz8_Yc3B1o7w",
        "outputId": "226af2e5-3d85-44dd-b84c-e546642fa4c3"
      },
      "source": [
        "# Male Data Categorization Dictionary\n",
        "maleDataDict = {0 : ['18_19', dfMales18_19.shape[0]], 1 : ['20_29', dfMales20_29.shape[0]], 2 : ['30_39', dfMales30_39.shape[0]], 3 : ['40_49', dfMales40_49.shape[0]], 4 : ['50_59', dfMales50_59.shape[0]], 5 : ['60AndAbove', dfMalesOver60.shape[0]]}\n",
        "print(maleDataDict)"
      ],
      "execution_count": null,
      "outputs": [
        {
          "output_type": "stream",
          "text": [
            "{0: ['18_19', 711562], 1: ['20_29', 2622201], 2: ['30_39', 2001112], 3: ['40_49', 1343953], 4: ['50_59', 818202], 5: ['60AndAbove', 740531]}\n"
          ],
          "name": "stdout"
        }
      ]
    },
    {
      "cell_type": "code",
      "metadata": {
        "colab": {
          "base_uri": "https://localhost:8080/",
          "height": 237
        },
        "id": "1M-cx8ag4kNe",
        "outputId": "555091c7-840f-41c4-8458-3998eb300572"
      },
      "source": [
        "# Create a dataframe from the dictionary\n",
        "malesDf = pd.DataFrame.from_dict(maleDataDict, orient='index', columns=['AgeGroup','Count'])\n",
        "malesDf.head(6)"
      ],
      "execution_count": null,
      "outputs": [
        {
          "output_type": "execute_result",
          "data": {
            "text/html": [
              "<div>\n",
              "<style scoped>\n",
              "    .dataframe tbody tr th:only-of-type {\n",
              "        vertical-align: middle;\n",
              "    }\n",
              "\n",
              "    .dataframe tbody tr th {\n",
              "        vertical-align: top;\n",
              "    }\n",
              "\n",
              "    .dataframe thead th {\n",
              "        text-align: right;\n",
              "    }\n",
              "</style>\n",
              "<table border=\"1\" class=\"dataframe\">\n",
              "  <thead>\n",
              "    <tr style=\"text-align: right;\">\n",
              "      <th></th>\n",
              "      <th>AgeGroup</th>\n",
              "      <th>Count</th>\n",
              "    </tr>\n",
              "  </thead>\n",
              "  <tbody>\n",
              "    <tr>\n",
              "      <th>0</th>\n",
              "      <td>18_19</td>\n",
              "      <td>711562</td>\n",
              "    </tr>\n",
              "    <tr>\n",
              "      <th>1</th>\n",
              "      <td>20_29</td>\n",
              "      <td>2622201</td>\n",
              "    </tr>\n",
              "    <tr>\n",
              "      <th>2</th>\n",
              "      <td>30_39</td>\n",
              "      <td>2001112</td>\n",
              "    </tr>\n",
              "    <tr>\n",
              "      <th>3</th>\n",
              "      <td>40_49</td>\n",
              "      <td>1343953</td>\n",
              "    </tr>\n",
              "    <tr>\n",
              "      <th>4</th>\n",
              "      <td>50_59</td>\n",
              "      <td>818202</td>\n",
              "    </tr>\n",
              "    <tr>\n",
              "      <th>5</th>\n",
              "      <td>60AndAbove</td>\n",
              "      <td>740531</td>\n",
              "    </tr>\n",
              "  </tbody>\n",
              "</table>\n",
              "</div>"
            ],
            "text/plain": [
              "     AgeGroup    Count\n",
              "0       18_19   711562\n",
              "1       20_29  2622201\n",
              "2       30_39  2001112\n",
              "3       40_49  1343953\n",
              "4       50_59   818202\n",
              "5  60AndAbove   740531"
            ]
          },
          "metadata": {
            "tags": []
          },
          "execution_count": 201
        }
      ]
    },
    {
      "cell_type": "markdown",
      "metadata": {
        "id": "MdfSTe1exnIf"
      },
      "source": [
        "### Female Data Categorization\n"
      ]
    },
    {
      "cell_type": "code",
      "metadata": {
        "colab": {
          "base_uri": "https://localhost:8080/"
        },
        "id": "SWdk8anXxnIz",
        "outputId": "5bf1765b-67b4-4b09-ba7c-e411b064656f"
      },
      "source": [
        "# Female Electorals from 18 to 19 years\n",
        "dfFemales18_19 = dfFemales[dfFemales['Age'] < 20]\n",
        "dfFemales18_19.info();"
      ],
      "execution_count": null,
      "outputs": [
        {
          "output_type": "stream",
          "text": [
            "<class 'pandas.core.frame.DataFrame'>\n",
            "Int64Index: 713380 entries, 9 to 17060647\n",
            "Data columns (total 3 columns):\n",
            " #   Column   Non-Null Count   Dtype\n",
            "---  ------   --------------   -----\n",
            " 0   VoterId  713380 non-null  int64\n",
            " 1   Sex      713380 non-null  int64\n",
            " 2   Age      713380 non-null  int64\n",
            "dtypes: int64(3)\n",
            "memory usage: 21.8 MB\n"
          ],
          "name": "stdout"
        }
      ]
    },
    {
      "cell_type": "code",
      "metadata": {
        "colab": {
          "base_uri": "https://localhost:8080/"
        },
        "id": "8wOvGgXFxnI0",
        "outputId": "f1d6eb48-3b5e-466d-9ae9-35a6720a4185"
      },
      "source": [
        "# Female Electorals from 20 to 29 years\n",
        "dfFemales20_29 = dfFemales[(dfFemales['Age'] > 19) & (dfFemales['Age'] < 30)]\n",
        "dfFemales20_29.info();"
      ],
      "execution_count": null,
      "outputs": [
        {
          "output_type": "stream",
          "text": [
            "<class 'pandas.core.frame.DataFrame'>\n",
            "Int64Index: 2671097 entries, 4 to 17060669\n",
            "Data columns (total 3 columns):\n",
            " #   Column   Dtype\n",
            "---  ------   -----\n",
            " 0   VoterId  int64\n",
            " 1   Sex      int64\n",
            " 2   Age      int64\n",
            "dtypes: int64(3)\n",
            "memory usage: 81.5 MB\n"
          ],
          "name": "stdout"
        }
      ]
    },
    {
      "cell_type": "code",
      "metadata": {
        "colab": {
          "base_uri": "https://localhost:8080/"
        },
        "id": "NRknNtWBxnI1",
        "outputId": "3e262bae-9c53-4342-fc0e-c38a9d5b89eb"
      },
      "source": [
        "# Female Electorals from 30 to 39 years\n",
        "dfFemales30_39 = dfFemales[(dfFemales['Age'] > 29) & (dfFemales['Age'] < 40)]\n",
        "dfFemales30_39.info();"
      ],
      "execution_count": null,
      "outputs": [
        {
          "output_type": "stream",
          "text": [
            "<class 'pandas.core.frame.DataFrame'>\n",
            "Int64Index: 2147346 entries, 2 to 17060675\n",
            "Data columns (total 3 columns):\n",
            " #   Column   Dtype\n",
            "---  ------   -----\n",
            " 0   VoterId  int64\n",
            " 1   Sex      int64\n",
            " 2   Age      int64\n",
            "dtypes: int64(3)\n",
            "memory usage: 65.5 MB\n"
          ],
          "name": "stdout"
        }
      ]
    },
    {
      "cell_type": "code",
      "metadata": {
        "colab": {
          "base_uri": "https://localhost:8080/"
        },
        "id": "PUtStCxIxnI2",
        "outputId": "f485ce62-821b-4fd7-dd44-e3b15f2c8815"
      },
      "source": [
        "# Female Electorals from 40 to 49 years\n",
        "dfFemales40_49 = dfFemales[(dfFemales['Age'] > 39) & (dfFemales['Age'] < 50)]\n",
        "dfFemales40_49.info();"
      ],
      "execution_count": null,
      "outputs": [
        {
          "output_type": "stream",
          "text": [
            "<class 'pandas.core.frame.DataFrame'>\n",
            "Int64Index: 1428330 entries, 0 to 17060656\n",
            "Data columns (total 3 columns):\n",
            " #   Column   Non-Null Count    Dtype\n",
            "---  ------   --------------    -----\n",
            " 0   VoterId  1428330 non-null  int64\n",
            " 1   Sex      1428330 non-null  int64\n",
            " 2   Age      1428330 non-null  int64\n",
            "dtypes: int64(3)\n",
            "memory usage: 43.6 MB\n"
          ],
          "name": "stdout"
        }
      ]
    },
    {
      "cell_type": "code",
      "metadata": {
        "colab": {
          "base_uri": "https://localhost:8080/"
        },
        "id": "9qaBJ0jhxnI3",
        "outputId": "243f224f-2325-4188-e364-91c06898631b"
      },
      "source": [
        "# Female Electorals from 50 to 59 years\n",
        "dfFemales50_59 = dfFemales[(dfFemales['Age'] > 49) & (dfFemales['Age'] < 60)]\n",
        "dfFemales50_59.info();"
      ],
      "execution_count": null,
      "outputs": [
        {
          "output_type": "stream",
          "text": [
            "<class 'pandas.core.frame.DataFrame'>\n",
            "Int64Index: 910758 entries, 24 to 17060601\n",
            "Data columns (total 3 columns):\n",
            " #   Column   Non-Null Count   Dtype\n",
            "---  ------   --------------   -----\n",
            " 0   VoterId  910758 non-null  int64\n",
            " 1   Sex      910758 non-null  int64\n",
            " 2   Age      910758 non-null  int64\n",
            "dtypes: int64(3)\n",
            "memory usage: 27.8 MB\n"
          ],
          "name": "stdout"
        }
      ]
    },
    {
      "cell_type": "code",
      "metadata": {
        "colab": {
          "base_uri": "https://localhost:8080/"
        },
        "id": "vkcq2YRRxnI4",
        "outputId": "907af193-930d-4e6d-93ba-42bdae7f5431"
      },
      "source": [
        "# Female Electorals from 60 years and above\n",
        "dfFemalesOver60 = dfFemales[dfFemales['Age'] > 59]\n",
        "dfFemalesOver60.info();"
      ],
      "execution_count": null,
      "outputs": [
        {
          "output_type": "stream",
          "text": [
            "<class 'pandas.core.frame.DataFrame'>\n",
            "Int64Index: 951166 entries, 14 to 17060676\n",
            "Data columns (total 3 columns):\n",
            " #   Column   Non-Null Count   Dtype\n",
            "---  ------   --------------   -----\n",
            " 0   VoterId  951166 non-null  int64\n",
            " 1   Sex      951166 non-null  int64\n",
            " 2   Age      951166 non-null  int64\n",
            "dtypes: int64(3)\n",
            "memory usage: 29.0 MB\n"
          ],
          "name": "stdout"
        }
      ]
    },
    {
      "cell_type": "code",
      "metadata": {
        "colab": {
          "base_uri": "https://localhost:8080/"
        },
        "id": "cvWJJZDK11QB",
        "outputId": "6b4c86ef-308d-4417-b302-8a18ebac320d"
      },
      "source": [
        "# Female Data Categorization Dictionary\n",
        "femalesDataDict = {0 : ['18_19', dfFemales18_19.shape[0]], 1 : ['20_29', dfFemales20_29.shape[0]], 2 : ['30_39', dfFemales30_39.shape[0]], 3 : ['40_49', dfFemales40_49.shape[0]], 4 : ['50_59', dfFemales50_59.shape[0]], 5 : ['60AndAbove', dfFemalesOver60.shape[0]]}\n",
        "print(femalesDataDict)"
      ],
      "execution_count": null,
      "outputs": [
        {
          "output_type": "stream",
          "text": [
            "{0: ['18_19', 713380], 1: ['20_29', 2671097], 2: ['30_39', 2147346], 3: ['40_49', 1428330], 4: ['50_59', 910758], 5: ['60AndAbove', 951166]}\n"
          ],
          "name": "stdout"
        }
      ]
    },
    {
      "cell_type": "code",
      "metadata": {
        "colab": {
          "base_uri": "https://localhost:8080/",
          "height": 237
        },
        "id": "4yZWtvw95GHs",
        "outputId": "a67ad475-fa9d-47d9-8b7d-e1815a858e17"
      },
      "source": [
        "# Create a dataframe from the dictionary\n",
        "femalesDf = pd.DataFrame.from_dict(femalesDataDict, orient='index', columns=['AgeGroup','Count'])\n",
        "femalesDf.head(6)"
      ],
      "execution_count": null,
      "outputs": [
        {
          "output_type": "execute_result",
          "data": {
            "text/html": [
              "<div>\n",
              "<style scoped>\n",
              "    .dataframe tbody tr th:only-of-type {\n",
              "        vertical-align: middle;\n",
              "    }\n",
              "\n",
              "    .dataframe tbody tr th {\n",
              "        vertical-align: top;\n",
              "    }\n",
              "\n",
              "    .dataframe thead th {\n",
              "        text-align: right;\n",
              "    }\n",
              "</style>\n",
              "<table border=\"1\" class=\"dataframe\">\n",
              "  <thead>\n",
              "    <tr style=\"text-align: right;\">\n",
              "      <th></th>\n",
              "      <th>AgeGroup</th>\n",
              "      <th>Count</th>\n",
              "    </tr>\n",
              "  </thead>\n",
              "  <tbody>\n",
              "    <tr>\n",
              "      <th>0</th>\n",
              "      <td>18_19</td>\n",
              "      <td>713380</td>\n",
              "    </tr>\n",
              "    <tr>\n",
              "      <th>1</th>\n",
              "      <td>20_29</td>\n",
              "      <td>2671097</td>\n",
              "    </tr>\n",
              "    <tr>\n",
              "      <th>2</th>\n",
              "      <td>30_39</td>\n",
              "      <td>2147346</td>\n",
              "    </tr>\n",
              "    <tr>\n",
              "      <th>3</th>\n",
              "      <td>40_49</td>\n",
              "      <td>1428330</td>\n",
              "    </tr>\n",
              "    <tr>\n",
              "      <th>4</th>\n",
              "      <td>50_59</td>\n",
              "      <td>910758</td>\n",
              "    </tr>\n",
              "    <tr>\n",
              "      <th>5</th>\n",
              "      <td>60AndAbove</td>\n",
              "      <td>951166</td>\n",
              "    </tr>\n",
              "  </tbody>\n",
              "</table>\n",
              "</div>"
            ],
            "text/plain": [
              "     AgeGroup    Count\n",
              "0       18_19   713380\n",
              "1       20_29  2671097\n",
              "2       30_39  2147346\n",
              "3       40_49  1428330\n",
              "4       50_59   910758\n",
              "5  60AndAbove   951166"
            ]
          },
          "metadata": {
            "tags": []
          },
          "execution_count": 204
        }
      ]
    },
    {
      "cell_type": "markdown",
      "metadata": {
        "id": "Ah1oFVuR5jqa"
      },
      "source": [
        "## Data Visualizations"
      ]
    },
    {
      "cell_type": "markdown",
      "metadata": {
        "id": "Kqvobnpv6QM7"
      },
      "source": [
        "### General Electorates Visualizations"
      ]
    },
    {
      "cell_type": "code",
      "metadata": {
        "colab": {
          "base_uri": "https://localhost:8080/",
          "height": 303
        },
        "id": "tOjD8XlO5p9h",
        "outputId": "db882826-8450-40cc-99b8-a424d8161aed"
      },
      "source": [
        "# histogram of the general data\n",
        "plt.style.use('ggplot')\n",
        "plt.bar(genDf['AgeGroup'], genDf['Count'])\n",
        "plt.title(\"Age Group Distribution of the General Electorates\")\n",
        "plt.ylabel('Count')\n",
        "plt.xlabel('AgeGroup');\n",
        "plt.show()"
      ],
      "execution_count": null,
      "outputs": [
        {
          "output_type": "display_data",
          "data": {
            "image/png": "[encoded data removed]",
            "text/plain": [
              "<Figure size 432x288 with 1 Axes>"
            ]
          },
          "metadata": {
            "tags": []
          }
        }
      ]
    },
    {
      "cell_type": "code",
      "metadata": {
        "colab": {
          "base_uri": "https://localhost:8080/",
          "height": 315
        },
        "id": "t9Nu7tlg7T-0",
        "outputId": "c4d459f2-e4d5-45b3-ef96-552fc438ba92"
      },
      "source": [
        "# box plot of general data\n",
        "sns.boxplot(x='AgeGroup', y='Count',data = genDf, showfliers=False)"
      ],
      "execution_count": null,
      "outputs": [
        {
          "output_type": "execute_result",
          "data": {
            "text/plain": [
              "<matplotlib.axes._subplots.AxesSubplot at 0x7feaacaf9150>"
            ]
          },
          "metadata": {
            "tags": []
          },
          "execution_count": 181
        },
        {
          "output_type": "display_data",
          "data": {
            "image/png": "[encoded data removed]",
            "text/plain": [
              "<Figure size 432x288 with 1 Axes>"
            ]
          },
          "metadata": {
            "tags": []
          }
        }
      ]
    },
    {
      "cell_type": "markdown",
      "metadata": {
        "id": "IaJtotqxFMw0"
      },
      "source": [
        "### Male Electorates Visualizations"
      ]
    },
    {
      "cell_type": "code",
      "metadata": {
        "colab": {
          "base_uri": "https://localhost:8080/",
          "height": 303
        },
        "id": "naDXPaagFMxI",
        "outputId": "bfcd43db-aa62-412e-f216-30523d9d34ef"
      },
      "source": [
        "# histogram of the male data\n",
        "plt.style.use('ggplot')\n",
        "plt.bar(malesDf['AgeGroup'], malesDf['Count'])\n",
        "plt.title(\"Age Group Distribution of the Male Electorates\")\n",
        "plt.ylabel('Count')\n",
        "plt.xlabel('AgeGroup');\n",
        "plt.show()"
      ],
      "execution_count": null,
      "outputs": [
        {
          "output_type": "display_data",
          "data": {
            "image/png": "[encoded data removed]",
            "text/plain": [
              "<Figure size 432x288 with 1 Axes>"
            ]
          },
          "metadata": {
            "tags": []
          }
        }
      ]
    },
    {
      "cell_type": "code",
      "metadata": {
        "colab": {
          "base_uri": "https://localhost:8080/",
          "height": 315
        },
        "id": "G24YNShNFMxK",
        "outputId": "a84216ad-1b22-4bac-ac7f-ae308ede1896"
      },
      "source": [
        "# box plot of females data\n",
        "sns.boxplot(x='AgeGroup', y='Count',data = malesDf, showfliers=False)"
      ],
      "execution_count": null,
      "outputs": [
        {
          "output_type": "execute_result",
          "data": {
            "text/plain": [
              "<matplotlib.axes._subplots.AxesSubplot at 0x7feac38d9910>"
            ]
          },
          "metadata": {
            "tags": []
          },
          "execution_count": 210
        },
        {
          "output_type": "display_data",
          "data": {
            "image/png": "[encoded data removed]",
            "text/plain": [
              "<Figure size 432x288 with 1 Axes>"
            ]
          },
          "metadata": {
            "tags": []
          }
        }
      ]
    },
    {
      "cell_type": "markdown",
      "metadata": {
        "id": "3cu5imKAFcQs"
      },
      "source": [
        "### Female Electorates Visualizations"
      ]
    },
    {
      "cell_type": "code",
      "metadata": {
        "colab": {
          "base_uri": "https://localhost:8080/",
          "height": 303
        },
        "id": "MdlKEAQpFcQu",
        "outputId": "b1a2bd26-b1c8-4700-ac35-dd5b616f6726"
      },
      "source": [
        "# histogram of the female data\n",
        "plt.style.use('ggplot')\n",
        "plt.bar(femalesDf['AgeGroup'], femalesDf['Count'])\n",
        "plt.title(\"Age Group Distribution of the Female Electorates\")\n",
        "plt.ylabel('Count')\n",
        "plt.xlabel('AgeGroup');\n",
        "plt.show()"
      ],
      "execution_count": null,
      "outputs": [
        {
          "output_type": "display_data",
          "data": {
            "image/png": "[encoded data removed]",
            "text/plain": [
              "<Figure size 432x288 with 1 Axes>"
            ]
          },
          "metadata": {
            "tags": []
          }
        }
      ]
    },
    {
      "cell_type": "code",
      "metadata": {
        "colab": {
          "base_uri": "https://localhost:8080/",
          "height": 315
        },
        "id": "3DSuXwfCFcQv",
        "outputId": "96c6f5d7-0f68-4416-e2c4-2073f2330167"
      },
      "source": [
        "# box plot of females data\n",
        "sns.boxplot(x='AgeGroup', y='Count',data = femalesDf, showfliers=False)"
      ],
      "execution_count": null,
      "outputs": [
        {
          "output_type": "execute_result",
          "data": {
            "text/plain": [
              "<matplotlib.axes._subplots.AxesSubplot at 0x7feab1f26190>"
            ]
          },
          "metadata": {
            "tags": []
          },
          "execution_count": 208
        },
        {
          "output_type": "display_data",
          "data": {
            "image/png": "[encoded data removed]",
            "text/plain": [
              "<Figure size 432x288 with 1 Axes>"
            ]
          },
          "metadata": {
            "tags": []
          }
        }
      ]
    }
  ]
}