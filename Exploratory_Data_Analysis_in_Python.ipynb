{
  "nbformat": 4,
  "nbformat_minor": 0,
  "metadata": {
    "colab": {
      "name": "Exploratory Data Analysis in Python.ipynb",
      "provenance": [],
      "toc_visible": true,
      "authorship_tag": "ABX9TyPWk8sOFbMg7aWaPwj6F+0r",
      "include_colab_link": true
    },
    "kernelspec": {
      "name": "python3",
      "display_name": "Python 3"
    }
  },
  "cells": [
    {
      "cell_type": "markdown",
      "metadata": {
        "id": "view-in-github",
        "colab_type": "text"
      },
      "source": [
        "<a href=\"https://colab.research.google.com/github/HURU-School/Data-Science/blob/main/Exploratory_Data_Analysis_in_Python.ipynb\" target=\"_parent\"><img src=\"https://colab.research.google.com/assets/colab-badge.svg\" alt=\"Open In Colab\"/></a>"
      ]
    },
    {
      "cell_type": "markdown",
      "metadata": {
        "id": "GaoiUZKeoW18"
      },
      "source": [
        "# Exploratory Data Analysis in Python\n",
        "\n",
        "Basic Exploratory Data Analysis using Python Libraries\n",
        "Initially written by Lawrence Moruye and modified by HURU School data Science Team\n",
        "\n",
        "Note: \n",
        "\n",
        "\n",
        "*   R is mostly for Research\n",
        "*   Python is for production\n",
        "\n",
        "\n",
        "\n"
      ]
    },
    {
      "cell_type": "code",
      "metadata": {
        "id": "ONL6X80tGRsm",
        "colab": {
          "base_uri": "https://localhost:8080/"
        },
        "outputId": "3e44b940-2802-4799-a212-52848f7ab237"
      },
      "source": [
        "!mkdir data # Here we are just making a data directory called data"
      ],
      "execution_count": 15,
      "outputs": [
        {
          "output_type": "stream",
          "text": [
            "mkdir: cannot create directory ‘data’: File exists\n"
          ],
          "name": "stdout"
        }
      ]
    },
    {
      "cell_type": "code",
      "metadata": {
        "colab": {
          "base_uri": "https://localhost:8080/"
        },
        "id": "0WmmcDsyGg9y",
        "outputId": "3d50cff3-c69c-4c63-c1fd-b40ad5b17e7c"
      },
      "source": [
        "!wget -P data https://raw.githubusercontent.com/ogunlao/HousePricePrediction/master/train.csv # Here we get data using wget into our folder"
      ],
      "execution_count": 16,
      "outputs": [
        {
          "output_type": "stream",
          "text": [
            "--2021-05-05 04:35:43--  https://raw.githubusercontent.com/ogunlao/HousePricePrediction/master/train.csv\n",
            "Resolving raw.githubusercontent.com (raw.githubusercontent.com)... 185.199.111.133, 185.199.110.133, 185.199.109.133, ...\n",
            "Connecting to raw.githubusercontent.com (raw.githubusercontent.com)|185.199.111.133|:443... connected.\n",
            "HTTP request sent, awaiting response... 200 OK\n",
            "Length: 460676 (450K) [text/plain]\n",
            "Saving to: ‘data/train.csv.1’\n",
            "\n",
            "\rtrain.csv.1           0%[                    ]       0  --.-KB/s               \rtrain.csv.1         100%[===================>] 449.88K  --.-KB/s    in 0.04s   \n",
            "\n",
            "2021-05-05 04:35:44 (10.7 MB/s) - ‘data/train.csv.1’ saved [460676/460676]\n",
            "\n"
          ],
          "name": "stdout"
        }
      ]
    },
    {
      "cell_type": "code",
      "metadata": {
        "id": "VXwBFs-TGn0T"
      },
      "source": [
        "path = '/content/data' # create a variable with your path name\n"
      ],
      "execution_count": 17,
      "outputs": []
    },
    {
      "cell_type": "code",
      "metadata": {
        "id": "OMFbG16QGrAT"
      },
      "source": [
        "import pandas as pd\n",
        "import numpy as np\n",
        "import matplotlib.pyplot as plt\n",
        "import os\n",
        "\n",
        "\n",
        "# show all df columns and diplay plots in line\n",
        "pd.set_option('display.max_columns', None)\n",
        "%matplotlib inline"
      ],
      "execution_count": 18,
      "outputs": []
    },
    {
      "cell_type": "code",
      "metadata": {
        "id": "DoZ0vEsOGuVi"
      },
      "source": [
        "df_train = pd.read_csv(f\"{path}/train.csv\", index_col='Id') #import the data"
      ],
      "execution_count": 19,
      "outputs": []
    },
    {
      "cell_type": "code",
      "metadata": {
        "colab": {
          "base_uri": "https://localhost:8080/"
        },
        "id": "7ybOAPJAyI2h",
        "outputId": "e918d47b-847e-4f26-bdbd-07fff08fc62c"
      },
      "source": [
        "df_train.shape"
      ],
      "execution_count": 20,
      "outputs": [
        {
          "output_type": "execute_result",
          "data": {
            "text/plain": [
              "(1460, 80)"
            ]
          },
          "metadata": {
            "tags": []
          },
          "execution_count": 20
        }
      ]
    },
    {
      "cell_type": "code",
      "metadata": {
        "colab": {
          "base_uri": "https://localhost:8080/"
        },
        "id": "YJ01Y0yzGy1U",
        "outputId": "8b503349-b1d1-47ae-c0b4-d346422af5ec"
      },
      "source": [
        "df_train.info() # Gives you the columns as rows"
      ],
      "execution_count": 21,
      "outputs": [
        {
          "output_type": "stream",
          "text": [
            "<class 'pandas.core.frame.DataFrame'>\n",
            "Int64Index: 1460 entries, 1 to 1460\n",
            "Data columns (total 80 columns):\n",
            " #   Column         Non-Null Count  Dtype  \n",
            "---  ------         --------------  -----  \n",
            " 0   MSSubClass     1460 non-null   int64  \n",
            " 1   MSZoning       1460 non-null   object \n",
            " 2   LotFrontage    1201 non-null   float64\n",
            " 3   LotArea        1460 non-null   int64  \n",
            " 4   Street         1460 non-null   object \n",
            " 5   Alley          91 non-null     object \n",
            " 6   LotShape       1460 non-null   object \n",
            " 7   LandContour    1460 non-null   object \n",
            " 8   Utilities      1460 non-null   object \n",
            " 9   LotConfig      1460 non-null   object \n",
            " 10  LandSlope      1460 non-null   object \n",
            " 11  Neighborhood   1460 non-null   object \n",
            " 12  Condition1     1460 non-null   object \n",
            " 13  Condition2     1460 non-null   object \n",
            " 14  BldgType       1460 non-null   object \n",
            " 15  HouseStyle     1460 non-null   object \n",
            " 16  OverallQual    1460 non-null   int64  \n",
            " 17  OverallCond    1460 non-null   int64  \n",
            " 18  YearBuilt      1460 non-null   int64  \n",
            " 19  YearRemodAdd   1460 non-null   int64  \n",
            " 20  RoofStyle      1460 non-null   object \n",
            " 21  RoofMatl       1460 non-null   object \n",
            " 22  Exterior1st    1460 non-null   object \n",
            " 23  Exterior2nd    1460 non-null   object \n",
            " 24  MasVnrType     1452 non-null   object \n",
            " 25  MasVnrArea     1452 non-null   float64\n",
            " 26  ExterQual      1460 non-null   object \n",
            " 27  ExterCond      1460 non-null   object \n",
            " 28  Foundation     1460 non-null   object \n",
            " 29  BsmtQual       1423 non-null   object \n",
            " 30  BsmtCond       1423 non-null   object \n",
            " 31  BsmtExposure   1422 non-null   object \n",
            " 32  BsmtFinType1   1423 non-null   object \n",
            " 33  BsmtFinSF1     1460 non-null   int64  \n",
            " 34  BsmtFinType2   1422 non-null   object \n",
            " 35  BsmtFinSF2     1460 non-null   int64  \n",
            " 36  BsmtUnfSF      1460 non-null   int64  \n",
            " 37  TotalBsmtSF    1460 non-null   int64  \n",
            " 38  Heating        1460 non-null   object \n",
            " 39  HeatingQC      1460 non-null   object \n",
            " 40  CentralAir     1460 non-null   object \n",
            " 41  Electrical     1459 non-null   object \n",
            " 42  1stFlrSF       1460 non-null   int64  \n",
            " 43  2ndFlrSF       1460 non-null   int64  \n",
            " 44  LowQualFinSF   1460 non-null   int64  \n",
            " 45  GrLivArea      1460 non-null   int64  \n",
            " 46  BsmtFullBath   1460 non-null   int64  \n",
            " 47  BsmtHalfBath   1460 non-null   int64  \n",
            " 48  FullBath       1460 non-null   int64  \n",
            " 49  HalfBath       1460 non-null   int64  \n",
            " 50  BedroomAbvGr   1460 non-null   int64  \n",
            " 51  KitchenAbvGr   1460 non-null   int64  \n",
            " 52  KitchenQual    1460 non-null   object \n",
            " 53  TotRmsAbvGrd   1460 non-null   int64  \n",
            " 54  Functional     1460 non-null   object \n",
            " 55  Fireplaces     1460 non-null   int64  \n",
            " 56  FireplaceQu    770 non-null    object \n",
            " 57  GarageType     1379 non-null   object \n",
            " 58  GarageYrBlt    1379 non-null   float64\n",
            " 59  GarageFinish   1379 non-null   object \n",
            " 60  GarageCars     1460 non-null   int64  \n",
            " 61  GarageArea     1460 non-null   int64  \n",
            " 62  GarageQual     1379 non-null   object \n",
            " 63  GarageCond     1379 non-null   object \n",
            " 64  PavedDrive     1460 non-null   object \n",
            " 65  WoodDeckSF     1460 non-null   int64  \n",
            " 66  OpenPorchSF    1460 non-null   int64  \n",
            " 67  EnclosedPorch  1460 non-null   int64  \n",
            " 68  3SsnPorch      1460 non-null   int64  \n",
            " 69  ScreenPorch    1460 non-null   int64  \n",
            " 70  PoolArea       1460 non-null   int64  \n",
            " 71  PoolQC         7 non-null      object \n",
            " 72  Fence          281 non-null    object \n",
            " 73  MiscFeature    54 non-null     object \n",
            " 74  MiscVal        1460 non-null   int64  \n",
            " 75  MoSold         1460 non-null   int64  \n",
            " 76  YrSold         1460 non-null   int64  \n",
            " 77  SaleType       1460 non-null   object \n",
            " 78  SaleCondition  1460 non-null   object \n",
            " 79  SalePrice      1460 non-null   int64  \n",
            "dtypes: float64(3), int64(34), object(43)\n",
            "memory usage: 923.9+ KB\n"
          ],
          "name": "stdout"
        }
      ]
    },
    {
      "cell_type": "code",
      "metadata": {
        "colab": {
          "base_uri": "https://localhost:8080/",
          "height": 253
        },
        "id": "mZTQ1bMcG15K",
        "outputId": "3015dac1-046d-4762-e90d-94041fdb4a6a"
      },
      "source": [
        "df_train.head() # We view the head of the data"
      ],
      "execution_count": 22,
      "outputs": [
        {
          "output_type": "execute_result",
          "data": {
            "text/html": [
              "<div>\n",
              "<style scoped>\n",
              "    .dataframe tbody tr th:only-of-type {\n",
              "        vertical-align: middle;\n",
              "    }\n",
              "\n",
              "    .dataframe tbody tr th {\n",
              "        vertical-align: top;\n",
              "    }\n",
              "\n",
              "    .dataframe thead th {\n",
              "        text-align: right;\n",
              "    }\n",
              "</style>\n",
              "<table border=\"1\" class=\"dataframe\">\n",
              "  <thead>\n",
              "    <tr style=\"text-align: right;\">\n",
              "      <th></th>\n",
              "      <th>MSSubClass</th>\n",
              "      <th>MSZoning</th>\n",
              "      <th>LotFrontage</th>\n",
              "      <th>LotArea</th>\n",
              "      <th>Street</th>\n",
              "      <th>Alley</th>\n",
              "      <th>LotShape</th>\n",
              "      <th>LandContour</th>\n",
              "      <th>Utilities</th>\n",
              "      <th>LotConfig</th>\n",
              "      <th>LandSlope</th>\n",
              "      <th>Neighborhood</th>\n",
              "      <th>Condition1</th>\n",
              "      <th>Condition2</th>\n",
              "      <th>BldgType</th>\n",
              "      <th>HouseStyle</th>\n",
              "      <th>OverallQual</th>\n",
              "      <th>OverallCond</th>\n",
              "      <th>YearBuilt</th>\n",
              "      <th>YearRemodAdd</th>\n",
              "      <th>RoofStyle</th>\n",
              "      <th>RoofMatl</th>\n",
              "      <th>Exterior1st</th>\n",
              "      <th>Exterior2nd</th>\n",
              "      <th>MasVnrType</th>\n",
              "      <th>MasVnrArea</th>\n",
              "      <th>ExterQual</th>\n",
              "      <th>ExterCond</th>\n",
              "      <th>Foundation</th>\n",
              "      <th>BsmtQual</th>\n",
              "      <th>BsmtCond</th>\n",
              "      <th>BsmtExposure</th>\n",
              "      <th>BsmtFinType1</th>\n",
              "      <th>BsmtFinSF1</th>\n",
              "      <th>BsmtFinType2</th>\n",
              "      <th>BsmtFinSF2</th>\n",
              "      <th>BsmtUnfSF</th>\n",
              "      <th>TotalBsmtSF</th>\n",
              "      <th>Heating</th>\n",
              "      <th>HeatingQC</th>\n",
              "      <th>CentralAir</th>\n",
              "      <th>Electrical</th>\n",
              "      <th>1stFlrSF</th>\n",
              "      <th>2ndFlrSF</th>\n",
              "      <th>LowQualFinSF</th>\n",
              "      <th>GrLivArea</th>\n",
              "      <th>BsmtFullBath</th>\n",
              "      <th>BsmtHalfBath</th>\n",
              "      <th>FullBath</th>\n",
              "      <th>HalfBath</th>\n",
              "      <th>BedroomAbvGr</th>\n",
              "      <th>KitchenAbvGr</th>\n",
              "      <th>KitchenQual</th>\n",
              "      <th>TotRmsAbvGrd</th>\n",
              "      <th>Functional</th>\n",
              "      <th>Fireplaces</th>\n",
              "      <th>FireplaceQu</th>\n",
              "      <th>GarageType</th>\n",
              "      <th>GarageYrBlt</th>\n",
              "      <th>GarageFinish</th>\n",
              "      <th>GarageCars</th>\n",
              "      <th>GarageArea</th>\n",
              "      <th>GarageQual</th>\n",
              "      <th>GarageCond</th>\n",
              "      <th>PavedDrive</th>\n",
              "      <th>WoodDeckSF</th>\n",
              "      <th>OpenPorchSF</th>\n",
              "      <th>EnclosedPorch</th>\n",
              "      <th>3SsnPorch</th>\n",
              "      <th>ScreenPorch</th>\n",
              "      <th>PoolArea</th>\n",
              "      <th>PoolQC</th>\n",
              "      <th>Fence</th>\n",
              "      <th>MiscFeature</th>\n",
              "      <th>MiscVal</th>\n",
              "      <th>MoSold</th>\n",
              "      <th>YrSold</th>\n",
              "      <th>SaleType</th>\n",
              "      <th>SaleCondition</th>\n",
              "      <th>SalePrice</th>\n",
              "    </tr>\n",
              "    <tr>\n",
              "      <th>Id</th>\n",
              "      <th></th>\n",
              "      <th></th>\n",
              "      <th></th>\n",
              "      <th></th>\n",
              "      <th></th>\n",
              "      <th></th>\n",
              "      <th></th>\n",
              "      <th></th>\n",
              "      <th></th>\n",
              "      <th></th>\n",
              "      <th></th>\n",
              "      <th></th>\n",
              "      <th></th>\n",
              "      <th></th>\n",
              "      <th></th>\n",
              "      <th></th>\n",
              "      <th></th>\n",
              "      <th></th>\n",
              "      <th></th>\n",
              "      <th></th>\n",
              "      <th></th>\n",
              "      <th></th>\n",
              "      <th></th>\n",
              "      <th></th>\n",
              "      <th></th>\n",
              "      <th></th>\n",
              "      <th></th>\n",
              "      <th></th>\n",
              "      <th></th>\n",
              "      <th></th>\n",
              "      <th></th>\n",
              "      <th></th>\n",
              "      <th></th>\n",
              "      <th></th>\n",
              "      <th></th>\n",
              "      <th></th>\n",
              "      <th></th>\n",
              "      <th></th>\n",
              "      <th></th>\n",
              "      <th></th>\n",
              "      <th></th>\n",
              "      <th></th>\n",
              "      <th></th>\n",
              "      <th></th>\n",
              "      <th></th>\n",
              "      <th></th>\n",
              "      <th></th>\n",
              "      <th></th>\n",
              "      <th></th>\n",
              "      <th></th>\n",
              "      <th></th>\n",
              "      <th></th>\n",
              "      <th></th>\n",
              "      <th></th>\n",
              "      <th></th>\n",
              "      <th></th>\n",
              "      <th></th>\n",
              "      <th></th>\n",
              "      <th></th>\n",
              "      <th></th>\n",
              "      <th></th>\n",
              "      <th></th>\n",
              "      <th></th>\n",
              "      <th></th>\n",
              "      <th></th>\n",
              "      <th></th>\n",
              "      <th></th>\n",
              "      <th></th>\n",
              "      <th></th>\n",
              "      <th></th>\n",
              "      <th></th>\n",
              "      <th></th>\n",
              "      <th></th>\n",
              "      <th></th>\n",
              "      <th></th>\n",
              "      <th></th>\n",
              "      <th></th>\n",
              "      <th></th>\n",
              "      <th></th>\n",
              "      <th></th>\n",
              "    </tr>\n",
              "  </thead>\n",
              "  <tbody>\n",
              "    <tr>\n",
              "      <th>1</th>\n",
              "      <td>60</td>\n",
              "      <td>RL</td>\n",
              "      <td>65.0</td>\n",
              "      <td>8450</td>\n",
              "      <td>Pave</td>\n",
              "      <td>NaN</td>\n",
              "      <td>Reg</td>\n",
              "      <td>Lvl</td>\n",
              "      <td>AllPub</td>\n",
              "      <td>Inside</td>\n",
              "      <td>Gtl</td>\n",
              "      <td>CollgCr</td>\n",
              "      <td>Norm</td>\n",
              "      <td>Norm</td>\n",
              "      <td>1Fam</td>\n",
              "      <td>2Story</td>\n",
              "      <td>7</td>\n",
              "      <td>5</td>\n",
              "      <td>2003</td>\n",
              "      <td>2003</td>\n",
              "      <td>Gable</td>\n",
              "      <td>CompShg</td>\n",
              "      <td>VinylSd</td>\n",
              "      <td>VinylSd</td>\n",
              "      <td>BrkFace</td>\n",
              "      <td>196.0</td>\n",
              "      <td>Gd</td>\n",
              "      <td>TA</td>\n",
              "      <td>PConc</td>\n",
              "      <td>Gd</td>\n",
              "      <td>TA</td>\n",
              "      <td>No</td>\n",
              "      <td>GLQ</td>\n",
              "      <td>706</td>\n",
              "      <td>Unf</td>\n",
              "      <td>0</td>\n",
              "      <td>150</td>\n",
              "      <td>856</td>\n",
              "      <td>GasA</td>\n",
              "      <td>Ex</td>\n",
              "      <td>Y</td>\n",
              "      <td>SBrkr</td>\n",
              "      <td>856</td>\n",
              "      <td>854</td>\n",
              "      <td>0</td>\n",
              "      <td>1710</td>\n",
              "      <td>1</td>\n",
              "      <td>0</td>\n",
              "      <td>2</td>\n",
              "      <td>1</td>\n",
              "      <td>3</td>\n",
              "      <td>1</td>\n",
              "      <td>Gd</td>\n",
              "      <td>8</td>\n",
              "      <td>Typ</td>\n",
              "      <td>0</td>\n",
              "      <td>NaN</td>\n",
              "      <td>Attchd</td>\n",
              "      <td>2003.0</td>\n",
              "      <td>RFn</td>\n",
              "      <td>2</td>\n",
              "      <td>548</td>\n",
              "      <td>TA</td>\n",
              "      <td>TA</td>\n",
              "      <td>Y</td>\n",
              "      <td>0</td>\n",
              "      <td>61</td>\n",
              "      <td>0</td>\n",
              "      <td>0</td>\n",
              "      <td>0</td>\n",
              "      <td>0</td>\n",
              "      <td>NaN</td>\n",
              "      <td>NaN</td>\n",
              "      <td>NaN</td>\n",
              "      <td>0</td>\n",
              "      <td>2</td>\n",
              "      <td>2008</td>\n",
              "      <td>WD</td>\n",
              "      <td>Normal</td>\n",
              "      <td>208500</td>\n",
              "    </tr>\n",
              "    <tr>\n",
              "      <th>2</th>\n",
              "      <td>20</td>\n",
              "      <td>RL</td>\n",
              "      <td>80.0</td>\n",
              "      <td>9600</td>\n",
              "      <td>Pave</td>\n",
              "      <td>NaN</td>\n",
              "      <td>Reg</td>\n",
              "      <td>Lvl</td>\n",
              "      <td>AllPub</td>\n",
              "      <td>FR2</td>\n",
              "      <td>Gtl</td>\n",
              "      <td>Veenker</td>\n",
              "      <td>Feedr</td>\n",
              "      <td>Norm</td>\n",
              "      <td>1Fam</td>\n",
              "      <td>1Story</td>\n",
              "      <td>6</td>\n",
              "      <td>8</td>\n",
              "      <td>1976</td>\n",
              "      <td>1976</td>\n",
              "      <td>Gable</td>\n",
              "      <td>CompShg</td>\n",
              "      <td>MetalSd</td>\n",
              "      <td>MetalSd</td>\n",
              "      <td>None</td>\n",
              "      <td>0.0</td>\n",
              "      <td>TA</td>\n",
              "      <td>TA</td>\n",
              "      <td>CBlock</td>\n",
              "      <td>Gd</td>\n",
              "      <td>TA</td>\n",
              "      <td>Gd</td>\n",
              "      <td>ALQ</td>\n",
              "      <td>978</td>\n",
              "      <td>Unf</td>\n",
              "      <td>0</td>\n",
              "      <td>284</td>\n",
              "      <td>1262</td>\n",
              "      <td>GasA</td>\n",
              "      <td>Ex</td>\n",
              "      <td>Y</td>\n",
              "      <td>SBrkr</td>\n",
              "      <td>1262</td>\n",
              "      <td>0</td>\n",
              "      <td>0</td>\n",
              "      <td>1262</td>\n",
              "      <td>0</td>\n",
              "      <td>1</td>\n",
              "      <td>2</td>\n",
              "      <td>0</td>\n",
              "      <td>3</td>\n",
              "      <td>1</td>\n",
              "      <td>TA</td>\n",
              "      <td>6</td>\n",
              "      <td>Typ</td>\n",
              "      <td>1</td>\n",
              "      <td>TA</td>\n",
              "      <td>Attchd</td>\n",
              "      <td>1976.0</td>\n",
              "      <td>RFn</td>\n",
              "      <td>2</td>\n",
              "      <td>460</td>\n",
              "      <td>TA</td>\n",
              "      <td>TA</td>\n",
              "      <td>Y</td>\n",
              "      <td>298</td>\n",
              "      <td>0</td>\n",
              "      <td>0</td>\n",
              "      <td>0</td>\n",
              "      <td>0</td>\n",
              "      <td>0</td>\n",
              "      <td>NaN</td>\n",
              "      <td>NaN</td>\n",
              "      <td>NaN</td>\n",
              "      <td>0</td>\n",
              "      <td>5</td>\n",
              "      <td>2007</td>\n",
              "      <td>WD</td>\n",
              "      <td>Normal</td>\n",
              "      <td>181500</td>\n",
              "    </tr>\n",
              "    <tr>\n",
              "      <th>3</th>\n",
              "      <td>60</td>\n",
              "      <td>RL</td>\n",
              "      <td>68.0</td>\n",
              "      <td>11250</td>\n",
              "      <td>Pave</td>\n",
              "      <td>NaN</td>\n",
              "      <td>IR1</td>\n",
              "      <td>Lvl</td>\n",
              "      <td>AllPub</td>\n",
              "      <td>Inside</td>\n",
              "      <td>Gtl</td>\n",
              "      <td>CollgCr</td>\n",
              "      <td>Norm</td>\n",
              "      <td>Norm</td>\n",
              "      <td>1Fam</td>\n",
              "      <td>2Story</td>\n",
              "      <td>7</td>\n",
              "      <td>5</td>\n",
              "      <td>2001</td>\n",
              "      <td>2002</td>\n",
              "      <td>Gable</td>\n",
              "      <td>CompShg</td>\n",
              "      <td>VinylSd</td>\n",
              "      <td>VinylSd</td>\n",
              "      <td>BrkFace</td>\n",
              "      <td>162.0</td>\n",
              "      <td>Gd</td>\n",
              "      <td>TA</td>\n",
              "      <td>PConc</td>\n",
              "      <td>Gd</td>\n",
              "      <td>TA</td>\n",
              "      <td>Mn</td>\n",
              "      <td>GLQ</td>\n",
              "      <td>486</td>\n",
              "      <td>Unf</td>\n",
              "      <td>0</td>\n",
              "      <td>434</td>\n",
              "      <td>920</td>\n",
              "      <td>GasA</td>\n",
              "      <td>Ex</td>\n",
              "      <td>Y</td>\n",
              "      <td>SBrkr</td>\n",
              "      <td>920</td>\n",
              "      <td>866</td>\n",
              "      <td>0</td>\n",
              "      <td>1786</td>\n",
              "      <td>1</td>\n",
              "      <td>0</td>\n",
              "      <td>2</td>\n",
              "      <td>1</td>\n",
              "      <td>3</td>\n",
              "      <td>1</td>\n",
              "      <td>Gd</td>\n",
              "      <td>6</td>\n",
              "      <td>Typ</td>\n",
              "      <td>1</td>\n",
              "      <td>TA</td>\n",
              "      <td>Attchd</td>\n",
              "      <td>2001.0</td>\n",
              "      <td>RFn</td>\n",
              "      <td>2</td>\n",
              "      <td>608</td>\n",
              "      <td>TA</td>\n",
              "      <td>TA</td>\n",
              "      <td>Y</td>\n",
              "      <td>0</td>\n",
              "      <td>42</td>\n",
              "      <td>0</td>\n",
              "      <td>0</td>\n",
              "      <td>0</td>\n",
              "      <td>0</td>\n",
              "      <td>NaN</td>\n",
              "      <td>NaN</td>\n",
              "      <td>NaN</td>\n",
              "      <td>0</td>\n",
              "      <td>9</td>\n",
              "      <td>2008</td>\n",
              "      <td>WD</td>\n",
              "      <td>Normal</td>\n",
              "      <td>223500</td>\n",
              "    </tr>\n",
              "    <tr>\n",
              "      <th>4</th>\n",
              "      <td>70</td>\n",
              "      <td>RL</td>\n",
              "      <td>60.0</td>\n",
              "      <td>9550</td>\n",
              "      <td>Pave</td>\n",
              "      <td>NaN</td>\n",
              "      <td>IR1</td>\n",
              "      <td>Lvl</td>\n",
              "      <td>AllPub</td>\n",
              "      <td>Corner</td>\n",
              "      <td>Gtl</td>\n",
              "      <td>Crawfor</td>\n",
              "      <td>Norm</td>\n",
              "      <td>Norm</td>\n",
              "      <td>1Fam</td>\n",
              "      <td>2Story</td>\n",
              "      <td>7</td>\n",
              "      <td>5</td>\n",
              "      <td>1915</td>\n",
              "      <td>1970</td>\n",
              "      <td>Gable</td>\n",
              "      <td>CompShg</td>\n",
              "      <td>Wd Sdng</td>\n",
              "      <td>Wd Shng</td>\n",
              "      <td>None</td>\n",
              "      <td>0.0</td>\n",
              "      <td>TA</td>\n",
              "      <td>TA</td>\n",
              "      <td>BrkTil</td>\n",
              "      <td>TA</td>\n",
              "      <td>Gd</td>\n",
              "      <td>No</td>\n",
              "      <td>ALQ</td>\n",
              "      <td>216</td>\n",
              "      <td>Unf</td>\n",
              "      <td>0</td>\n",
              "      <td>540</td>\n",
              "      <td>756</td>\n",
              "      <td>GasA</td>\n",
              "      <td>Gd</td>\n",
              "      <td>Y</td>\n",
              "      <td>SBrkr</td>\n",
              "      <td>961</td>\n",
              "      <td>756</td>\n",
              "      <td>0</td>\n",
              "      <td>1717</td>\n",
              "      <td>1</td>\n",
              "      <td>0</td>\n",
              "      <td>1</td>\n",
              "      <td>0</td>\n",
              "      <td>3</td>\n",
              "      <td>1</td>\n",
              "      <td>Gd</td>\n",
              "      <td>7</td>\n",
              "      <td>Typ</td>\n",
              "      <td>1</td>\n",
              "      <td>Gd</td>\n",
              "      <td>Detchd</td>\n",
              "      <td>1998.0</td>\n",
              "      <td>Unf</td>\n",
              "      <td>3</td>\n",
              "      <td>642</td>\n",
              "      <td>TA</td>\n",
              "      <td>TA</td>\n",
              "      <td>Y</td>\n",
              "      <td>0</td>\n",
              "      <td>35</td>\n",
              "      <td>272</td>\n",
              "      <td>0</td>\n",
              "      <td>0</td>\n",
              "      <td>0</td>\n",
              "      <td>NaN</td>\n",
              "      <td>NaN</td>\n",
              "      <td>NaN</td>\n",
              "      <td>0</td>\n",
              "      <td>2</td>\n",
              "      <td>2006</td>\n",
              "      <td>WD</td>\n",
              "      <td>Abnorml</td>\n",
              "      <td>140000</td>\n",
              "    </tr>\n",
              "    <tr>\n",
              "      <th>5</th>\n",
              "      <td>60</td>\n",
              "      <td>RL</td>\n",
              "      <td>84.0</td>\n",
              "      <td>14260</td>\n",
              "      <td>Pave</td>\n",
              "      <td>NaN</td>\n",
              "      <td>IR1</td>\n",
              "      <td>Lvl</td>\n",
              "      <td>AllPub</td>\n",
              "      <td>FR2</td>\n",
              "      <td>Gtl</td>\n",
              "      <td>NoRidge</td>\n",
              "      <td>Norm</td>\n",
              "      <td>Norm</td>\n",
              "      <td>1Fam</td>\n",
              "      <td>2Story</td>\n",
              "      <td>8</td>\n",
              "      <td>5</td>\n",
              "      <td>2000</td>\n",
              "      <td>2000</td>\n",
              "      <td>Gable</td>\n",
              "      <td>CompShg</td>\n",
              "      <td>VinylSd</td>\n",
              "      <td>VinylSd</td>\n",
              "      <td>BrkFace</td>\n",
              "      <td>350.0</td>\n",
              "      <td>Gd</td>\n",
              "      <td>TA</td>\n",
              "      <td>PConc</td>\n",
              "      <td>Gd</td>\n",
              "      <td>TA</td>\n",
              "      <td>Av</td>\n",
              "      <td>GLQ</td>\n",
              "      <td>655</td>\n",
              "      <td>Unf</td>\n",
              "      <td>0</td>\n",
              "      <td>490</td>\n",
              "      <td>1145</td>\n",
              "      <td>GasA</td>\n",
              "      <td>Ex</td>\n",
              "      <td>Y</td>\n",
              "      <td>SBrkr</td>\n",
              "      <td>1145</td>\n",
              "      <td>1053</td>\n",
              "      <td>0</td>\n",
              "      <td>2198</td>\n",
              "      <td>1</td>\n",
              "      <td>0</td>\n",
              "      <td>2</td>\n",
              "      <td>1</td>\n",
              "      <td>4</td>\n",
              "      <td>1</td>\n",
              "      <td>Gd</td>\n",
              "      <td>9</td>\n",
              "      <td>Typ</td>\n",
              "      <td>1</td>\n",
              "      <td>TA</td>\n",
              "      <td>Attchd</td>\n",
              "      <td>2000.0</td>\n",
              "      <td>RFn</td>\n",
              "      <td>3</td>\n",
              "      <td>836</td>\n",
              "      <td>TA</td>\n",
              "      <td>TA</td>\n",
              "      <td>Y</td>\n",
              "      <td>192</td>\n",
              "      <td>84</td>\n",
              "      <td>0</td>\n",
              "      <td>0</td>\n",
              "      <td>0</td>\n",
              "      <td>0</td>\n",
              "      <td>NaN</td>\n",
              "      <td>NaN</td>\n",
              "      <td>NaN</td>\n",
              "      <td>0</td>\n",
              "      <td>12</td>\n",
              "      <td>2008</td>\n",
              "      <td>WD</td>\n",
              "      <td>Normal</td>\n",
              "      <td>250000</td>\n",
              "    </tr>\n",
              "  </tbody>\n",
              "</table>\n",
              "</div>"
            ],
            "text/plain": [
              "    MSSubClass MSZoning  LotFrontage  LotArea Street Alley LotShape  \\\n",
              "Id                                                                    \n",
              "1           60       RL         65.0     8450   Pave   NaN      Reg   \n",
              "2           20       RL         80.0     9600   Pave   NaN      Reg   \n",
              "3           60       RL         68.0    11250   Pave   NaN      IR1   \n",
              "4           70       RL         60.0     9550   Pave   NaN      IR1   \n",
              "5           60       RL         84.0    14260   Pave   NaN      IR1   \n",
              "\n",
              "   LandContour Utilities LotConfig LandSlope Neighborhood Condition1  \\\n",
              "Id                                                                     \n",
              "1          Lvl    AllPub    Inside       Gtl      CollgCr       Norm   \n",
              "2          Lvl    AllPub       FR2       Gtl      Veenker      Feedr   \n",
              "3          Lvl    AllPub    Inside       Gtl      CollgCr       Norm   \n",
              "4          Lvl    AllPub    Corner       Gtl      Crawfor       Norm   \n",
              "5          Lvl    AllPub       FR2       Gtl      NoRidge       Norm   \n",
              "\n",
              "   Condition2 BldgType HouseStyle  OverallQual  OverallCond  YearBuilt  \\\n",
              "Id                                                                       \n",
              "1        Norm     1Fam     2Story            7            5       2003   \n",
              "2        Norm     1Fam     1Story            6            8       1976   \n",
              "3        Norm     1Fam     2Story            7            5       2001   \n",
              "4        Norm     1Fam     2Story            7            5       1915   \n",
              "5        Norm     1Fam     2Story            8            5       2000   \n",
              "\n",
              "    YearRemodAdd RoofStyle RoofMatl Exterior1st Exterior2nd MasVnrType  \\\n",
              "Id                                                                       \n",
              "1           2003     Gable  CompShg     VinylSd     VinylSd    BrkFace   \n",
              "2           1976     Gable  CompShg     MetalSd     MetalSd       None   \n",
              "3           2002     Gable  CompShg     VinylSd     VinylSd    BrkFace   \n",
              "4           1970     Gable  CompShg     Wd Sdng     Wd Shng       None   \n",
              "5           2000     Gable  CompShg     VinylSd     VinylSd    BrkFace   \n",
              "\n",
              "    MasVnrArea ExterQual ExterCond Foundation BsmtQual BsmtCond BsmtExposure  \\\n",
              "Id                                                                             \n",
              "1        196.0        Gd        TA      PConc       Gd       TA           No   \n",
              "2          0.0        TA        TA     CBlock       Gd       TA           Gd   \n",
              "3        162.0        Gd        TA      PConc       Gd       TA           Mn   \n",
              "4          0.0        TA        TA     BrkTil       TA       Gd           No   \n",
              "5        350.0        Gd        TA      PConc       Gd       TA           Av   \n",
              "\n",
              "   BsmtFinType1  BsmtFinSF1 BsmtFinType2  BsmtFinSF2  BsmtUnfSF  TotalBsmtSF  \\\n",
              "Id                                                                             \n",
              "1           GLQ         706          Unf           0        150          856   \n",
              "2           ALQ         978          Unf           0        284         1262   \n",
              "3           GLQ         486          Unf           0        434          920   \n",
              "4           ALQ         216          Unf           0        540          756   \n",
              "5           GLQ         655          Unf           0        490         1145   \n",
              "\n",
              "   Heating HeatingQC CentralAir Electrical  1stFlrSF  2ndFlrSF  LowQualFinSF  \\\n",
              "Id                                                                             \n",
              "1     GasA        Ex          Y      SBrkr       856       854             0   \n",
              "2     GasA        Ex          Y      SBrkr      1262         0             0   \n",
              "3     GasA        Ex          Y      SBrkr       920       866             0   \n",
              "4     GasA        Gd          Y      SBrkr       961       756             0   \n",
              "5     GasA        Ex          Y      SBrkr      1145      1053             0   \n",
              "\n",
              "    GrLivArea  BsmtFullBath  BsmtHalfBath  FullBath  HalfBath  BedroomAbvGr  \\\n",
              "Id                                                                            \n",
              "1        1710             1             0         2         1             3   \n",
              "2        1262             0             1         2         0             3   \n",
              "3        1786             1             0         2         1             3   \n",
              "4        1717             1             0         1         0             3   \n",
              "5        2198             1             0         2         1             4   \n",
              "\n",
              "    KitchenAbvGr KitchenQual  TotRmsAbvGrd Functional  Fireplaces FireplaceQu  \\\n",
              "Id                                                                              \n",
              "1              1          Gd             8        Typ           0         NaN   \n",
              "2              1          TA             6        Typ           1          TA   \n",
              "3              1          Gd             6        Typ           1          TA   \n",
              "4              1          Gd             7        Typ           1          Gd   \n",
              "5              1          Gd             9        Typ           1          TA   \n",
              "\n",
              "   GarageType  GarageYrBlt GarageFinish  GarageCars  GarageArea GarageQual  \\\n",
              "Id                                                                           \n",
              "1      Attchd       2003.0          RFn           2         548         TA   \n",
              "2      Attchd       1976.0          RFn           2         460         TA   \n",
              "3      Attchd       2001.0          RFn           2         608         TA   \n",
              "4      Detchd       1998.0          Unf           3         642         TA   \n",
              "5      Attchd       2000.0          RFn           3         836         TA   \n",
              "\n",
              "   GarageCond PavedDrive  WoodDeckSF  OpenPorchSF  EnclosedPorch  3SsnPorch  \\\n",
              "Id                                                                            \n",
              "1          TA          Y           0           61              0          0   \n",
              "2          TA          Y         298            0              0          0   \n",
              "3          TA          Y           0           42              0          0   \n",
              "4          TA          Y           0           35            272          0   \n",
              "5          TA          Y         192           84              0          0   \n",
              "\n",
              "    ScreenPorch  PoolArea PoolQC Fence MiscFeature  MiscVal  MoSold  YrSold  \\\n",
              "Id                                                                            \n",
              "1             0         0    NaN   NaN         NaN        0       2    2008   \n",
              "2             0         0    NaN   NaN         NaN        0       5    2007   \n",
              "3             0         0    NaN   NaN         NaN        0       9    2008   \n",
              "4             0         0    NaN   NaN         NaN        0       2    2006   \n",
              "5             0         0    NaN   NaN         NaN        0      12    2008   \n",
              "\n",
              "   SaleType SaleCondition  SalePrice  \n",
              "Id                                    \n",
              "1        WD        Normal     208500  \n",
              "2        WD        Normal     181500  \n",
              "3        WD        Normal     223500  \n",
              "4        WD       Abnorml     140000  \n",
              "5        WD        Normal     250000  "
            ]
          },
          "metadata": {
            "tags": []
          },
          "execution_count": 22
        }
      ]
    },
    {
      "cell_type": "code",
      "metadata": {
        "id": "QhWPZUYIG5mu"
      },
      "source": [
        "col_to_use = [\"YearRemodAdd\", \"YrSold\", \"GrLivArea\", \"Alley\", \"MSZoning\", \"BsmtCond\", \"Street\", \"OverallQual\", \"SalePrice\"] #Here we subset the columns we'll use\n",
        "\n",
        "df_train = df_train[col_to_use].copy() # we copy the columns we want to work with"
      ],
      "execution_count": 23,
      "outputs": []
    },
    {
      "cell_type": "markdown",
      "metadata": {
        "id": "L68R3yGNHTHe"
      },
      "source": [
        "# Detecting Outliers"
      ]
    },
    {
      "cell_type": "markdown",
      "metadata": {
        "id": "rZcp8oId85aW"
      },
      "source": [
        "An outlier is a point that deviates from the rest\n",
        "\n",
        "\n",
        "- Inorder to do this, we have to plot our features\n",
        "\n",
        "- Outliers maybe as a result of mistakes in data collection"
      ]
    },
    {
      "cell_type": "code",
      "metadata": {
        "id": "BBST62IH8Pmn"
      },
      "source": [
        "?? plt.subplots()"
      ],
      "execution_count": 24,
      "outputs": []
    },
    {
      "cell_type": "code",
      "metadata": {
        "colab": {
          "base_uri": "https://localhost:8080/",
          "height": 282
        },
        "id": "e-PnBGKxHCYf",
        "outputId": "5c3dc8f2-2a4a-485e-85d4-8f4f6c65ee5b"
      },
      "source": [
        "'''\n",
        "\n",
        "we plot a scatter plot GrLivArea on x-axis vs SalePrice on y-axis\n",
        "\n",
        "'''\n",
        "fig, ax = plt.subplots()\n",
        "ax.scatter(x = df_train['GrLivArea'], y = df_train['SalePrice'])\n",
        "plt.ylabel('SalePrice', fontsize=13)#label on y axis,we increase font size to 13\n",
        "plt.xlabel('GrLivArea', fontsize=13)#label on x axis,we increase font size to 13\n",
        "plt.show()#plot our graph"
      ],
      "execution_count": 25,
      "outputs": [
        {
          "output_type": "display_data",
          "data": {
            "image/png": "[encoded data removed]",
            "text/plain": [
              "<Figure size 432x288 with 1 Axes>"
            ]
          },
          "metadata": {
            "tags": [],
            "needs_background": "light"
          }
        }
      ]
    },
    {
      "cell_type": "code",
      "metadata": {
        "id": "1vAKNrXWHLWf"
      },
      "source": [
        "# Deleting outliers\n",
        "'''\n",
        "From the above graph,we see 2 data points to the lower left.\n",
        "This is an example of noise\n",
        "\n",
        "'''\n",
        "df_train = df_train.drop(df_train[(df_train['GrLivArea']>4000) & (df_train['SalePrice']<300000)].index)"
      ],
      "execution_count": 26,
      "outputs": []
    },
    {
      "cell_type": "code",
      "metadata": {
        "colab": {
          "base_uri": "https://localhost:8080/",
          "height": 282
        },
        "id": "rgWlHigYHV3M",
        "outputId": "d1a12ecb-9ee6-43cc-f683-8481fc25e6d4"
      },
      "source": [
        "#Check the graphic again to see if the outliers are still existing\n",
        "\n",
        "\n",
        "fig, ax = plt.subplots()\n",
        "ax.scatter(df_train['GrLivArea'], df_train['SalePrice'])\n",
        "plt.ylabel('SalePrice', fontsize=13)\n",
        "plt.xlabel('GrLivArea', fontsize=13)\n",
        "plt.show()"
      ],
      "execution_count": 27,
      "outputs": [
        {
          "output_type": "display_data",
          "data": {
            "image/png": "[encoded data removed]",
            "text/plain": [
              "<Figure size 432x288 with 1 Axes>"
            ]
          },
          "metadata": {
            "tags": [],
            "needs_background": "light"
          }
        }
      ]
    },
    {
      "cell_type": "markdown",
      "metadata": {
        "id": "pMX73xPqHjoF"
      },
      "source": [
        "# Missing Values\n",
        "\n",
        "Most data science or ml models require data with no missing values we need to check if our data has any missing values"
      ]
    },
    {
      "cell_type": "code",
      "metadata": {
        "colab": {
          "base_uri": "https://localhost:8080/"
        },
        "id": "x-YX2HuUHjAA",
        "outputId": "fea19aca-1e81-47a2-a190-260d7113aac3"
      },
      "source": [
        "'''\n",
        "In Pandas ,we use isnull() function\n",
        "we sum the number of missing values per column\n",
        "we sort them in descending order by setting ascending to False\n",
        "'''\n",
        "df_train.isnull().sum().sort_values(ascending = False)"
      ],
      "execution_count": 28,
      "outputs": [
        {
          "output_type": "execute_result",
          "data": {
            "text/plain": [
              "Alley           1367\n",
              "BsmtCond          37\n",
              "SalePrice          0\n",
              "OverallQual        0\n",
              "Street             0\n",
              "MSZoning           0\n",
              "GrLivArea          0\n",
              "YrSold             0\n",
              "YearRemodAdd       0\n",
              "dtype: int64"
            ]
          },
          "metadata": {
            "tags": []
          },
          "execution_count": 28
        }
      ]
    },
    {
      "cell_type": "code",
      "metadata": {
        "id": "cYUc8k4CHa3r"
      },
      "source": [
        "'''\n",
        "from above,\n",
        "we see Alley has most missing values,we may decide to delete/drop this column\n",
        "# Some  also has a few missing BsmtCond\n",
        "we fill BsmtCond with 'None',since it is categorical column\n",
        "also remember to set inplace to True\n",
        "'''\n",
        "values = {\n",
        "          \"BsmtCond\": \"None\",           \n",
        "          }\n",
        "\n",
        "df_train.fillna(value=values, inplace=True)"
      ],
      "execution_count": 29,
      "outputs": []
    },
    {
      "cell_type": "code",
      "metadata": {
        "id": "SB-nJXPvHwlU"
      },
      "source": [
        "del df_train['Alley'] #delete Alley"
      ],
      "execution_count": 30,
      "outputs": []
    },
    {
      "cell_type": "code",
      "metadata": {
        "colab": {
          "base_uri": "https://localhost:8080/"
        },
        "id": "68VCjEd9H3TY",
        "outputId": "4e46c7c3-fa2c-465c-a1bb-34414797cbc7"
      },
      "source": [
        "#check for null values again\n",
        "#we have none\n",
        "df_train.isnull().sum().sort_values(ascending = False)"
      ],
      "execution_count": 31,
      "outputs": [
        {
          "output_type": "execute_result",
          "data": {
            "text/plain": [
              "SalePrice       0\n",
              "OverallQual     0\n",
              "Street          0\n",
              "BsmtCond        0\n",
              "MSZoning        0\n",
              "GrLivArea       0\n",
              "YrSold          0\n",
              "YearRemodAdd    0\n",
              "dtype: int64"
            ]
          },
          "metadata": {
            "tags": []
          },
          "execution_count": 31
        }
      ]
    },
    {
      "cell_type": "markdown",
      "metadata": {
        "id": "hrHXDCecIGBx"
      },
      "source": [
        "**Feature Engineering**\n",
        "\n",
        "- It is a way of creating more features.Most probably from domain known or the trends in the data and/ any logic\n",
        "\n",
        "- There is no defined method of doing it\n",
        "\n",
        "- We can also consider Converting categorical columns to numerical has part of feature engineering"
      ]
    },
    {
      "cell_type": "code",
      "metadata": {
        "id": "M8TEc964H6K1"
      },
      "source": [
        "# Create feature(houseage) indicating age of house after renovation\n",
        "df_train['HouseAge'] = df_train['YrSold'] - df_train['YearRemodAdd']\n"
      ],
      "execution_count": 32,
      "outputs": []
    },
    {
      "cell_type": "code",
      "metadata": {
        "colab": {
          "base_uri": "https://localhost:8080/"
        },
        "id": "CdXt6sneIK0E",
        "outputId": "6f6dd42a-ff26-4f08-ce4b-492f77d0d7ee"
      },
      "source": [
        "# Change convert all low ages to zero ,we cant have a house with negative age\n",
        "\n",
        "df_train['HouseAge'][df_train['HouseAge'] < 0] = 0"
      ],
      "execution_count": 36,
      "outputs": [
        {
          "output_type": "stream",
          "text": [
            "/usr/local/lib/python3.7/dist-packages/ipykernel_launcher.py:3: SettingWithCopyWarning: \n",
            "A value is trying to be set on a copy of a slice from a DataFrame\n",
            "\n",
            "See the caveats in the documentation: https://pandas.pydata.org/pandas-docs/stable/user_guide/indexing.html#returning-a-view-versus-a-copy\n",
            "  This is separate from the ipykernel package so we can avoid doing imports until\n"
          ],
          "name": "stderr"
        }
      ]
    },
    {
      "cell_type": "code",
      "metadata": {
        "colab": {
          "base_uri": "https://localhost:8080/"
        },
        "id": "LNVvZfxdIbRO",
        "outputId": "e8a2eef1-eb46-4c3c-cfe2-2b28aa686cd7"
      },
      "source": [
        "# looking for unique values\n",
        "\n",
        "df_train['Street'].unique()"
      ],
      "execution_count": 37,
      "outputs": [
        {
          "output_type": "execute_result",
          "data": {
            "text/plain": [
              "array(['Pave', 'Grvl'], dtype=object)"
            ]
          },
          "metadata": {
            "tags": []
          },
          "execution_count": 37
        }
      ]
    },
    {
      "cell_type": "code",
      "metadata": {
        "id": "wbgZHZtuIOsY"
      },
      "source": [
        "'''\n",
        "we can replace Grvl with 1 and Grvl with 2\n",
        "we can use a dictionary in this case as shown below\n",
        "\n",
        "Convert some categorial vatiables to numerical where there is order\n",
        "'''\n",
        "replacement_str = {\"Grvl\": 1, \"c\": 2}\n",
        "\n",
        "df_train = df_train.replace({\n",
        "                        'Street': replacement_str,\n",
        "                        })"
      ],
      "execution_count": 38,
      "outputs": []
    },
    {
      "cell_type": "code",
      "metadata": {
        "colab": {
          "base_uri": "https://localhost:8080/"
        },
        "id": "UqpEyY-DIWIO",
        "outputId": "8704d483-9e43-403d-96ac-43e16e36815e"
      },
      "source": [
        "df_train[\"OverallQual\"].unique()"
      ],
      "execution_count": 39,
      "outputs": [
        {
          "output_type": "execute_result",
          "data": {
            "text/plain": [
              "array([ 7,  6,  8,  5,  9,  4, 10,  3,  1,  2])"
            ]
          },
          "metadata": {
            "tags": []
          },
          "execution_count": 39
        }
      ]
    },
    {
      "cell_type": "code",
      "metadata": {
        "id": "BuDBjMuzIl-N"
      },
      "source": [
        "'''\n",
        "Create new features by binning of an existing feature.\n",
        "For example OverallQual takes values from 1 to 10,but we may want to classify this into 3 categories i.e,bad,average and good\n",
        "This is very useful for linear models\n",
        "1,2,3-----bad\n",
        "4,5,6-----average\n",
        "7,8,9,10-----good\n",
        "'''\n",
        "# 1* Simplifications of existing features\n",
        "df_train[\"SimplOverallQual\"] = df_train.OverallQual.replace({1 : 1, 2 : 1, 3 : 1, # bad\n",
        "                                                       4 : 2, 5 : 2, 6 : 2, # average\n",
        "                                                       7 : 3, 8 : 3, 9 : 3, 10 : 3 # good\n",
        "                                                      })"
      ],
      "execution_count": 40,
      "outputs": []
    },
    {
      "cell_type": "code",
      "metadata": {
        "colab": {
          "base_uri": "https://localhost:8080/"
        },
        "id": "yRlf4vRKIpkZ",
        "outputId": "38faf20c-d841-4c7b-b442-6ab5a8c5d584"
      },
      "source": [
        "# Divide features into numerical and categorical features\n",
        "\n",
        "df_train_num = df_train.select_dtypes(include = [np.number])\n",
        "df_train_num.columns\n",
        "#df_train_cat = df_train.select_dtypes(include = ['object'])"
      ],
      "execution_count": 41,
      "outputs": [
        {
          "output_type": "execute_result",
          "data": {
            "text/plain": [
              "Index(['YearRemodAdd', 'YrSold', 'GrLivArea', 'OverallQual', 'SalePrice',\n",
              "       'HouseAge', 'SimplOverallQual'],\n",
              "      dtype='object')"
            ]
          },
          "metadata": {
            "tags": []
          },
          "execution_count": 41
        }
      ]
    },
    {
      "cell_type": "code",
      "metadata": {
        "id": "80eqhiJhDiSd"
      },
      "source": [
        "df_le = df_train.copy()#lets  copy our dataset and demonsstrate label encodinf\n"
      ],
      "execution_count": 42,
      "outputs": []
    },
    {
      "cell_type": "code",
      "metadata": {
        "colab": {
          "base_uri": "https://localhost:8080/",
          "height": 253
        },
        "id": "TGoioeKQDmE_",
        "outputId": "cc93f1b1-e955-4f3b-d03b-0e38903fb761"
      },
      "source": [
        "df_le.head()#MSZoning is categorical,we want to make it numerical"
      ],
      "execution_count": 43,
      "outputs": [
        {
          "output_type": "execute_result",
          "data": {
            "text/html": [
              "<div>\n",
              "<style scoped>\n",
              "    .dataframe tbody tr th:only-of-type {\n",
              "        vertical-align: middle;\n",
              "    }\n",
              "\n",
              "    .dataframe tbody tr th {\n",
              "        vertical-align: top;\n",
              "    }\n",
              "\n",
              "    .dataframe thead th {\n",
              "        text-align: right;\n",
              "    }\n",
              "</style>\n",
              "<table border=\"1\" class=\"dataframe\">\n",
              "  <thead>\n",
              "    <tr style=\"text-align: right;\">\n",
              "      <th></th>\n",
              "      <th>YearRemodAdd</th>\n",
              "      <th>YrSold</th>\n",
              "      <th>GrLivArea</th>\n",
              "      <th>MSZoning</th>\n",
              "      <th>BsmtCond</th>\n",
              "      <th>Street</th>\n",
              "      <th>OverallQual</th>\n",
              "      <th>SalePrice</th>\n",
              "      <th>HouseAge</th>\n",
              "      <th>SimplOverallQual</th>\n",
              "    </tr>\n",
              "    <tr>\n",
              "      <th>Id</th>\n",
              "      <th></th>\n",
              "      <th></th>\n",
              "      <th></th>\n",
              "      <th></th>\n",
              "      <th></th>\n",
              "      <th></th>\n",
              "      <th></th>\n",
              "      <th></th>\n",
              "      <th></th>\n",
              "      <th></th>\n",
              "    </tr>\n",
              "  </thead>\n",
              "  <tbody>\n",
              "    <tr>\n",
              "      <th>1</th>\n",
              "      <td>2003</td>\n",
              "      <td>2008</td>\n",
              "      <td>1710</td>\n",
              "      <td>RL</td>\n",
              "      <td>TA</td>\n",
              "      <td>Pave</td>\n",
              "      <td>7</td>\n",
              "      <td>208500</td>\n",
              "      <td>5</td>\n",
              "      <td>3</td>\n",
              "    </tr>\n",
              "    <tr>\n",
              "      <th>2</th>\n",
              "      <td>1976</td>\n",
              "      <td>2007</td>\n",
              "      <td>1262</td>\n",
              "      <td>RL</td>\n",
              "      <td>TA</td>\n",
              "      <td>Pave</td>\n",
              "      <td>6</td>\n",
              "      <td>181500</td>\n",
              "      <td>31</td>\n",
              "      <td>2</td>\n",
              "    </tr>\n",
              "    <tr>\n",
              "      <th>3</th>\n",
              "      <td>2002</td>\n",
              "      <td>2008</td>\n",
              "      <td>1786</td>\n",
              "      <td>RL</td>\n",
              "      <td>TA</td>\n",
              "      <td>Pave</td>\n",
              "      <td>7</td>\n",
              "      <td>223500</td>\n",
              "      <td>6</td>\n",
              "      <td>3</td>\n",
              "    </tr>\n",
              "    <tr>\n",
              "      <th>4</th>\n",
              "      <td>1970</td>\n",
              "      <td>2006</td>\n",
              "      <td>1717</td>\n",
              "      <td>RL</td>\n",
              "      <td>Gd</td>\n",
              "      <td>Pave</td>\n",
              "      <td>7</td>\n",
              "      <td>140000</td>\n",
              "      <td>36</td>\n",
              "      <td>3</td>\n",
              "    </tr>\n",
              "    <tr>\n",
              "      <th>5</th>\n",
              "      <td>2000</td>\n",
              "      <td>2008</td>\n",
              "      <td>2198</td>\n",
              "      <td>RL</td>\n",
              "      <td>TA</td>\n",
              "      <td>Pave</td>\n",
              "      <td>8</td>\n",
              "      <td>250000</td>\n",
              "      <td>8</td>\n",
              "      <td>3</td>\n",
              "    </tr>\n",
              "  </tbody>\n",
              "</table>\n",
              "</div>"
            ],
            "text/plain": [
              "    YearRemodAdd  YrSold  GrLivArea MSZoning BsmtCond Street  OverallQual  \\\n",
              "Id                                                                          \n",
              "1           2003    2008       1710       RL       TA   Pave            7   \n",
              "2           1976    2007       1262       RL       TA   Pave            6   \n",
              "3           2002    2008       1786       RL       TA   Pave            7   \n",
              "4           1970    2006       1717       RL       Gd   Pave            7   \n",
              "5           2000    2008       2198       RL       TA   Pave            8   \n",
              "\n",
              "    SalePrice  HouseAge  SimplOverallQual  \n",
              "Id                                         \n",
              "1      208500         5                 3  \n",
              "2      181500        31                 2  \n",
              "3      223500         6                 3  \n",
              "4      140000        36                 3  \n",
              "5      250000         8                 3  "
            ]
          },
          "metadata": {
            "tags": []
          },
          "execution_count": 43
        }
      ]
    },
    {
      "cell_type": "markdown",
      "metadata": {
        "id": "DpnaqUxoI50z"
      },
      "source": [
        "LabelEncoding of Categorical Variables"
      ]
    },
    {
      "cell_type": "code",
      "metadata": {
        "id": "p__Cz52xIw-8"
      },
      "source": [
        "'''\n",
        "we can also use label encoder from sklearn to convert our categoricl features toi numerical\n",
        "for example we went to  MSZoning\n",
        "'''\n",
        "from sklearn.preprocessing import LabelEncoder# import label encoder\n",
        "le = LabelEncoder()#instantiate our encoder\n",
        "df_le['MSZoning']=le.fit_transform(df_le['MSZoning'])\n"
      ],
      "execution_count": 44,
      "outputs": []
    },
    {
      "cell_type": "code",
      "metadata": {
        "colab": {
          "base_uri": "https://localhost:8080/",
          "height": 253
        },
        "id": "judkMWU2EH7K",
        "outputId": "da2dc4d0-8e8d-4a30-e2c3-7c330a9e6e20"
      },
      "source": [
        "df_le.head()#MSZoning is now numerical"
      ],
      "execution_count": 45,
      "outputs": [
        {
          "output_type": "execute_result",
          "data": {
            "text/html": [
              "<div>\n",
              "<style scoped>\n",
              "    .dataframe tbody tr th:only-of-type {\n",
              "        vertical-align: middle;\n",
              "    }\n",
              "\n",
              "    .dataframe tbody tr th {\n",
              "        vertical-align: top;\n",
              "    }\n",
              "\n",
              "    .dataframe thead th {\n",
              "        text-align: right;\n",
              "    }\n",
              "</style>\n",
              "<table border=\"1\" class=\"dataframe\">\n",
              "  <thead>\n",
              "    <tr style=\"text-align: right;\">\n",
              "      <th></th>\n",
              "      <th>YearRemodAdd</th>\n",
              "      <th>YrSold</th>\n",
              "      <th>GrLivArea</th>\n",
              "      <th>MSZoning</th>\n",
              "      <th>BsmtCond</th>\n",
              "      <th>Street</th>\n",
              "      <th>OverallQual</th>\n",
              "      <th>SalePrice</th>\n",
              "      <th>HouseAge</th>\n",
              "      <th>SimplOverallQual</th>\n",
              "    </tr>\n",
              "    <tr>\n",
              "      <th>Id</th>\n",
              "      <th></th>\n",
              "      <th></th>\n",
              "      <th></th>\n",
              "      <th></th>\n",
              "      <th></th>\n",
              "      <th></th>\n",
              "      <th></th>\n",
              "      <th></th>\n",
              "      <th></th>\n",
              "      <th></th>\n",
              "    </tr>\n",
              "  </thead>\n",
              "  <tbody>\n",
              "    <tr>\n",
              "      <th>1</th>\n",
              "      <td>2003</td>\n",
              "      <td>2008</td>\n",
              "      <td>1710</td>\n",
              "      <td>3</td>\n",
              "      <td>TA</td>\n",
              "      <td>Pave</td>\n",
              "      <td>7</td>\n",
              "      <td>208500</td>\n",
              "      <td>5</td>\n",
              "      <td>3</td>\n",
              "    </tr>\n",
              "    <tr>\n",
              "      <th>2</th>\n",
              "      <td>1976</td>\n",
              "      <td>2007</td>\n",
              "      <td>1262</td>\n",
              "      <td>3</td>\n",
              "      <td>TA</td>\n",
              "      <td>Pave</td>\n",
              "      <td>6</td>\n",
              "      <td>181500</td>\n",
              "      <td>31</td>\n",
              "      <td>2</td>\n",
              "    </tr>\n",
              "    <tr>\n",
              "      <th>3</th>\n",
              "      <td>2002</td>\n",
              "      <td>2008</td>\n",
              "      <td>1786</td>\n",
              "      <td>3</td>\n",
              "      <td>TA</td>\n",
              "      <td>Pave</td>\n",
              "      <td>7</td>\n",
              "      <td>223500</td>\n",
              "      <td>6</td>\n",
              "      <td>3</td>\n",
              "    </tr>\n",
              "    <tr>\n",
              "      <th>4</th>\n",
              "      <td>1970</td>\n",
              "      <td>2006</td>\n",
              "      <td>1717</td>\n",
              "      <td>3</td>\n",
              "      <td>Gd</td>\n",
              "      <td>Pave</td>\n",
              "      <td>7</td>\n",
              "      <td>140000</td>\n",
              "      <td>36</td>\n",
              "      <td>3</td>\n",
              "    </tr>\n",
              "    <tr>\n",
              "      <th>5</th>\n",
              "      <td>2000</td>\n",
              "      <td>2008</td>\n",
              "      <td>2198</td>\n",
              "      <td>3</td>\n",
              "      <td>TA</td>\n",
              "      <td>Pave</td>\n",
              "      <td>8</td>\n",
              "      <td>250000</td>\n",
              "      <td>8</td>\n",
              "      <td>3</td>\n",
              "    </tr>\n",
              "  </tbody>\n",
              "</table>\n",
              "</div>"
            ],
            "text/plain": [
              "    YearRemodAdd  YrSold  GrLivArea  MSZoning BsmtCond Street  OverallQual  \\\n",
              "Id                                                                           \n",
              "1           2003    2008       1710         3       TA   Pave            7   \n",
              "2           1976    2007       1262         3       TA   Pave            6   \n",
              "3           2002    2008       1786         3       TA   Pave            7   \n",
              "4           1970    2006       1717         3       Gd   Pave            7   \n",
              "5           2000    2008       2198         3       TA   Pave            8   \n",
              "\n",
              "    SalePrice  HouseAge  SimplOverallQual  \n",
              "Id                                         \n",
              "1      208500         5                 3  \n",
              "2      181500        31                 2  \n",
              "3      223500         6                 3  \n",
              "4      140000        36                 3  \n",
              "5      250000         8                 3  "
            ]
          },
          "metadata": {
            "tags": []
          },
          "execution_count": 45
        }
      ]
    },
    {
      "cell_type": "markdown",
      "metadata": {
        "id": "fVOxjcUaypJX"
      },
      "source": [
        "# Duplicates"
      ]
    },
    {
      "cell_type": "code",
      "metadata": {
        "id": "ibxVWfULysN2"
      },
      "source": [
        "'''\n",
        "Lets create dummy dataset with 3 columns,we have some duplicated rows\n",
        "'''\n",
        "students = [('Erasto', 34, 'Nairobi'),\n",
        "            ('Gitumbu', 30, 'Nairobi'),\n",
        "            ('Oluoch', 36, 'Nairobi'),\n",
        "            ('Muthoni', 30, 'Nairobi'),\n",
        "            ('Qondeni', 30, 'Nairobi'),\n",
        "            ('Qondeni', 30, 'Mombasa'),\n",
        "            ('Muthoni', 30, 'Nairobi'),\n",
        "            ('Gitumbu', 30, 'Nairobi')\n",
        "            ]\n",
        "# Create a DataFrame object\n",
        "df = pd.DataFrame(students, columns=['Name', 'Age', 'City'])"
      ],
      "execution_count": 49,
      "outputs": []
    },
    {
      "cell_type": "code",
      "metadata": {
        "colab": {
          "base_uri": "https://localhost:8080/",
          "height": 294
        },
        "id": "5YjjH7MtztdQ",
        "outputId": "7d7c74df-cd41-463a-d644-2f8083f75483"
      },
      "source": [
        "df#lets visualize our dataset"
      ],
      "execution_count": 56,
      "outputs": [
        {
          "output_type": "execute_result",
          "data": {
            "text/html": [
              "<div>\n",
              "<style scoped>\n",
              "    .dataframe tbody tr th:only-of-type {\n",
              "        vertical-align: middle;\n",
              "    }\n",
              "\n",
              "    .dataframe tbody tr th {\n",
              "        vertical-align: top;\n",
              "    }\n",
              "\n",
              "    .dataframe thead th {\n",
              "        text-align: right;\n",
              "    }\n",
              "</style>\n",
              "<table border=\"1\" class=\"dataframe\">\n",
              "  <thead>\n",
              "    <tr style=\"text-align: right;\">\n",
              "      <th></th>\n",
              "      <th>Name</th>\n",
              "      <th>Age</th>\n",
              "      <th>City</th>\n",
              "    </tr>\n",
              "  </thead>\n",
              "  <tbody>\n",
              "    <tr>\n",
              "      <th>0</th>\n",
              "      <td>Erasto</td>\n",
              "      <td>34</td>\n",
              "      <td>Nairobi</td>\n",
              "    </tr>\n",
              "    <tr>\n",
              "      <th>1</th>\n",
              "      <td>Gitumbu</td>\n",
              "      <td>30</td>\n",
              "      <td>Nairobi</td>\n",
              "    </tr>\n",
              "    <tr>\n",
              "      <th>2</th>\n",
              "      <td>Oluoch</td>\n",
              "      <td>36</td>\n",
              "      <td>Nairobi</td>\n",
              "    </tr>\n",
              "    <tr>\n",
              "      <th>3</th>\n",
              "      <td>Muthoni</td>\n",
              "      <td>30</td>\n",
              "      <td>Nairobi</td>\n",
              "    </tr>\n",
              "    <tr>\n",
              "      <th>4</th>\n",
              "      <td>Qondeni</td>\n",
              "      <td>30</td>\n",
              "      <td>Nairobi</td>\n",
              "    </tr>\n",
              "    <tr>\n",
              "      <th>5</th>\n",
              "      <td>Qondeni</td>\n",
              "      <td>30</td>\n",
              "      <td>Mombasa</td>\n",
              "    </tr>\n",
              "    <tr>\n",
              "      <th>6</th>\n",
              "      <td>Muthoni</td>\n",
              "      <td>30</td>\n",
              "      <td>Nairobi</td>\n",
              "    </tr>\n",
              "    <tr>\n",
              "      <th>7</th>\n",
              "      <td>Gitumbu</td>\n",
              "      <td>30</td>\n",
              "      <td>Nairobi</td>\n",
              "    </tr>\n",
              "  </tbody>\n",
              "</table>\n",
              "</div>"
            ],
            "text/plain": [
              "      Name  Age     City\n",
              "0   Erasto   34  Nairobi\n",
              "1  Gitumbu   30  Nairobi\n",
              "2   Oluoch   36  Nairobi\n",
              "3  Muthoni   30  Nairobi\n",
              "4  Qondeni   30  Nairobi\n",
              "5  Qondeni   30  Mombasa\n",
              "6  Muthoni   30  Nairobi\n",
              "7  Gitumbu   30  Nairobi"
            ]
          },
          "metadata": {
            "tags": []
          },
          "execution_count": 56
        }
      ]
    },
    {
      "cell_type": "code",
      "metadata": {
        "id": "9YeIFb1_zvd0"
      },
      "source": [
        "new_data=df[df.duplicated()]#we use duplicated in pandas to filter out the duplicated rows aand assign our result to new_data"
      ],
      "execution_count": 55,
      "outputs": []
    },
    {
      "cell_type": "code",
      "metadata": {
        "colab": {
          "base_uri": "https://localhost:8080/"
        },
        "id": "7lhUcXdR0Hde",
        "outputId": "c19fd8f6-89a8-4907-c552-5802ae8e4a71"
      },
      "source": [
        "new_data #we can see row 1 and 7 are similar and rows 3and 6 are same.Pandas will select the duplicated instances"
      ],
      "execution_count": null,
      "outputs": [
        {
          "output_type": "execute_result",
          "data": {
            "text/html": [
              "<div>\n",
              "<style scoped>\n",
              "    .dataframe tbody tr th:only-of-type {\n",
              "        vertical-align: middle;\n",
              "    }\n",
              "\n",
              "    .dataframe tbody tr th {\n",
              "        vertical-align: top;\n",
              "    }\n",
              "\n",
              "    .dataframe thead th {\n",
              "        text-align: right;\n",
              "    }\n",
              "</style>\n",
              "<table border=\"1\" class=\"dataframe\">\n",
              "  <thead>\n",
              "    <tr style=\"text-align: right;\">\n",
              "      <th></th>\n",
              "      <th>Name</th>\n",
              "      <th>Age</th>\n",
              "      <th>City</th>\n",
              "    </tr>\n",
              "  </thead>\n",
              "  <tbody>\n",
              "    <tr>\n",
              "      <th>6</th>\n",
              "      <td>Muthoni</td>\n",
              "      <td>30</td>\n",
              "      <td>Nairobi</td>\n",
              "    </tr>\n",
              "    <tr>\n",
              "      <th>7</th>\n",
              "      <td>Gitumbu</td>\n",
              "      <td>30</td>\n",
              "      <td>Nairobi</td>\n",
              "    </tr>\n",
              "  </tbody>\n",
              "</table>\n",
              "</div>"
            ],
            "text/plain": [
              "      Name  Age     City\n",
              "6  Muthoni   30  Nairobi\n",
              "7  Gitumbu   30  Nairobi"
            ]
          },
          "metadata": {
            "tags": []
          },
          "execution_count": 31
        }
      ]
    },
    {
      "cell_type": "code",
      "metadata": {
        "id": "syUo3rym0I2V"
      },
      "source": [
        "duplicate = df[df.duplicated(['Name'])]#we can also chech duplicated instances based on column,in this case Name"
      ],
      "execution_count": 53,
      "outputs": []
    },
    {
      "cell_type": "code",
      "metadata": {
        "colab": {
          "base_uri": "https://localhost:8080/",
          "height": 141
        },
        "id": "FLfF6Yct0uTR",
        "outputId": "a15d0e95-8ef1-498d-bea7-cdb8649d746d"
      },
      "source": [
        "duplicate"
      ],
      "execution_count": 54,
      "outputs": [
        {
          "output_type": "execute_result",
          "data": {
            "text/html": [
              "<div>\n",
              "<style scoped>\n",
              "    .dataframe tbody tr th:only-of-type {\n",
              "        vertical-align: middle;\n",
              "    }\n",
              "\n",
              "    .dataframe tbody tr th {\n",
              "        vertical-align: top;\n",
              "    }\n",
              "\n",
              "    .dataframe thead th {\n",
              "        text-align: right;\n",
              "    }\n",
              "</style>\n",
              "<table border=\"1\" class=\"dataframe\">\n",
              "  <thead>\n",
              "    <tr style=\"text-align: right;\">\n",
              "      <th></th>\n",
              "      <th>Name</th>\n",
              "      <th>Age</th>\n",
              "      <th>City</th>\n",
              "    </tr>\n",
              "  </thead>\n",
              "  <tbody>\n",
              "    <tr>\n",
              "      <th>5</th>\n",
              "      <td>Qondeni</td>\n",
              "      <td>30</td>\n",
              "      <td>Mombasa</td>\n",
              "    </tr>\n",
              "    <tr>\n",
              "      <th>6</th>\n",
              "      <td>Muthoni</td>\n",
              "      <td>30</td>\n",
              "      <td>Nairobi</td>\n",
              "    </tr>\n",
              "    <tr>\n",
              "      <th>7</th>\n",
              "      <td>Gitumbu</td>\n",
              "      <td>30</td>\n",
              "      <td>Nairobi</td>\n",
              "    </tr>\n",
              "  </tbody>\n",
              "</table>\n",
              "</div>"
            ],
            "text/plain": [
              "      Name  Age     City\n",
              "5  Qondeni   30  Mombasa\n",
              "6  Muthoni   30  Nairobi\n",
              "7  Gitumbu   30  Nairobi"
            ]
          },
          "metadata": {
            "tags": []
          },
          "execution_count": 54
        }
      ]
    },
    {
      "cell_type": "code",
      "metadata": {
        "id": "faHwnjEP0vkG"
      },
      "source": [
        "df=df.drop_duplicates(keep='first') #in pandas we use drop_duplicates and drop all duplicated instances,if we want to keep the first instance,we set keep=True"
      ],
      "execution_count": 57,
      "outputs": []
    },
    {
      "cell_type": "code",
      "metadata": {
        "colab": {
          "base_uri": "https://localhost:8080/",
          "height": 233
        },
        "id": "D3ovp4Fs14gl",
        "outputId": "bfa8986b-887a-4c04-974b-3b3f3c1ef8b7"
      },
      "source": [
        "df #we now see that all duplicated rows have been dropped"
      ],
      "execution_count": 58,
      "outputs": [
        {
          "output_type": "execute_result",
          "data": {
            "text/html": [
              "<div>\n",
              "<style scoped>\n",
              "    .dataframe tbody tr th:only-of-type {\n",
              "        vertical-align: middle;\n",
              "    }\n",
              "\n",
              "    .dataframe tbody tr th {\n",
              "        vertical-align: top;\n",
              "    }\n",
              "\n",
              "    .dataframe thead th {\n",
              "        text-align: right;\n",
              "    }\n",
              "</style>\n",
              "<table border=\"1\" class=\"dataframe\">\n",
              "  <thead>\n",
              "    <tr style=\"text-align: right;\">\n",
              "      <th></th>\n",
              "      <th>Name</th>\n",
              "      <th>Age</th>\n",
              "      <th>City</th>\n",
              "    </tr>\n",
              "  </thead>\n",
              "  <tbody>\n",
              "    <tr>\n",
              "      <th>0</th>\n",
              "      <td>Erasto</td>\n",
              "      <td>34</td>\n",
              "      <td>Nairobi</td>\n",
              "    </tr>\n",
              "    <tr>\n",
              "      <th>1</th>\n",
              "      <td>Gitumbu</td>\n",
              "      <td>30</td>\n",
              "      <td>Nairobi</td>\n",
              "    </tr>\n",
              "    <tr>\n",
              "      <th>2</th>\n",
              "      <td>Oluoch</td>\n",
              "      <td>36</td>\n",
              "      <td>Nairobi</td>\n",
              "    </tr>\n",
              "    <tr>\n",
              "      <th>3</th>\n",
              "      <td>Muthoni</td>\n",
              "      <td>30</td>\n",
              "      <td>Nairobi</td>\n",
              "    </tr>\n",
              "    <tr>\n",
              "      <th>4</th>\n",
              "      <td>Qondeni</td>\n",
              "      <td>30</td>\n",
              "      <td>Nairobi</td>\n",
              "    </tr>\n",
              "    <tr>\n",
              "      <th>5</th>\n",
              "      <td>Qondeni</td>\n",
              "      <td>30</td>\n",
              "      <td>Mombasa</td>\n",
              "    </tr>\n",
              "  </tbody>\n",
              "</table>\n",
              "</div>"
            ],
            "text/plain": [
              "      Name  Age     City\n",
              "0   Erasto   34  Nairobi\n",
              "1  Gitumbu   30  Nairobi\n",
              "2   Oluoch   36  Nairobi\n",
              "3  Muthoni   30  Nairobi\n",
              "4  Qondeni   30  Nairobi\n",
              "5  Qondeni   30  Mombasa"
            ]
          },
          "metadata": {
            "tags": []
          },
          "execution_count": 58
        }
      ]
    },
    {
      "cell_type": "code",
      "metadata": {
        "id": "o-ks3frN15bR"
      },
      "source": [
        "df=df.drop_duplicates(subset=['Name'])# what if we want to drop duplicated based on Name?se set subset to the column name"
      ],
      "execution_count": 59,
      "outputs": []
    },
    {
      "cell_type": "code",
      "metadata": {
        "colab": {
          "base_uri": "https://localhost:8080/",
          "height": 202
        },
        "id": "2DQ1itZn2G5C",
        "outputId": "060787f6-0830-4d73-eadc-32b1a784da2e"
      },
      "source": [
        "df"
      ],
      "execution_count": 60,
      "outputs": [
        {
          "output_type": "execute_result",
          "data": {
            "text/html": [
              "<div>\n",
              "<style scoped>\n",
              "    .dataframe tbody tr th:only-of-type {\n",
              "        vertical-align: middle;\n",
              "    }\n",
              "\n",
              "    .dataframe tbody tr th {\n",
              "        vertical-align: top;\n",
              "    }\n",
              "\n",
              "    .dataframe thead th {\n",
              "        text-align: right;\n",
              "    }\n",
              "</style>\n",
              "<table border=\"1\" class=\"dataframe\">\n",
              "  <thead>\n",
              "    <tr style=\"text-align: right;\">\n",
              "      <th></th>\n",
              "      <th>Name</th>\n",
              "      <th>Age</th>\n",
              "      <th>City</th>\n",
              "    </tr>\n",
              "  </thead>\n",
              "  <tbody>\n",
              "    <tr>\n",
              "      <th>0</th>\n",
              "      <td>Erasto</td>\n",
              "      <td>34</td>\n",
              "      <td>Nairobi</td>\n",
              "    </tr>\n",
              "    <tr>\n",
              "      <th>1</th>\n",
              "      <td>Gitumbu</td>\n",
              "      <td>30</td>\n",
              "      <td>Nairobi</td>\n",
              "    </tr>\n",
              "    <tr>\n",
              "      <th>2</th>\n",
              "      <td>Oluoch</td>\n",
              "      <td>36</td>\n",
              "      <td>Nairobi</td>\n",
              "    </tr>\n",
              "    <tr>\n",
              "      <th>3</th>\n",
              "      <td>Muthoni</td>\n",
              "      <td>30</td>\n",
              "      <td>Nairobi</td>\n",
              "    </tr>\n",
              "    <tr>\n",
              "      <th>4</th>\n",
              "      <td>Qondeni</td>\n",
              "      <td>30</td>\n",
              "      <td>Nairobi</td>\n",
              "    </tr>\n",
              "  </tbody>\n",
              "</table>\n",
              "</div>"
            ],
            "text/plain": [
              "      Name  Age     City\n",
              "0   Erasto   34  Nairobi\n",
              "1  Gitumbu   30  Nairobi\n",
              "2   Oluoch   36  Nairobi\n",
              "3  Muthoni   30  Nairobi\n",
              "4  Qondeni   30  Nairobi"
            ]
          },
          "metadata": {
            "tags": []
          },
          "execution_count": 60
        }
      ]
    }
  ]
}