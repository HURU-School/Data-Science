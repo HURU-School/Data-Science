{
  "nbformat": 4,
  "nbformat_minor": 0,
  "metadata": {
    "colab": {
      "name": "Sets.ipynb",
      "provenance": [],
      "collapsed_sections": []
    },
    "kernelspec": {
      "name": "python3",
      "display_name": "Python 3"
    }
  },
  "cells": [
    {
      "cell_type": "markdown",
      "metadata": {
        "id": "9J1tDmkvz759"
      },
      "source": [
        "#Sets\r\n",
        "## 1. initialize empty sets and sets with values.\r\n",
        "## 2. add and remove values from sets\r\n",
        "## 3. membership tests and removing duplicate values from a list\r\n",
        "## 4. perform operations like unions, intersections, difference"
      ]
    },
    {
      "cell_type": "code",
      "metadata": {
        "colab": {
          "base_uri": "https://localhost:8080/"
        },
        "id": "vrIw67CDu-Pv",
        "outputId": "56aa116d-fa69-4f86-9244-dd194dbd7060"
      },
      "source": [
        "# initialize an empty set\r\n",
        "my_set = set()\r\n",
        "my_set"
      ],
      "execution_count": null,
      "outputs": [
        {
          "output_type": "execute_result",
          "data": {
            "text/plain": [
              "set()"
            ]
          },
          "metadata": {
            "tags": []
          },
          "execution_count": 97
        }
      ]
    },
    {
      "cell_type": "code",
      "metadata": {
        "colab": {
          "base_uri": "https://localhost:8080/"
        },
        "id": "3kSUrSstwVl5",
        "outputId": "ba4642ab-c3ee-4181-8f63-a891394fede5"
      },
      "source": [
        "# initialize a set with values\r\n",
        "num_set = set([1,2,3,4,5,6])  # pass a list of numbers\r\n",
        "num_set"
      ],
      "execution_count": null,
      "outputs": [
        {
          "output_type": "execute_result",
          "data": {
            "text/plain": [
              "{1, 2, 3, 4, 5, 6}"
            ]
          },
          "metadata": {
            "tags": []
          },
          "execution_count": 98
        }
      ]
    },
    {
      "cell_type": "code",
      "metadata": {
        "colab": {
          "base_uri": "https://localhost:8080/"
        },
        "id": "7PrnDOP_xI3P",
        "outputId": "7ec1905a-e48d-4d05-9a3c-b0ed4489ad8e"
      },
      "source": [
        "# You can also initialize a set with values using {}\r\n",
        "num_set2 = {5,6,7,8,9,10}\r\n",
        "num_set2"
      ],
      "execution_count": null,
      "outputs": [
        {
          "output_type": "execute_result",
          "data": {
            "text/plain": [
              "{5, 6, 7, 8, 9, 10}"
            ]
          },
          "metadata": {
            "tags": []
          },
          "execution_count": 99
        }
      ]
    },
    {
      "cell_type": "code",
      "metadata": {
        "colab": {
          "base_uri": "https://localhost:8080/"
        },
        "id": "DH0rNLA7xqZY",
        "outputId": "5166a5ee-7805-4d88-bd1b-aa75ff757283"
      },
      "source": [
        "# an empty set cannot be initialized by {}\r\n",
        "not_empty_set = {}\r\n",
        "type(not_empty_set)   # dict not a set\r\n"
      ],
      "execution_count": null,
      "outputs": [
        {
          "output_type": "execute_result",
          "data": {
            "text/plain": [
              "dict"
            ]
          },
          "metadata": {
            "tags": []
          },
          "execution_count": 100
        }
      ]
    },
    {
      "cell_type": "code",
      "metadata": {
        "colab": {
          "base_uri": "https://localhost:8080/"
        },
        "id": "ycCuvrlIJiSv",
        "outputId": "0c3b62e7-0d7d-47ac-9458-a7ac8baf8ca5"
      },
      "source": [
        "#Sets are heterogeneous, allows different types\r\n",
        "my_het_set = {'A','B','C','Z', 1,3,4,('X','M')}\r\n",
        "my_het_set"
      ],
      "execution_count": null,
      "outputs": [
        {
          "output_type": "execute_result",
          "data": {
            "text/plain": [
              "{('X', 'M'), 1, 3, 4, 'A', 'B', 'C', 'Z'}"
            ]
          },
          "metadata": {
            "tags": []
          },
          "execution_count": 101
        }
      ]
    },
    {
      "cell_type": "code",
      "metadata": {
        "colab": {
          "base_uri": "https://localhost:8080/"
        },
        "id": "rYKMSuVhRKCQ",
        "outputId": "d6dacdb4-7a8a-484c-fd12-c64e82e1cd15"
      },
      "source": [
        "#Add Value to a Set \r\n",
        "#Sets are also unordered\r\n",
        "my_het_set.add('Erasto')\r\n",
        "my_het_set"
      ],
      "execution_count": null,
      "outputs": [
        {
          "output_type": "execute_result",
          "data": {
            "text/plain": [
              "{('X', 'M'), 1, 3, 4, 'A', 'B', 'C', 'Erasto', 'Z'}"
            ]
          },
          "metadata": {
            "tags": []
          },
          "execution_count": 102
        }
      ]
    },
    {
      "cell_type": "code",
      "metadata": {
        "colab": {
          "base_uri": "https://localhost:8080/"
        },
        "id": "9PWDXQCxRoOR",
        "outputId": "7544be0c-c164-40c0-c48d-338cb77eb2e8"
      },
      "source": [
        "#remove Value from a set\r\n",
        "my_het_set.remove(('X', 'M'))\r\n",
        "my_het_set"
      ],
      "execution_count": null,
      "outputs": [
        {
          "output_type": "execute_result",
          "data": {
            "text/plain": [
              "{1, 3, 4, 'A', 'B', 'C', 'Erasto', 'Z'}"
            ]
          },
          "metadata": {
            "tags": []
          },
          "execution_count": 103
        }
      ]
    },
    {
      "cell_type": "code",
      "metadata": {
        "colab": {
          "base_uri": "https://localhost:8080/"
        },
        "id": "APEwbEV4SelJ",
        "outputId": "0b67e21c-fbfd-4283-c2ff-7f7484324b1c"
      },
      "source": [
        "#remove Value from a set\r\n",
        "my_het_set.discard(4)\r\n",
        "my_het_set"
      ],
      "execution_count": null,
      "outputs": [
        {
          "output_type": "execute_result",
          "data": {
            "text/plain": [
              "{1, 3, 'A', 'B', 'C', 'Erasto', 'Z'}"
            ]
          },
          "metadata": {
            "tags": []
          },
          "execution_count": 104
        }
      ]
    },
    {
      "cell_type": "code",
      "metadata": {
        "colab": {
          "base_uri": "https://localhost:8080/"
        },
        "id": "tLmlPST4S_D3",
        "outputId": "53175e2c-fac6-4203-8301-f7504b6fc158"
      },
      "source": [
        "my_het_set.pop()\r\n",
        "my_het_set"
      ],
      "execution_count": null,
      "outputs": [
        {
          "output_type": "execute_result",
          "data": {
            "text/plain": [
              "{3, 'A', 'B', 'Erasto', 'Z'}"
            ]
          },
          "metadata": {
            "tags": []
          },
          "execution_count": 106
        }
      ]
    },
    {
      "cell_type": "code",
      "metadata": {
        "colab": {
          "base_uri": "https://localhost:8080/"
        },
        "id": "YTyxwcd8TiXN",
        "outputId": "d2443564-7941-4576-e3b0-58af7b44090d"
      },
      "source": [
        "#Clear all \r\n",
        "my_het_set.clear()\r\n",
        "my_het_set"
      ],
      "execution_count": null,
      "outputs": [
        {
          "output_type": "execute_result",
          "data": {
            "text/plain": [
              "set()"
            ]
          },
          "metadata": {
            "tags": []
          },
          "execution_count": 107
        }
      ]
    },
    {
      "cell_type": "code",
      "metadata": {
        "colab": {
          "base_uri": "https://localhost:8080/"
        },
        "id": "B3gSs8WCUql9",
        "outputId": "fe173708-edd9-4036-b801-3c2a9bad2cff"
      },
      "source": [
        "# set to remove duplicates from a list\r\n",
        "print(list(set([1, 2, 3, 1, 7])))"
      ],
      "execution_count": null,
      "outputs": [
        {
          "output_type": "stream",
          "text": [
            "[1, 2, 3, 7]\n"
          ],
          "name": "stdout"
        }
      ]
    },
    {
      "cell_type": "markdown",
      "metadata": {
        "id": "9pUVWsb_Vq6A"
      },
      "source": [
        "# Set Operation Methods"
      ]
    },
    {
      "cell_type": "code",
      "metadata": {
        "id": "7RLED09gVy_9"
      },
      "source": [
        "#A set is a collection which is both unordered and unindexed.\r\n",
        "#Once a set is created, you cannot change its items, but you can add new items.\r\n",
        "#initialize sets\r\n",
        "A = {1,2,3,4,5,7,8,15}\r\n",
        "B = {5,6,7,8,9,10,11}\r\n",
        "C = {1,10,13,18,5,13}\r\n"
      ],
      "execution_count": null,
      "outputs": []
    },
    {
      "cell_type": "code",
      "metadata": {
        "colab": {
          "base_uri": "https://localhost:8080/"
        },
        "id": "dcmev5NyXgx2",
        "outputId": "10db1892-ea87-4910-8db5-cee392717bdc"
      },
      "source": [
        "#Union - a set having all members\r\n",
        "AuB = A.union(B)\r\n",
        "AuB\r\n"
      ],
      "execution_count": null,
      "outputs": [
        {
          "output_type": "execute_result",
          "data": {
            "text/plain": [
              "{1, 2, 3, 4, 5, 6, 7, 8, 9, 10, 11, 15}"
            ]
          },
          "metadata": {
            "tags": []
          },
          "execution_count": 110
        }
      ]
    },
    {
      "cell_type": "code",
      "metadata": {
        "colab": {
          "base_uri": "https://localhost:8080/"
        },
        "id": "qiernuaJZd1q",
        "outputId": "74c11a89-6a22-45f4-959f-1c01ac8ebfb6"
      },
      "source": [
        "AuBuC = A.union(B.union(C))\r\n",
        "AuBuC"
      ],
      "execution_count": null,
      "outputs": [
        {
          "output_type": "execute_result",
          "data": {
            "text/plain": [
              "{1, 2, 3, 4, 5, 6, 7, 8, 9, 10, 11, 13, 15, 18}"
            ]
          },
          "metadata": {
            "tags": []
          },
          "execution_count": 111
        }
      ]
    },
    {
      "cell_type": "code",
      "metadata": {
        "colab": {
          "base_uri": "https://localhost:8080/"
        },
        "id": "LTXb1AojZ1bZ",
        "outputId": "2eb304ad-c18c-4b05-8b77-814f87a927fd"
      },
      "source": [
        "#Intersection - a set of common members\r\n",
        "intersection_AB = A.intersection(B)\r\n",
        "intersection_ABC = A.intersection(B.intersection(C))\r\n",
        "intersection_ABC_2 = A.intersection(B,C)\r\n",
        "\r\n",
        "print(\"A \", A)\r\n",
        "print(\"B \", B)\r\n",
        "print(\"C \", C)\r\n",
        "print()\r\n",
        "print(\"Intersection AB \", intersection_AB)\r\n",
        "print(\"Intersection ABC \", intersection_ABC)\r\n",
        "print(\"Intersection ABC \", intersection_ABC_2)"
      ],
      "execution_count": null,
      "outputs": [
        {
          "output_type": "stream",
          "text": [
            "A  {1, 2, 3, 4, 5, 7, 8, 15}\n",
            "B  {5, 6, 7, 8, 9, 10, 11}\n",
            "C  {1, 5, 10, 13, 18}\n",
            "\n",
            "Intersection AB  {8, 5, 7}\n",
            "Intersection ABC  {5}\n",
            "Intersection ABC  {5}\n"
          ],
          "name": "stdout"
        }
      ]
    },
    {
      "cell_type": "code",
      "metadata": {
        "colab": {
          "base_uri": "https://localhost:8080/"
        },
        "id": "P47vdMf8bzIO",
        "outputId": "ea416461-46c1-4add-a874-40362fbf1089"
      },
      "source": [
        "# difference - A\\B set of A members who are not in B\r\n",
        "\r\n",
        "difference_AB = A.difference(B)\r\n",
        "difference_BA = B.difference(A)\r\n",
        "difference_BAC = B.difference(A,C)\r\n",
        "\r\n",
        "print(\"A \", A)\r\n",
        "print(\"B \", B)\r\n",
        "print(\"B \", C)\r\n",
        "print()\r\n",
        "print(\"difference AB \", difference_AB)\r\n",
        "print(\"difference BA \", difference_BA)\r\n",
        "print(\"difference BAC \", difference_BAC)\r\n",
        "\r\n"
      ],
      "execution_count": null,
      "outputs": [
        {
          "output_type": "stream",
          "text": [
            "A  {1, 2, 3, 4, 5, 7, 8, 15}\n",
            "B  {5, 6, 7, 8, 9, 10, 11}\n",
            "B  {1, 5, 10, 13, 18}\n",
            "\n",
            "difference AB  {1, 2, 3, 4, 15}\n",
            "difference BA  {9, 10, 11, 6}\n",
            "difference BAC  {9, 11, 6}\n"
          ],
          "name": "stdout"
        }
      ]
    },
    {
      "cell_type": "code",
      "metadata": {
        "colab": {
          "base_uri": "https://localhost:8080/"
        },
        "id": "NvKhg-OwftwD",
        "outputId": "bbd439a5-9279-45cc-d9a9-0b1a25b9fff0"
      },
      "source": [
        "#Membership test\r\n",
        "#check whether a specific element is contained in a set\r\n",
        "\r\n",
        "print(\"A \", A)\r\n",
        "# Membership test\r\n",
        "\r\n",
        "print(\"20 is in set A \", 20 in A )\r\n",
        "print(\"8 is in set A \", 8 in A )\r\n",
        "\r\n"
      ],
      "execution_count": null,
      "outputs": [
        {
          "output_type": "stream",
          "text": [
            "A  {1, 2, 3, 4, 5, 7, 8, 15}\n",
            "20 is in set A  False\n",
            "8 is in set A  True\n"
          ],
          "name": "stdout"
        }
      ]
    }
  ]
}