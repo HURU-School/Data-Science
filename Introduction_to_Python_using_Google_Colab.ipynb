{
  "nbformat": 4,
  "nbformat_minor": 0,
  "metadata": {
    "colab": {
      "name": "Lab2 Introduction to Python.ipynb",
      "provenance": [],
      "include_colab_link": true
    },
    "kernelspec": {
      "name": "python3",
      "display_name": "Python 3"
    }
  },
  "cells": [
    {
      "cell_type": "markdown",
      "metadata": {
        "id": "view-in-github",
        "colab_type": "text"
      },
      "source": [
        "<a href=\"https://colab.research.google.com/github/HURU-School/Data-Science/blob/main/Introduction_to_Python_using_Google_Colab.ipynb\" target=\"_parent\"><img src=\"https://colab.research.google.com/assets/colab-badge.svg\" alt=\"Open In Colab\"/></a>"
      ]
    },
    {
      "cell_type": "code",
      "metadata": {
        "colab": {
          "base_uri": "https://localhost:8080/"
        },
        "id": "HGbsXEoY4MVG",
        "outputId": "57a571db-b229-4721-cf1b-a53760781a6c"
      },
      "source": [
        "#expression\n",
        "3+3"
      ],
      "execution_count": null,
      "outputs": [
        {
          "output_type": "execute_result",
          "data": {
            "text/plain": [
              "6"
            ]
          },
          "metadata": {
            "tags": []
          },
          "execution_count": 1
        }
      ]
    },
    {
      "cell_type": "code",
      "metadata": {
        "id": "L1h2_suz5PUx"
      },
      "source": [
        "#operations in python"
      ],
      "execution_count": null,
      "outputs": []
    },
    {
      "cell_type": "code",
      "metadata": {
        "colab": {
          "base_uri": "https://localhost:8080/"
        },
        "id": "mreP_MEw5gJK",
        "outputId": "1919ab18-a993-47ca-ddb6-9baeaed9a017"
      },
      "source": [
        "#modulo\n",
        "5%2"
      ],
      "execution_count": null,
      "outputs": [
        {
          "output_type": "execute_result",
          "data": {
            "text/plain": [
              "1"
            ]
          },
          "metadata": {
            "tags": []
          },
          "execution_count": 3
        }
      ]
    },
    {
      "cell_type": "code",
      "metadata": {
        "colab": {
          "base_uri": "https://localhost:8080/"
        },
        "id": "ex-eu7ue5oDe",
        "outputId": "c992e973-8bcf-45dd-b445-9427c85d55f7"
      },
      "source": [
        "#integer division,quotient\n",
        "22//8"
      ],
      "execution_count": null,
      "outputs": [
        {
          "output_type": "execute_result",
          "data": {
            "text/plain": [
              "2"
            ]
          },
          "metadata": {
            "tags": []
          },
          "execution_count": 6
        }
      ]
    },
    {
      "cell_type": "code",
      "metadata": {
        "colab": {
          "base_uri": "https://localhost:8080/"
        },
        "id": "duvFfxPQ534_",
        "outputId": "053f99e0-7e26-44e2-f8dd-38f8518c81d3"
      },
      "source": [
        "22/8#division"
      ],
      "execution_count": null,
      "outputs": [
        {
          "output_type": "execute_result",
          "data": {
            "text/plain": [
              "2.75"
            ]
          },
          "metadata": {
            "tags": []
          },
          "execution_count": 7
        }
      ]
    },
    {
      "cell_type": "code",
      "metadata": {
        "id": "N2jji51Q6Yq4"
      },
      "source": [
        "#Variable\n",
        "#rules in creating variBLES\n",
        "#one word\n",
        "#use letter,number,underscore\n",
        "#cannot begin with a number\n",
        "# cant be a keyword"
      ],
      "execution_count": null,
      "outputs": []
    },
    {
      "cell_type": "code",
      "metadata": {
        "id": "OWhlptZ-7tOM"
      },
      "source": [
        "#snake case,pascal case,camelcase\n",
        "#snake_case\n",
        "my_value = 10\n",
        "MyValue2 = 20#pascal case\n",
        "myValue3 =30"
      ],
      "execution_count": null,
      "outputs": []
    },
    {
      "cell_type": "code",
      "metadata": {
        "colab": {
          "base_uri": "https://localhost:8080/"
        },
        "id": "hp421OsZ72oy",
        "outputId": "cd00ab9e-cfb2-47ac-92a3-8b7351995f29"
      },
      "source": [
        "spam"
      ],
      "execution_count": null,
      "outputs": [
        {
          "output_type": "execute_result",
          "data": {
            "text/plain": [
              "10"
            ]
          },
          "metadata": {
            "tags": []
          },
          "execution_count": 12
        }
      ]
    },
    {
      "cell_type": "code",
      "metadata": {
        "colab": {
          "base_uri": "https://localhost:8080/",
          "height": 35
        },
        "id": "LUtHb1TF75gZ",
        "outputId": "ee8591d9-6432-4054-c789-7973d23a4bc2"
      },
      "source": [
        "#rules of creating comments in python\n",
        "# this is a comment\n",
        "\"\"\"\n",
        "this \n",
        "is a \n",
        "comment\n",
        "- can also use  3 single quotes\n",
        "\"\"\""
      ],
      "execution_count": null,
      "outputs": [
        {
          "output_type": "execute_result",
          "data": {
            "application/vnd.google.colaboratory.intrinsic+json": {
              "type": "string"
            },
            "text/plain": [
              "'\\nthis \\nis a \\ncomment\\n\\n'"
            ]
          },
          "metadata": {
            "tags": []
          },
          "execution_count": 17
        }
      ]
    },
    {
      "cell_type": "code",
      "metadata": {
        "colab": {
          "base_uri": "https://localhost:8080/"
        },
        "id": "J13AQ9s6-Kzx",
        "outputId": "cecc9472-646f-4592-a540-41493a599b79"
      },
      "source": [
        "#case sensitive\n",
        "spam"
      ],
      "execution_count": null,
      "outputs": [
        {
          "output_type": "execute_result",
          "data": {
            "text/plain": [
              "10"
            ]
          },
          "metadata": {
            "tags": []
          },
          "execution_count": 19
        }
      ]
    },
    {
      "cell_type": "code",
      "metadata": {
        "id": "jXNb7rQd-WTZ"
      },
      "source": [
        "#senstive to indentattion"
      ],
      "execution_count": null,
      "outputs": []
    },
    {
      "cell_type": "markdown",
      "metadata": {
        "id": "K32aEhO5-w0y"
      },
      "source": [
        "# Data types"
      ]
    },
    {
      "cell_type": "code",
      "metadata": {
        "colab": {
          "base_uri": "https://localhost:8080/",
          "height": 35
        },
        "id": "Os8-7Ab5-0My",
        "outputId": "d4586fb0-aa34-4c11-ba2e-0ee172082b0f"
      },
      "source": [
        "\"\"\"\n",
        "common data types:\n",
        "1.Numbers\n",
        "2Strings\n",
        "3.List\n",
        "4.Dictionary\n",
        "5.Boolean\n",
        "6.Tuples\n",
        "\n",
        "\n",
        "\"\"\""
      ],
      "execution_count": null,
      "outputs": [
        {
          "output_type": "execute_result",
          "data": {
            "application/vnd.google.colaboratory.intrinsic+json": {
              "type": "string"
            },
            "text/plain": [
              "'\\ncommon data types:\\n1.Numbers\\n2Strings\\n3.List\\n4.Dictionary\\n5.Boolean\\n6.Tuples\\n\\n\\n'"
            ]
          },
          "metadata": {
            "tags": []
          },
          "execution_count": 20
        }
      ]
    },
    {
      "cell_type": "code",
      "metadata": {
        "colab": {
          "base_uri": "https://localhost:8080/"
        },
        "id": "_mF3_XKC_rAS",
        "outputId": "c052217f-e7ff-4329-9e91-1c4288078595"
      },
      "source": [
        "#Numbers\n",
        "num1 = 10\n",
        "num2 = 20\n",
        "num1 - num2"
      ],
      "execution_count": null,
      "outputs": [
        {
          "output_type": "execute_result",
          "data": {
            "text/plain": [
              "-10"
            ]
          },
          "metadata": {
            "tags": []
          },
          "execution_count": 22
        }
      ]
    },
    {
      "cell_type": "code",
      "metadata": {
        "id": "pdExWwRg_076"
      },
      "source": [
        "#Strings\n",
        "#rules of doing strings\n",
        "#withing single or double quotes\n",
        "my_name = \"moruye\"\n",
        "my_name2 = 'Lawrence'"
      ],
      "execution_count": null,
      "outputs": []
    },
    {
      "cell_type": "code",
      "metadata": {
        "colab": {
          "base_uri": "https://localhost:8080/",
          "height": 35
        },
        "id": "sj1EgfT8AYDm",
        "outputId": "c9d9383b-6698-496e-93ac-6ad8272f51f0"
      },
      "source": [
        "my_name"
      ],
      "execution_count": null,
      "outputs": [
        {
          "output_type": "execute_result",
          "data": {
            "application/vnd.google.colaboratory.intrinsic+json": {
              "type": "string"
            },
            "text/plain": [
              "'moruye'"
            ]
          },
          "metadata": {
            "tags": []
          },
          "execution_count": 27
        }
      ]
    },
    {
      "cell_type": "code",
      "metadata": {
        "colab": {
          "base_uri": "https://localhost:8080/",
          "height": 35
        },
        "id": "_CpPur6bAhk9",
        "outputId": "8eac3851-f771-42ea-e848-5979328ed32e"
      },
      "source": [
        "my_name2\n"
      ],
      "execution_count": null,
      "outputs": [
        {
          "output_type": "execute_result",
          "data": {
            "application/vnd.google.colaboratory.intrinsic+json": {
              "type": "string"
            },
            "text/plain": [
              "'Lawrence'"
            ]
          },
          "metadata": {
            "tags": []
          },
          "execution_count": 29
        }
      ]
    },
    {
      "cell_type": "code",
      "metadata": {
        "colab": {
          "base_uri": "https://localhost:8080/",
          "height": 35
        },
        "id": "crA6CejyAr_Z",
        "outputId": "9bcc3a22-6eef-475e-8064-95a106a72b8a"
      },
      "source": [
        ""
      ],
      "execution_count": null,
      "outputs": [
        {
          "output_type": "execute_result",
          "data": {
            "application/vnd.google.colaboratory.intrinsic+json": {
              "type": "string"
            },
            "text/plain": [
              "'\\ncommon data types:\\n1.Numbers\\n2Strings\\n3.List\\n4.Dictionary\\n5.Boolean\\n6.Tuples\\n\\n\\n'"
            ]
          },
          "metadata": {
            "tags": []
          },
          "execution_count": 30
        }
      ]
    },
    {
      "cell_type": "code",
      "metadata": {
        "colab": {
          "base_uri": "https://localhost:8080/",
          "height": 35
        },
        "id": "sMxhYUb6BCUe",
        "outputId": "815eb9fb-8d56-4ea2-964b-4622e84abb5b"
      },
      "source": [
        "'''\n",
        "operations on strings\n",
        "1.replication\n",
        "2.Concatenation\n",
        "\n",
        "'''"
      ],
      "execution_count": null,
      "outputs": [
        {
          "output_type": "execute_result",
          "data": {
            "application/vnd.google.colaboratory.intrinsic+json": {
              "type": "string"
            },
            "text/plain": [
              "'\\noperations on strings\\n1.replication\\n2.Concatination\\n\\n'"
            ]
          },
          "metadata": {
            "tags": []
          },
          "execution_count": 32
        }
      ]
    },
    {
      "cell_type": "code",
      "metadata": {
        "id": "KTIPOdYmBlhl"
      },
      "source": [
        "#concatenation\n",
        "first_name =\"Lawrence\"\n",
        "last_name =\"Moruye\"\n",
        "full_name = first_name +\" \" + last_name\n"
      ],
      "execution_count": null,
      "outputs": []
    },
    {
      "cell_type": "code",
      "metadata": {
        "id": "aehhbvazCEh1"
      },
      "source": [
        "#Replication\n",
        "# we use * operayto\n",
        "first_name_4 = first_name *4"
      ],
      "execution_count": null,
      "outputs": []
    },
    {
      "cell_type": "code",
      "metadata": {
        "colab": {
          "base_uri": "https://localhost:8080/",
          "height": 35
        },
        "id": "ejGXJppPCGMv",
        "outputId": "d1a345b7-2244-4845-9a5f-332919722dcf"
      },
      "source": [
        "first_name_4"
      ],
      "execution_count": null,
      "outputs": [
        {
          "output_type": "execute_result",
          "data": {
            "application/vnd.google.colaboratory.intrinsic+json": {
              "type": "string"
            },
            "text/plain": [
              "'LawrenceLawrenceLawrenceLawrence'"
            ]
          },
          "metadata": {
            "tags": []
          },
          "execution_count": 43
        }
      ]
    },
    {
      "cell_type": "code",
      "metadata": {
        "colab": {
          "base_uri": "https://localhost:8080/"
        },
        "id": "5rf40KNuDhb1",
        "outputId": "08a5f093-3c48-4043-ed46-6b0c88fa5cec"
      },
      "source": [
        ""
      ],
      "execution_count": null,
      "outputs": [
        {
          "output_type": "execute_result",
          "data": {
            "text/plain": [
              "['my', 'name', 'is', 'Lawrence']"
            ]
          },
          "metadata": {
            "tags": []
          },
          "execution_count": 41
        }
      ]
    },
    {
      "cell_type": "markdown",
      "metadata": {
        "id": "prc-LU1bERUi"
      },
      "source": [
        "# Casting"
      ]
    },
    {
      "cell_type": "code",
      "metadata": {
        "id": "UxO98UvCDmW2"
      },
      "source": [
        "#conversion btn data types\n",
        "my_int =10"
      ],
      "execution_count": null,
      "outputs": []
    },
    {
      "cell_type": "code",
      "metadata": {
        "colab": {
          "base_uri": "https://localhost:8080/"
        },
        "id": "W6ZEoT8NEutv",
        "outputId": "ca799f07-3ea0-4d5e-e148-bd36e7cfa1c9"
      },
      "source": [
        "type(my_int)"
      ],
      "execution_count": null,
      "outputs": [
        {
          "output_type": "execute_result",
          "data": {
            "text/plain": [
              "int"
            ]
          },
          "metadata": {
            "tags": []
          },
          "execution_count": 45
        }
      ]
    },
    {
      "cell_type": "code",
      "metadata": {
        "id": "eS3UUXikEzf5"
      },
      "source": [
        "my_float =float(my_int)"
      ],
      "execution_count": null,
      "outputs": []
    },
    {
      "cell_type": "code",
      "metadata": {
        "colab": {
          "base_uri": "https://localhost:8080/"
        },
        "id": "wBNrZJWlFGTi",
        "outputId": "972ef02e-08f5-4469-d432-84d38dd34af5"
      },
      "source": [
        "type(my_float)"
      ],
      "execution_count": null,
      "outputs": [
        {
          "output_type": "execute_result",
          "data": {
            "text/plain": [
              "float"
            ]
          },
          "metadata": {
            "tags": []
          },
          "execution_count": 47
        }
      ]
    },
    {
      "cell_type": "code",
      "metadata": {
        "colab": {
          "base_uri": "https://localhost:8080/"
        },
        "id": "Fm3XwyN1FIkU",
        "outputId": "19685dcc-eabe-4a30-f891-3d9bb6a6eeac"
      },
      "source": [
        "my_float"
      ],
      "execution_count": null,
      "outputs": [
        {
          "output_type": "execute_result",
          "data": {
            "text/plain": [
              "10.0"
            ]
          },
          "metadata": {
            "tags": []
          },
          "execution_count": 48
        }
      ]
    },
    {
      "cell_type": "code",
      "metadata": {
        "id": "AmVYxKjKFJ59"
      },
      "source": [
        "my_int_to_string = str(my_int)"
      ],
      "execution_count": null,
      "outputs": []
    },
    {
      "cell_type": "code",
      "metadata": {
        "colab": {
          "base_uri": "https://localhost:8080/",
          "height": 35
        },
        "id": "SKK6B1YsFoVU",
        "outputId": "7c5a9fa0-47ee-4b81-8c80-fb654807560a"
      },
      "source": [
        "my_int_to_string"
      ],
      "execution_count": null,
      "outputs": [
        {
          "output_type": "execute_result",
          "data": {
            "application/vnd.google.colaboratory.intrinsic+json": {
              "type": "string"
            },
            "text/plain": [
              "'10'"
            ]
          },
          "metadata": {
            "tags": []
          },
          "execution_count": 51
        }
      ]
    },
    {
      "cell_type": "code",
      "metadata": {
        "id": "KkJHQxm8Fv4u"
      },
      "source": [
        "answer = first_name + my_int_to_string"
      ],
      "execution_count": null,
      "outputs": []
    },
    {
      "cell_type": "code",
      "metadata": {
        "colab": {
          "base_uri": "https://localhost:8080/",
          "height": 35
        },
        "id": "klo2tWrzF7Lb",
        "outputId": "b37fe04c-5d3c-4d26-cce0-249178669867"
      },
      "source": [
        "answer"
      ],
      "execution_count": null,
      "outputs": [
        {
          "output_type": "execute_result",
          "data": {
            "application/vnd.google.colaboratory.intrinsic+json": {
              "type": "string"
            },
            "text/plain": [
              "'Lawrence10'"
            ]
          },
          "metadata": {
            "tags": []
          },
          "execution_count": 53
        }
      ]
    },
    {
      "cell_type": "code",
      "metadata": {
        "id": "BbbG34trF8t4"
      },
      "source": [
        "#some predefined function int(),str(),float()"
      ],
      "execution_count": null,
      "outputs": []
    },
    {
      "cell_type": "code",
      "metadata": {
        "id": "YTXOK3kLGlkB"
      },
      "source": [
        "#short quiz\n",
        "#create a variable that hold the name of your country\n",
        "#create anothr var that holds a number btn 300-1000\n",
        "#create another var that contains the results a concatenation of the above variables"
      ],
      "execution_count": null,
      "outputs": []
    },
    {
      "cell_type": "code",
      "metadata": {
        "colab": {
          "base_uri": "https://localhost:8080/",
          "height": 35
        },
        "id": "kgbBsF8UG-ML",
        "outputId": "86b74e1b-758d-4f01-c301-f66fa2987da5"
      },
      "source": [
        "my_country =\"Senegal\"\n",
        "my_num =1000\n",
        "converted_num =str(my_num)\n",
        "answer = my_country +converted_num\n",
        "answer"
      ],
      "execution_count": null,
      "outputs": [
        {
          "output_type": "execute_result",
          "data": {
            "application/vnd.google.colaboratory.intrinsic+json": {
              "type": "string"
            },
            "text/plain": [
              "'Senegal1000'"
            ]
          },
          "metadata": {
            "tags": []
          },
          "execution_count": 62
        }
      ]
    },
    {
      "cell_type": "code",
      "metadata": {
        "id": "RMNm0dAnHk5H"
      },
      "source": [
        "name =\"jtd\""
      ],
      "execution_count": null,
      "outputs": []
    },
    {
      "cell_type": "code",
      "metadata": {
        "colab": {
          "base_uri": "https://localhost:8080/",
          "height": 35
        },
        "id": "ewJrZe_uHpMX",
        "outputId": "1b18414c-b716-4c0f-a9a3-2c36b1f1c213"
      },
      "source": [
        "name"
      ],
      "execution_count": null,
      "outputs": [
        {
          "output_type": "execute_result",
          "data": {
            "application/vnd.google.colaboratory.intrinsic+json": {
              "type": "string"
            },
            "text/plain": [
              "'jtd'"
            ]
          },
          "metadata": {
            "tags": []
          },
          "execution_count": 59
        }
      ]
    },
    {
      "cell_type": "code",
      "metadata": {
        "id": "IdF9Xm8hHq20"
      },
      "source": [
        ""
      ],
      "execution_count": null,
      "outputs": []
    }
  ]
}