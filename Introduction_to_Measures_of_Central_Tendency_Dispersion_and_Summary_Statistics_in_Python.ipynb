{
  "nbformat": 4,
  "nbformat_minor": 0,
  "metadata": {
    "kernelspec": {
      "display_name": "Python 3",
      "language": "python",
      "name": "python3"
    },
    "language_info": {
      "codemirror_mode": {
        "name": "ipython",
        "version": 3
      },
      "file_extension": ".py",
      "mimetype": "text/x-python",
      "name": "python",
      "nbconvert_exporter": "python",
      "pygments_lexer": "ipython3",
      "version": "3.6.8"
    },
    "toc": {
      "base_numbering": 1,
      "nav_menu": {},
      "number_sections": true,
      "sideBar": true,
      "skip_h1_title": true,
      "title_cell": "Table of Contents",
      "title_sidebar": "Contents",
      "toc_cell": true,
      "toc_position": {},
      "toc_section_display": true,
      "toc_window_display": true
    },
    "varInspector": {
      "cols": {
        "lenName": 16,
        "lenType": 16,
        "lenVar": 40
      },
      "kernels_config": {
        "python": {
          "delete_cmd_postfix": "",
          "delete_cmd_prefix": "del ",
          "library": "var_list.py",
          "varRefreshCmd": "print(var_dic_list())"
        },
        "r": {
          "delete_cmd_postfix": ") ",
          "delete_cmd_prefix": "rm(",
          "library": "var_list.r",
          "varRefreshCmd": "cat(var_dic_list()) "
        }
      },
      "types_to_exclude": [
        "module",
        "function",
        "builtin_function_or_method",
        "instance",
        "_Feature"
      ],
      "window_display": false
    },
    "colab": {
      "name": "Introduction to Measures of Central Tendency/ Dispersion and Summary Statistics in Python.ipynb",
      "provenance": [],
      "collapsed_sections": [],
      "include_colab_link": true
    }
  },
  "cells": [
    {
      "cell_type": "markdown",
      "metadata": {
        "id": "view-in-github",
        "colab_type": "text"
      },
      "source": [
        "<a href=\"https://colab.research.google.com/github/HURU-School/Data-Science/blob/main/Introduction_to_Measures_of_Central_Tendency_Dispersion_and_Summary_Statistics_in_Python.ipynb\" target=\"_parent\"><img src=\"https://colab.research.google.com/assets/colab-badge.svg\" alt=\"Open In Colab\"/></a>"
      ]
    },
    {
      "cell_type": "markdown",
      "metadata": {
        "id": "5vFDcqFwUB7D"
      },
      "source": [
        "**Introduction to Measures of Central Tendency/ Dispersion and Summary Statistics in Python**<br/>\n",
        "Adapted from Prof. Dr. Jan Kirenz <br/>\n",
        "Hochschule der Medien Stuttgart \n",
        "for HURU School data science class"
      ]
    },
    {
      "cell_type": "markdown",
      "metadata": {
        "toc": true,
        "id": "cpiufXaIUB7M"
      },
      "source": [
        "<h1>Table of Contents<span class=\"tocSkip\"></span></h1>\n",
        "<div class=\"toc\"><ul class=\"toc-item\"><li><span><a href=\"#Import-data\" data-toc-modified-id=\"Import-data-1\"><span class=\"toc-item-num\">1&nbsp;&nbsp;</span>Import data</a></span></li><li><span><a href=\"#Data-transformation\" data-toc-modified-id=\"Data-transformation-2\"><span class=\"toc-item-num\">2&nbsp;&nbsp;</span>Data transformation</a></span><ul class=\"toc-item\"><li><span><a href=\"#Descriptive-statistics\" data-toc-modified-id=\"Descriptive-statistics-2.1\"><span class=\"toc-item-num\">2.1&nbsp;&nbsp;</span>Descriptive statistics</a></span><ul class=\"toc-item\"><li><span><a href=\"#Measures-of-central-tendency\" data-toc-modified-id=\"Measures-of-central-tendency-2.1.1\"><span class=\"toc-item-num\">2.1.1&nbsp;&nbsp;</span>Measures of central tendency</a></span></li><li><span><a href=\"#Measures-of-dispersion\" data-toc-modified-id=\"Measures-of-dispersion-2.1.2\"><span class=\"toc-item-num\">2.1.2&nbsp;&nbsp;</span>Measures of dispersion</a></span></li><li><span><a href=\"#Summary-statistics\" data-toc-modified-id=\"Summary-statistics-2.1.3\"><span class=\"toc-item-num\">2.1.3&nbsp;&nbsp;</span>Summary statistics</a></span></li></ul></li></ul></li></ul></div>"
      ]
    },
    {
      "cell_type": "code",
      "metadata": {
        "id": "GT-4-yiyUB7N"
      },
      "source": [
        "# Here we import the Python for Data Analysis Library(Pandas)\n",
        "\n",
        "import pandas as pd\n"
      ],
      "execution_count": 1,
      "outputs": []
    },
    {
      "cell_type": "markdown",
      "metadata": {
        "id": "CbaNWoukWNcZ"
      },
      "source": [
        "# Pandas Cheat Sheet\n",
        "\n",
        "[*Resource*](https://drive.google.com/file/d/1UHK8wtWbADvHKXFC937IS6MTnlSZC_zB/view)"
      ]
    },
    {
      "cell_type": "markdown",
      "metadata": {
        "id": "PkqKerThUB7N"
      },
      "source": [
        "## Import data"
      ]
    },
    {
      "cell_type": "markdown",
      "metadata": {
        "id": "u8juw3QQW82m"
      },
      "source": [
        "\n",
        "\n",
        "\n",
        " # Explore Data for a Company with 3000 employees\n",
        "\n",
        "[View Data](https://github.com/selva86/datasets/blob/master/Wage.csv)\n"
      ]
    },
    {
      "cell_type": "code",
      "metadata": {
        "id": "ZojtBGiYUB7O"
      },
      "source": [
        "# Import data from your source e.g GitHub (or from your local computer)\n",
        "\n",
        "df = pd.read_csv(\"https://raw.githubusercontent.com/kirenz/datasets/master/wage.csv\")"
      ],
      "execution_count": 2,
      "outputs": []
    },
    {
      "cell_type": "code",
      "metadata": {
        "colab": {
          "base_uri": "https://localhost:8080/"
        },
        "id": "ppf5mKuyXW-Q",
        "outputId": "6b48056c-6f20-4d32-b53f-40e27267c5b0"
      },
      "source": [
        "# Here we can check the shape of the dataset\n",
        "\n",
        "df.shape"
      ],
      "execution_count": 5,
      "outputs": [
        {
          "output_type": "execute_result",
          "data": {
            "text/plain": [
              "(3000, 12)"
            ]
          },
          "metadata": {
            "tags": []
          },
          "execution_count": 5
        }
      ]
    },
    {
      "cell_type": "code",
      "metadata": {
        "colab": {
          "base_uri": "https://localhost:8080/"
        },
        "id": "OYoE4WKoV34D",
        "outputId": "2a8877ed-99be-4b27-d009-1ed8622aa1e5"
      },
      "source": [
        "# Here we check the information of the dataframe\n",
        "\n",
        "df.info()"
      ],
      "execution_count": 4,
      "outputs": [
        {
          "output_type": "stream",
          "text": [
            "<class 'pandas.core.frame.DataFrame'>\n",
            "RangeIndex: 3000 entries, 0 to 2999\n",
            "Data columns (total 12 columns):\n",
            " #   Column      Non-Null Count  Dtype  \n",
            "---  ------      --------------  -----  \n",
            " 0   Unnamed: 0  3000 non-null   int64  \n",
            " 1   year        3000 non-null   int64  \n",
            " 2   age         3000 non-null   int64  \n",
            " 3   maritl      3000 non-null   object \n",
            " 4   race        3000 non-null   object \n",
            " 5   education   3000 non-null   object \n",
            " 6   region      3000 non-null   object \n",
            " 7   jobclass    3000 non-null   object \n",
            " 8   health      3000 non-null   object \n",
            " 9   health_ins  3000 non-null   object \n",
            " 10  logwage     3000 non-null   float64\n",
            " 11  wage        3000 non-null   float64\n",
            "dtypes: float64(2), int64(3), object(7)\n",
            "memory usage: 281.4+ KB\n"
          ],
          "name": "stdout"
        }
      ]
    },
    {
      "cell_type": "code",
      "metadata": {
        "colab": {
          "base_uri": "https://localhost:8080/"
        },
        "id": "eUNQzGCvXfmj",
        "outputId": "0a6df2e9-ec23-4b8d-c96d-b01a784ced5b"
      },
      "source": [
        "# Here we can check the columns\n",
        "\n",
        "df.columns"
      ],
      "execution_count": 7,
      "outputs": [
        {
          "output_type": "execute_result",
          "data": {
            "text/plain": [
              "Index(['Unnamed: 0', 'year', 'age', 'maritl', 'race', 'education', 'region',\n",
              "       'jobclass', 'health', 'health_ins', 'logwage', 'wage'],\n",
              "      dtype='object')"
            ]
          },
          "metadata": {
            "tags": []
          },
          "execution_count": 7
        }
      ]
    },
    {
      "cell_type": "markdown",
      "metadata": {
        "id": "cQ79frrVUB7O"
      },
      "source": [
        "## Data transformation"
      ]
    },
    {
      "cell_type": "markdown",
      "metadata": {
        "id": "eDN4hiSYUB7O"
      },
      "source": [
        "### Descriptive statistics"
      ]
    },
    {
      "cell_type": "markdown",
      "metadata": {
        "id": "M4e5QQ8YUB7P"
      },
      "source": [
        "#### Measures of central tendency"
      ]
    },
    {
      "cell_type": "markdown",
      "metadata": {
        "id": "68gYfnFJUB7P"
      },
      "source": [
        "First of all we obtain some common statistics per variable. Say the average age of employees in the company\n",
        "\n",
        "> Indented block\n",
        "\n"
      ]
    },
    {
      "cell_type": "code",
      "metadata": {
        "id": "t1Od8QlKUB7P",
        "colab": {
          "base_uri": "https://localhost:8080/"
        },
        "outputId": "a753a978-51b8-405f-d154-0fd3f4a78ffa"
      },
      "source": [
        "# mode - note you can use single brackets\n",
        "df['age'].mode()"
      ],
      "execution_count": 8,
      "outputs": [
        {
          "output_type": "execute_result",
          "data": {
            "text/plain": [
              "0    40\n",
              "dtype: int64"
            ]
          },
          "metadata": {
            "tags": []
          },
          "execution_count": 8
        }
      ]
    },
    {
      "cell_type": "code",
      "metadata": {
        "id": "22bMW7W4UB7Q",
        "colab": {
          "base_uri": "https://localhost:8080/"
        },
        "outputId": "9ede64f4-f849-4984-9b86-e13c5eb255c3"
      },
      "source": [
        "# calculation of the mean (e.g. for age) - here we use double brackets\n",
        "df[\"age\"].mean()"
      ],
      "execution_count": 9,
      "outputs": [
        {
          "output_type": "execute_result",
          "data": {
            "text/plain": [
              "42.41466666666667"
            ]
          },
          "metadata": {
            "tags": []
          },
          "execution_count": 9
        }
      ]
    },
    {
      "cell_type": "code",
      "metadata": {
        "id": "jg4r3lMSUB7R",
        "colab": {
          "base_uri": "https://localhost:8080/"
        },
        "outputId": "3ba607cf-6cfd-4875-a467-62a12b07cdb4"
      },
      "source": [
        "# calculation of the mean (e.g. for age) and round the result\n",
        "round(df[\"age\"].mean(), 2)"
      ],
      "execution_count": 10,
      "outputs": [
        {
          "output_type": "execute_result",
          "data": {
            "text/plain": [
              "42.41"
            ]
          },
          "metadata": {
            "tags": []
          },
          "execution_count": 10
        }
      ]
    },
    {
      "cell_type": "code",
      "metadata": {
        "scrolled": true,
        "id": "Mk-KJeFNUB7R",
        "colab": {
          "base_uri": "https://localhost:8080/"
        },
        "outputId": "09706812-758e-4229-a8da-6194ae42702b"
      },
      "source": [
        "# calculation of the median (e.g. for age)\n",
        "df[\"age\"].median()"
      ],
      "execution_count": 11,
      "outputs": [
        {
          "output_type": "execute_result",
          "data": {
            "text/plain": [
              "42.0"
            ]
          },
          "metadata": {
            "tags": []
          },
          "execution_count": 11
        }
      ]
    },
    {
      "cell_type": "code",
      "metadata": {
        "id": "L65LqayZUB7R",
        "colab": {
          "base_uri": "https://localhost:8080/"
        },
        "outputId": "c9b4fd3c-5c4c-47fa-c09f-60af4f102232"
      },
      "source": [
        "# use a function to print a text with the output\n",
        "print(f'The median of age is {df[\"age\"].median()}')"
      ],
      "execution_count": 12,
      "outputs": [
        {
          "output_type": "stream",
          "text": [
            "The median of age is 42.0\n"
          ],
          "name": "stdout"
        }
      ]
    },
    {
      "cell_type": "markdown",
      "metadata": {
        "id": "XxuonMTUUB7S"
      },
      "source": [
        "[link text](https:// [link text](https://))#### Measures of dispersion - how distributed our data is"
      ]
    },
    {
      "cell_type": "code",
      "metadata": {
        "id": "MNK_Ldv-UB7S",
        "outputId": "7bdb1fd7-8196-4186-a716-d373e731cd78"
      },
      "source": [
        "# quantiles\n",
        "df['age'].quantile([.25, .5, .75])"
      ],
      "execution_count": null,
      "outputs": [
        {
          "output_type": "execute_result",
          "data": {
            "text/plain": [
              "0.25    33.75\n",
              "0.50    42.00\n",
              "0.75    51.00\n",
              "Name: age, dtype: float64"
            ]
          },
          "metadata": {
            "tags": []
          },
          "execution_count": 11
        }
      ]
    },
    {
      "cell_type": "code",
      "metadata": {
        "id": "P4Ono4vGUB7S",
        "outputId": "7c74f11c-f912-4e15-8931-025f841424f6"
      },
      "source": [
        "# Range\n",
        "df['age'].max() - df['age'].min()"
      ],
      "execution_count": null,
      "outputs": [
        {
          "output_type": "execute_result",
          "data": {
            "text/plain": [
              "62"
            ]
          },
          "metadata": {
            "tags": []
          },
          "execution_count": 12
        }
      ]
    },
    {
      "cell_type": "code",
      "metadata": {
        "id": "3ruoH0cxUB7S",
        "outputId": "cd8abdb4-bbd5-4732-f792-e9d77e5ae071"
      },
      "source": [
        "# standard deviation\n",
        "round(df['age'].std(),2)"
      ],
      "execution_count": null,
      "outputs": [
        {
          "output_type": "execute_result",
          "data": {
            "text/plain": [
              "11.54"
            ]
          },
          "metadata": {
            "tags": []
          },
          "execution_count": 13
        }
      ]
    },
    {
      "cell_type": "markdown",
      "metadata": {
        "id": "9h9EU9xpUB7T"
      },
      "source": [
        "#### Summary statistics - for all our data"
      ]
    },
    {
      "cell_type": "code",
      "metadata": {
        "id": "ER9Gqad4UB7T",
        "outputId": "4ba772ce-0dfe-4df7-da9f-df50d8f8484e"
      },
      "source": [
        "# summary statistics for all numerical columns\n",
        "round(df.describe(),2)"
      ],
      "execution_count": null,
      "outputs": [
        {
          "output_type": "execute_result",
          "data": {
            "text/html": [
              "<div>\n",
              "<style scoped>\n",
              "    .dataframe tbody tr th:only-of-type {\n",
              "        vertical-align: middle;\n",
              "    }\n",
              "\n",
              "    .dataframe tbody tr th {\n",
              "        vertical-align: top;\n",
              "    }\n",
              "\n",
              "    .dataframe thead th {\n",
              "        text-align: right;\n",
              "    }\n",
              "</style>\n",
              "<table border=\"1\" class=\"dataframe\">\n",
              "  <thead>\n",
              "    <tr style=\"text-align: right;\">\n",
              "      <th></th>\n",
              "      <th>Unnamed: 0</th>\n",
              "      <th>year</th>\n",
              "      <th>age</th>\n",
              "      <th>logwage</th>\n",
              "      <th>wage</th>\n",
              "    </tr>\n",
              "  </thead>\n",
              "  <tbody>\n",
              "    <tr>\n",
              "      <th>count</th>\n",
              "      <td>3000.00</td>\n",
              "      <td>3000.00</td>\n",
              "      <td>3000.00</td>\n",
              "      <td>3000.00</td>\n",
              "      <td>3000.00</td>\n",
              "    </tr>\n",
              "    <tr>\n",
              "      <th>mean</th>\n",
              "      <td>218883.37</td>\n",
              "      <td>2005.79</td>\n",
              "      <td>42.41</td>\n",
              "      <td>4.65</td>\n",
              "      <td>111.70</td>\n",
              "    </tr>\n",
              "    <tr>\n",
              "      <th>std</th>\n",
              "      <td>145654.07</td>\n",
              "      <td>2.03</td>\n",
              "      <td>11.54</td>\n",
              "      <td>0.35</td>\n",
              "      <td>41.73</td>\n",
              "    </tr>\n",
              "    <tr>\n",
              "      <th>min</th>\n",
              "      <td>7373.00</td>\n",
              "      <td>2003.00</td>\n",
              "      <td>18.00</td>\n",
              "      <td>3.00</td>\n",
              "      <td>20.09</td>\n",
              "    </tr>\n",
              "    <tr>\n",
              "      <th>25%</th>\n",
              "      <td>85622.25</td>\n",
              "      <td>2004.00</td>\n",
              "      <td>33.75</td>\n",
              "      <td>4.45</td>\n",
              "      <td>85.38</td>\n",
              "    </tr>\n",
              "    <tr>\n",
              "      <th>50%</th>\n",
              "      <td>228799.50</td>\n",
              "      <td>2006.00</td>\n",
              "      <td>42.00</td>\n",
              "      <td>4.65</td>\n",
              "      <td>104.92</td>\n",
              "    </tr>\n",
              "    <tr>\n",
              "      <th>75%</th>\n",
              "      <td>374759.50</td>\n",
              "      <td>2008.00</td>\n",
              "      <td>51.00</td>\n",
              "      <td>4.86</td>\n",
              "      <td>128.68</td>\n",
              "    </tr>\n",
              "    <tr>\n",
              "      <th>max</th>\n",
              "      <td>453870.00</td>\n",
              "      <td>2009.00</td>\n",
              "      <td>80.00</td>\n",
              "      <td>5.76</td>\n",
              "      <td>318.34</td>\n",
              "    </tr>\n",
              "  </tbody>\n",
              "</table>\n",
              "</div>"
            ],
            "text/plain": [
              "       Unnamed: 0     year      age  logwage     wage\n",
              "count     3000.00  3000.00  3000.00  3000.00  3000.00\n",
              "mean    218883.37  2005.79    42.41     4.65   111.70\n",
              "std     145654.07     2.03    11.54     0.35    41.73\n",
              "min       7373.00  2003.00    18.00     3.00    20.09\n",
              "25%      85622.25  2004.00    33.75     4.45    85.38\n",
              "50%     228799.50  2006.00    42.00     4.65   104.92\n",
              "75%     374759.50  2008.00    51.00     4.86   128.68\n",
              "max     453870.00  2009.00    80.00     5.76   318.34"
            ]
          },
          "metadata": {
            "tags": []
          },
          "execution_count": 16
        }
      ]
    },
    {
      "cell_type": "markdown",
      "metadata": {
        "id": "bk7TO7G9UB7T"
      },
      "source": [
        "Compare summary statistics for specific groups in the data:"
      ]
    },
    {
      "cell_type": "code",
      "metadata": {
        "id": "5mSy8yEKUB7U",
        "outputId": "bf973c2a-5e41-4977-aec7-59428ad09974"
      },
      "source": [
        "# summary statistics by groups\n",
        "df['age'].groupby(df['education']).describe()"
      ],
      "execution_count": null,
      "outputs": [
        {
          "output_type": "execute_result",
          "data": {
            "text/html": [
              "<div>\n",
              "<style scoped>\n",
              "    .dataframe tbody tr th:only-of-type {\n",
              "        vertical-align: middle;\n",
              "    }\n",
              "\n",
              "    .dataframe tbody tr th {\n",
              "        vertical-align: top;\n",
              "    }\n",
              "\n",
              "    .dataframe thead th {\n",
              "        text-align: right;\n",
              "    }\n",
              "</style>\n",
              "<table border=\"1\" class=\"dataframe\">\n",
              "  <thead>\n",
              "    <tr style=\"text-align: right;\">\n",
              "      <th></th>\n",
              "      <th>count</th>\n",
              "      <th>mean</th>\n",
              "      <th>std</th>\n",
              "      <th>min</th>\n",
              "      <th>25%</th>\n",
              "      <th>50%</th>\n",
              "      <th>75%</th>\n",
              "      <th>max</th>\n",
              "    </tr>\n",
              "    <tr>\n",
              "      <th>education</th>\n",
              "      <th></th>\n",
              "      <th></th>\n",
              "      <th></th>\n",
              "      <th></th>\n",
              "      <th></th>\n",
              "      <th></th>\n",
              "      <th></th>\n",
              "      <th></th>\n",
              "    </tr>\n",
              "  </thead>\n",
              "  <tbody>\n",
              "    <tr>\n",
              "      <th>1. &lt; HS Grad</th>\n",
              "      <td>268.0</td>\n",
              "      <td>41.794776</td>\n",
              "      <td>12.611111</td>\n",
              "      <td>18.0</td>\n",
              "      <td>33.0</td>\n",
              "      <td>41.5</td>\n",
              "      <td>50.25</td>\n",
              "      <td>75.0</td>\n",
              "    </tr>\n",
              "    <tr>\n",
              "      <th>2. HS Grad</th>\n",
              "      <td>971.0</td>\n",
              "      <td>42.217302</td>\n",
              "      <td>12.023480</td>\n",
              "      <td>18.0</td>\n",
              "      <td>33.0</td>\n",
              "      <td>42.0</td>\n",
              "      <td>50.00</td>\n",
              "      <td>80.0</td>\n",
              "    </tr>\n",
              "    <tr>\n",
              "      <th>3. Some College</th>\n",
              "      <td>650.0</td>\n",
              "      <td>40.887692</td>\n",
              "      <td>11.523327</td>\n",
              "      <td>18.0</td>\n",
              "      <td>32.0</td>\n",
              "      <td>40.0</td>\n",
              "      <td>49.00</td>\n",
              "      <td>80.0</td>\n",
              "    </tr>\n",
              "    <tr>\n",
              "      <th>4. College Grad</th>\n",
              "      <td>685.0</td>\n",
              "      <td>42.773723</td>\n",
              "      <td>10.902406</td>\n",
              "      <td>22.0</td>\n",
              "      <td>34.0</td>\n",
              "      <td>43.0</td>\n",
              "      <td>51.00</td>\n",
              "      <td>76.0</td>\n",
              "    </tr>\n",
              "    <tr>\n",
              "      <th>5. Advanced Degree</th>\n",
              "      <td>426.0</td>\n",
              "      <td>45.007042</td>\n",
              "      <td>10.263468</td>\n",
              "      <td>25.0</td>\n",
              "      <td>38.0</td>\n",
              "      <td>44.0</td>\n",
              "      <td>53.00</td>\n",
              "      <td>76.0</td>\n",
              "    </tr>\n",
              "  </tbody>\n",
              "</table>\n",
              "</div>"
            ],
            "text/plain": [
              "                    count       mean        std   min   25%   50%    75%   max\n",
              "education                                                                     \n",
              "1. < HS Grad        268.0  41.794776  12.611111  18.0  33.0  41.5  50.25  75.0\n",
              "2. HS Grad          971.0  42.217302  12.023480  18.0  33.0  42.0  50.00  80.0\n",
              "3. Some College     650.0  40.887692  11.523327  18.0  32.0  40.0  49.00  80.0\n",
              "4. College Grad     685.0  42.773723  10.902406  22.0  34.0  43.0  51.00  76.0\n",
              "5. Advanced Degree  426.0  45.007042  10.263468  25.0  38.0  44.0  53.00  76.0"
            ]
          },
          "metadata": {
            "tags": []
          },
          "execution_count": 19
        }
      ]
    }
  ]
}