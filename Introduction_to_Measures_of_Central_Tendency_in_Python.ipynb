{
  "nbformat": 4,
  "nbformat_minor": 0,
  "metadata": {
    "kernelspec": {
      "display_name": "Python 3",
      "language": "python",
      "name": "python3"
    },
    "language_info": {
      "codemirror_mode": {
        "name": "ipython",
        "version": 3
      },
      "file_extension": ".py",
      "mimetype": "text/x-python",
      "name": "python",
      "nbconvert_exporter": "python",
      "pygments_lexer": "ipython3",
      "version": "3.6.8"
    },
    "toc": {
      "base_numbering": 1,
      "nav_menu": {},
      "number_sections": true,
      "sideBar": true,
      "skip_h1_title": true,
      "title_cell": "Table of Contents",
      "title_sidebar": "Contents",
      "toc_cell": true,
      "toc_position": {},
      "toc_section_display": true,
      "toc_window_display": true
    },
    "varInspector": {
      "cols": {
        "lenName": 16,
        "lenType": 16,
        "lenVar": 40
      },
      "kernels_config": {
        "python": {
          "delete_cmd_postfix": "",
          "delete_cmd_prefix": "del ",
          "library": "var_list.py",
          "varRefreshCmd": "print(var_dic_list())"
        },
        "r": {
          "delete_cmd_postfix": ") ",
          "delete_cmd_prefix": "rm(",
          "library": "var_list.r",
          "varRefreshCmd": "cat(var_dic_list()) "
        }
      },
      "types_to_exclude": [
        "module",
        "function",
        "builtin_function_or_method",
        "instance",
        "_Feature"
      ],
      "window_display": false
    },
    "colab": {
      "name": "Introduction to Measures of Central Tendency in Python.ipynb",
      "provenance": [],
      "include_colab_link": true
    }
  },
  "cells": [
    {
      "cell_type": "markdown",
      "metadata": {
        "id": "view-in-github",
        "colab_type": "text"
      },
      "source": [
        "<a href=\"https://colab.research.google.com/github/HURU-School/Data-Science/blob/main/Introduction_to_Measures_of_Central_Tendency_in_Python.ipynb\" target=\"_parent\"><img src=\"https://colab.research.google.com/assets/colab-badge.svg\" alt=\"Open In Colab\"/></a>"
      ]
    },
    {
      "cell_type": "markdown",
      "metadata": {
        "id": "5vFDcqFwUB7D"
      },
      "source": [
        "**Introduction to Measures of Central Tendency in Python**<br/>\n",
        "Adapted from Prof. Dr. Jan Kirenz <br/>\n",
        "Hochschule der Medien Stuttgart for HURU School data science class"
      ]
    },
    {
      "cell_type": "markdown",
      "metadata": {
        "toc": true,
        "id": "cpiufXaIUB7M"
      },
      "source": [
        "<h1>Table of Contents<span class=\"tocSkip\"></span></h1>\n",
        "<div class=\"toc\"><ul class=\"toc-item\"><li><span><a href=\"#Import-data\" data-toc-modified-id=\"Import-data-1\"><span class=\"toc-item-num\">1&nbsp;&nbsp;</span>Import data</a></span></li><li><span><a href=\"#Data-transformation\" data-toc-modified-id=\"Data-transformation-2\"><span class=\"toc-item-num\">2&nbsp;&nbsp;</span>Data transformation</a></span><ul class=\"toc-item\"><li><span><a href=\"#Descriptive-statistics\" data-toc-modified-id=\"Descriptive-statistics-2.1\"><span class=\"toc-item-num\">2.1&nbsp;&nbsp;</span>Descriptive statistics</a></span><ul class=\"toc-item\"><li><span><a href=\"#Measures-of-central-tendency\" data-toc-modified-id=\"Measures-of-central-tendency-2.1.1\"><span class=\"toc-item-num\">2.1.1&nbsp;&nbsp;</span>Measures of central tendency</a></span></li><li><span><a href=\"#Measures-of-dispersion\" data-toc-modified-id=\"Measures-of-dispersion-2.1.2\"><span class=\"toc-item-num\">2.1.2&nbsp;&nbsp;</span>Measures of dispersion</a></span></li><li><span><a href=\"#Summary-statistics\" data-toc-modified-id=\"Summary-statistics-2.1.3\"><span class=\"toc-item-num\">2.1.3&nbsp;&nbsp;</span>Summary statistics</a></span></li></ul></li></ul></li></ul></div>"
      ]
    },
    {
      "cell_type": "code",
      "metadata": {
        "id": "GT-4-yiyUB7N"
      },
      "source": [
        "# Here we import the Python for Data Analysis Library(Pandas)\n",
        "\n",
        "import pandas as pd"
      ],
      "execution_count": null,
      "outputs": []
    },
    {
      "cell_type": "markdown",
      "metadata": {
        "id": "PkqKerThUB7N"
      },
      "source": [
        "## Import data"
      ]
    },
    {
      "cell_type": "code",
      "metadata": {
        "id": "ZojtBGiYUB7O"
      },
      "source": [
        "# Import data from GitHub (or from your local computer)\n",
        "df = pd.read_csv(\"https://raw.githubusercontent.com/kirenz/datasets/master/wage.csv\")"
      ],
      "execution_count": null,
      "outputs": []
    },
    {
      "cell_type": "markdown",
      "metadata": {
        "id": "cQ79frrVUB7O"
      },
      "source": [
        "## Data transformation"
      ]
    },
    {
      "cell_type": "markdown",
      "metadata": {
        "id": "eDN4hiSYUB7O"
      },
      "source": [
        "### Descriptive statistics"
      ]
    },
    {
      "cell_type": "markdown",
      "metadata": {
        "id": "M4e5QQ8YUB7P"
      },
      "source": [
        "#### Measures of central tendency"
      ]
    },
    {
      "cell_type": "markdown",
      "metadata": {
        "id": "68gYfnFJUB7P"
      },
      "source": [
        "First of all we obtain some common statistics per variable."
      ]
    },
    {
      "cell_type": "code",
      "metadata": {
        "id": "t1Od8QlKUB7P",
        "outputId": "693fe577-be4a-4d77-9bab-7fd4e32b6add"
      },
      "source": [
        "# mode\n",
        "df['age'].mode()"
      ],
      "execution_count": null,
      "outputs": [
        {
          "output_type": "execute_result",
          "data": {
            "text/plain": [
              "0    40\n",
              "dtype: int64"
            ]
          },
          "metadata": {
            "tags": []
          },
          "execution_count": 6
        }
      ]
    },
    {
      "cell_type": "code",
      "metadata": {
        "id": "22bMW7W4UB7Q",
        "outputId": "de912628-0101-4969-a650-e7938d039eef"
      },
      "source": [
        "# calculation of the mean (e.g. for age)\n",
        "df[\"age\"].mean()"
      ],
      "execution_count": null,
      "outputs": [
        {
          "output_type": "execute_result",
          "data": {
            "text/plain": [
              "42.41466666666667"
            ]
          },
          "metadata": {
            "tags": []
          },
          "execution_count": 7
        }
      ]
    },
    {
      "cell_type": "code",
      "metadata": {
        "id": "jg4r3lMSUB7R",
        "outputId": "01565d38-86ba-4e19-c080-a076fb0afd81"
      },
      "source": [
        "# calculation of the mean (e.g. for age) and round the result\n",
        "round(df[\"age\"].mean(), 2)"
      ],
      "execution_count": null,
      "outputs": [
        {
          "output_type": "execute_result",
          "data": {
            "text/plain": [
              "42.41"
            ]
          },
          "metadata": {
            "tags": []
          },
          "execution_count": 10
        }
      ]
    },
    {
      "cell_type": "code",
      "metadata": {
        "scrolled": true,
        "id": "Mk-KJeFNUB7R",
        "outputId": "969bddfb-f5d9-420c-f630-54080563779d"
      },
      "source": [
        "# calculation of the median (e.g. for age)\n",
        "df[\"age\"].median()"
      ],
      "execution_count": null,
      "outputs": [
        {
          "output_type": "execute_result",
          "data": {
            "text/plain": [
              "42.0"
            ]
          },
          "metadata": {
            "tags": []
          },
          "execution_count": 8
        }
      ]
    },
    {
      "cell_type": "code",
      "metadata": {
        "id": "L65LqayZUB7R",
        "outputId": "d87552f2-68fa-4ca8-8806-46d158e71a8e"
      },
      "source": [
        "# use a function to print a text with the output\n",
        "print(f'The median of age is {df[\"age\"].median()}')"
      ],
      "execution_count": null,
      "outputs": [
        {
          "output_type": "stream",
          "text": [
            "The median of age is 42.0\n"
          ],
          "name": "stdout"
        }
      ]
    },
    {
      "cell_type": "markdown",
      "metadata": {
        "id": "XxuonMTUUB7S"
      },
      "source": [
        "#### Measures of dispersion "
      ]
    },
    {
      "cell_type": "code",
      "metadata": {
        "id": "MNK_Ldv-UB7S",
        "outputId": "7bdb1fd7-8196-4186-a716-d373e731cd78"
      },
      "source": [
        "# quantiles\n",
        "df['age'].quantile([.25, .5, .75])"
      ],
      "execution_count": null,
      "outputs": [
        {
          "output_type": "execute_result",
          "data": {
            "text/plain": [
              "0.25    33.75\n",
              "0.50    42.00\n",
              "0.75    51.00\n",
              "Name: age, dtype: float64"
            ]
          },
          "metadata": {
            "tags": []
          },
          "execution_count": 11
        }
      ]
    },
    {
      "cell_type": "code",
      "metadata": {
        "id": "P4Ono4vGUB7S",
        "outputId": "7c74f11c-f912-4e15-8931-025f841424f6"
      },
      "source": [
        "# Range\n",
        "df['age'].max() - df['age'].min()"
      ],
      "execution_count": null,
      "outputs": [
        {
          "output_type": "execute_result",
          "data": {
            "text/plain": [
              "62"
            ]
          },
          "metadata": {
            "tags": []
          },
          "execution_count": 12
        }
      ]
    },
    {
      "cell_type": "code",
      "metadata": {
        "id": "3ruoH0cxUB7S",
        "outputId": "cd8abdb4-bbd5-4732-f792-e9d77e5ae071"
      },
      "source": [
        "# standard deviation\n",
        "round(df['age'].std(),2)"
      ],
      "execution_count": null,
      "outputs": [
        {
          "output_type": "execute_result",
          "data": {
            "text/plain": [
              "11.54"
            ]
          },
          "metadata": {
            "tags": []
          },
          "execution_count": 13
        }
      ]
    },
    {
      "cell_type": "markdown",
      "metadata": {
        "id": "9h9EU9xpUB7T"
      },
      "source": [
        "#### Summary statistics"
      ]
    },
    {
      "cell_type": "code",
      "metadata": {
        "id": "ER9Gqad4UB7T",
        "outputId": "4ba772ce-0dfe-4df7-da9f-df50d8f8484e"
      },
      "source": [
        "# summary statistics for all numerical columns\n",
        "round(df.describe(),2)"
      ],
      "execution_count": null,
      "outputs": [
        {
          "output_type": "execute_result",
          "data": {
            "text/html": [
              "<div>\n",
              "<style scoped>\n",
              "    .dataframe tbody tr th:only-of-type {\n",
              "        vertical-align: middle;\n",
              "    }\n",
              "\n",
              "    .dataframe tbody tr th {\n",
              "        vertical-align: top;\n",
              "    }\n",
              "\n",
              "    .dataframe thead th {\n",
              "        text-align: right;\n",
              "    }\n",
              "</style>\n",
              "<table border=\"1\" class=\"dataframe\">\n",
              "  <thead>\n",
              "    <tr style=\"text-align: right;\">\n",
              "      <th></th>\n",
              "      <th>Unnamed: 0</th>\n",
              "      <th>year</th>\n",
              "      <th>age</th>\n",
              "      <th>logwage</th>\n",
              "      <th>wage</th>\n",
              "    </tr>\n",
              "  </thead>\n",
              "  <tbody>\n",
              "    <tr>\n",
              "      <th>count</th>\n",
              "      <td>3000.00</td>\n",
              "      <td>3000.00</td>\n",
              "      <td>3000.00</td>\n",
              "      <td>3000.00</td>\n",
              "      <td>3000.00</td>\n",
              "    </tr>\n",
              "    <tr>\n",
              "      <th>mean</th>\n",
              "      <td>218883.37</td>\n",
              "      <td>2005.79</td>\n",
              "      <td>42.41</td>\n",
              "      <td>4.65</td>\n",
              "      <td>111.70</td>\n",
              "    </tr>\n",
              "    <tr>\n",
              "      <th>std</th>\n",
              "      <td>145654.07</td>\n",
              "      <td>2.03</td>\n",
              "      <td>11.54</td>\n",
              "      <td>0.35</td>\n",
              "      <td>41.73</td>\n",
              "    </tr>\n",
              "    <tr>\n",
              "      <th>min</th>\n",
              "      <td>7373.00</td>\n",
              "      <td>2003.00</td>\n",
              "      <td>18.00</td>\n",
              "      <td>3.00</td>\n",
              "      <td>20.09</td>\n",
              "    </tr>\n",
              "    <tr>\n",
              "      <th>25%</th>\n",
              "      <td>85622.25</td>\n",
              "      <td>2004.00</td>\n",
              "      <td>33.75</td>\n",
              "      <td>4.45</td>\n",
              "      <td>85.38</td>\n",
              "    </tr>\n",
              "    <tr>\n",
              "      <th>50%</th>\n",
              "      <td>228799.50</td>\n",
              "      <td>2006.00</td>\n",
              "      <td>42.00</td>\n",
              "      <td>4.65</td>\n",
              "      <td>104.92</td>\n",
              "    </tr>\n",
              "    <tr>\n",
              "      <th>75%</th>\n",
              "      <td>374759.50</td>\n",
              "      <td>2008.00</td>\n",
              "      <td>51.00</td>\n",
              "      <td>4.86</td>\n",
              "      <td>128.68</td>\n",
              "    </tr>\n",
              "    <tr>\n",
              "      <th>max</th>\n",
              "      <td>453870.00</td>\n",
              "      <td>2009.00</td>\n",
              "      <td>80.00</td>\n",
              "      <td>5.76</td>\n",
              "      <td>318.34</td>\n",
              "    </tr>\n",
              "  </tbody>\n",
              "</table>\n",
              "</div>"
            ],
            "text/plain": [
              "       Unnamed: 0     year      age  logwage     wage\n",
              "count     3000.00  3000.00  3000.00  3000.00  3000.00\n",
              "mean    218883.37  2005.79    42.41     4.65   111.70\n",
              "std     145654.07     2.03    11.54     0.35    41.73\n",
              "min       7373.00  2003.00    18.00     3.00    20.09\n",
              "25%      85622.25  2004.00    33.75     4.45    85.38\n",
              "50%     228799.50  2006.00    42.00     4.65   104.92\n",
              "75%     374759.50  2008.00    51.00     4.86   128.68\n",
              "max     453870.00  2009.00    80.00     5.76   318.34"
            ]
          },
          "metadata": {
            "tags": []
          },
          "execution_count": 16
        }
      ]
    },
    {
      "cell_type": "markdown",
      "metadata": {
        "id": "bk7TO7G9UB7T"
      },
      "source": [
        "Compare summary statistics for specific groups in the data:"
      ]
    },
    {
      "cell_type": "code",
      "metadata": {
        "id": "5mSy8yEKUB7U",
        "outputId": "bf973c2a-5e41-4977-aec7-59428ad09974"
      },
      "source": [
        "# summary statistics by groups\n",
        "df['age'].groupby(df['education']).describe()"
      ],
      "execution_count": null,
      "outputs": [
        {
          "output_type": "execute_result",
          "data": {
            "text/html": [
              "<div>\n",
              "<style scoped>\n",
              "    .dataframe tbody tr th:only-of-type {\n",
              "        vertical-align: middle;\n",
              "    }\n",
              "\n",
              "    .dataframe tbody tr th {\n",
              "        vertical-align: top;\n",
              "    }\n",
              "\n",
              "    .dataframe thead th {\n",
              "        text-align: right;\n",
              "    }\n",
              "</style>\n",
              "<table border=\"1\" class=\"dataframe\">\n",
              "  <thead>\n",
              "    <tr style=\"text-align: right;\">\n",
              "      <th></th>\n",
              "      <th>count</th>\n",
              "      <th>mean</th>\n",
              "      <th>std</th>\n",
              "      <th>min</th>\n",
              "      <th>25%</th>\n",
              "      <th>50%</th>\n",
              "      <th>75%</th>\n",
              "      <th>max</th>\n",
              "    </tr>\n",
              "    <tr>\n",
              "      <th>education</th>\n",
              "      <th></th>\n",
              "      <th></th>\n",
              "      <th></th>\n",
              "      <th></th>\n",
              "      <th></th>\n",
              "      <th></th>\n",
              "      <th></th>\n",
              "      <th></th>\n",
              "    </tr>\n",
              "  </thead>\n",
              "  <tbody>\n",
              "    <tr>\n",
              "      <th>1. &lt; HS Grad</th>\n",
              "      <td>268.0</td>\n",
              "      <td>41.794776</td>\n",
              "      <td>12.611111</td>\n",
              "      <td>18.0</td>\n",
              "      <td>33.0</td>\n",
              "      <td>41.5</td>\n",
              "      <td>50.25</td>\n",
              "      <td>75.0</td>\n",
              "    </tr>\n",
              "    <tr>\n",
              "      <th>2. HS Grad</th>\n",
              "      <td>971.0</td>\n",
              "      <td>42.217302</td>\n",
              "      <td>12.023480</td>\n",
              "      <td>18.0</td>\n",
              "      <td>33.0</td>\n",
              "      <td>42.0</td>\n",
              "      <td>50.00</td>\n",
              "      <td>80.0</td>\n",
              "    </tr>\n",
              "    <tr>\n",
              "      <th>3. Some College</th>\n",
              "      <td>650.0</td>\n",
              "      <td>40.887692</td>\n",
              "      <td>11.523327</td>\n",
              "      <td>18.0</td>\n",
              "      <td>32.0</td>\n",
              "      <td>40.0</td>\n",
              "      <td>49.00</td>\n",
              "      <td>80.0</td>\n",
              "    </tr>\n",
              "    <tr>\n",
              "      <th>4. College Grad</th>\n",
              "      <td>685.0</td>\n",
              "      <td>42.773723</td>\n",
              "      <td>10.902406</td>\n",
              "      <td>22.0</td>\n",
              "      <td>34.0</td>\n",
              "      <td>43.0</td>\n",
              "      <td>51.00</td>\n",
              "      <td>76.0</td>\n",
              "    </tr>\n",
              "    <tr>\n",
              "      <th>5. Advanced Degree</th>\n",
              "      <td>426.0</td>\n",
              "      <td>45.007042</td>\n",
              "      <td>10.263468</td>\n",
              "      <td>25.0</td>\n",
              "      <td>38.0</td>\n",
              "      <td>44.0</td>\n",
              "      <td>53.00</td>\n",
              "      <td>76.0</td>\n",
              "    </tr>\n",
              "  </tbody>\n",
              "</table>\n",
              "</div>"
            ],
            "text/plain": [
              "                    count       mean        std   min   25%   50%    75%   max\n",
              "education                                                                     \n",
              "1. < HS Grad        268.0  41.794776  12.611111  18.0  33.0  41.5  50.25  75.0\n",
              "2. HS Grad          971.0  42.217302  12.023480  18.0  33.0  42.0  50.00  80.0\n",
              "3. Some College     650.0  40.887692  11.523327  18.0  32.0  40.0  49.00  80.0\n",
              "4. College Grad     685.0  42.773723  10.902406  22.0  34.0  43.0  51.00  76.0\n",
              "5. Advanced Degree  426.0  45.007042  10.263468  25.0  38.0  44.0  53.00  76.0"
            ]
          },
          "metadata": {
            "tags": []
          },
          "execution_count": 19
        }
      ]
    }
  ]
}