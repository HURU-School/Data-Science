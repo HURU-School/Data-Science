{
  "nbformat": 4,
  "nbformat_minor": 0,
  "metadata": {
    "colab": {
      "name": " Scientific Data Analysis.ipynb",
      "provenance": [],
      "include_colab_link": true
    },
    "kernelspec": {
      "name": "python3",
      "display_name": "Python 3"
    },
    "language_info": {
      "name": "python"
    }
  },
  "cells": [
    {
      "cell_type": "markdown",
      "metadata": {
        "id": "view-in-github",
        "colab_type": "text"
      },
      "source": [
        "<a href=\"https://colab.research.google.com/github/HURU-School/Data-Science/blob/main/Scientific_Data_Analysis.ipynb\" target=\"_parent\"><img src=\"https://colab.research.google.com/assets/colab-badge.svg\" alt=\"Open In Colab\"/></a>"
      ]
    },
    {
      "cell_type": "code",
      "metadata": {
        "id": "Q5X377052Y1e"
      },
      "source": [
        "# start by importing packages\n",
        "\n",
        "import pandas as pd\n",
        "import numpy as np\n",
        "import matplotlib.pyplot as plt\n",
        "import seaborn as sns\n",
        "from scipy import stats"
      ],
      "execution_count": null,
      "outputs": []
    },
    {
      "cell_type": "markdown",
      "metadata": {
        "id": "3jl1BWtNErTd"
      },
      "source": [
        "Pandas will be used to handle the dataframe; numpy will be used to calculate a few key statistics such as median and standard deviation as well as to draw random samples from the dataset, matplotlib.pyplot and seaborn will be used together to generate the plot, and scipy will be used for the mathematical calculation of the normal statistics.\n",
        "\n",
        "Next, let's define a function that will generate plottable points"
      ]
    },
    {
      "cell_type": "code",
      "metadata": {
        "id": "C_KF42hyEvOH"
      },
      "source": [
        ""
      ],
      "execution_count": null,
      "outputs": []
    },
    {
      "cell_type": "code",
      "metadata": {
        "id": "NRuqeA6k2etu"
      },
      "source": [
        "\n",
        "\n",
        "def ecdf(data):\n",
        "    \"\"\"Compute ECDF for a one-dimensional array of measurements.\"\"\"\n",
        "\n",
        "    # Number of data points: n\n",
        "    n = len(data)\n",
        "\n",
        "    # x-data for the ECDF: x\n",
        "    x = np.sort(data)\n",
        "\n",
        "    # y-data for the ECDF: y\n",
        "    y = np.arange(1, n+1) / n\n",
        "\n",
        "    return x, y"
      ],
      "execution_count": null,
      "outputs": []
    },
    {
      "cell_type": "markdown",
      "metadata": {
        "id": "MyqqgRRSFC9W"
      },
      "source": [
        "This function takes a list of sample readings (temperatures in this example) and sorts them from lowest to highest. It returns a set of (x,y) pairs that represent the temperature reading and the relative position in the sorted list, or percentile, of each reading.\n",
        "\n",
        "Next, we'll run that function on our sample data to get plottable datapoints."
      ]
    },
    {
      "cell_type": "code",
      "metadata": {
        "id": "4TgNwHsS2meZ"
      },
      "source": [
        "df=pd.read_csv('/content/sample_data/Grade Data  - Sheet1.csv')\n",
        "x, y = ecdf(df[\"TestGrades\"])"
      ],
      "execution_count": null,
      "outputs": []
    },
    {
      "cell_type": "markdown",
      "metadata": {
        "id": "KzXv3AKwFKGz"
      },
      "source": [
        "We can then use matplotlib and seaborn to plot our sample data with the following code:"
      ]
    },
    {
      "cell_type": "code",
      "metadata": {
        "colab": {
          "base_uri": "https://localhost:8080/",
          "height": 465
        },
        "id": "CwY45b-_3kxi",
        "outputId": "99bb3b80-be98-4e84-c26a-8005b4c6ea6c"
      },
      "source": [
        "plt.figure(figsize=(8,7))\n",
        "sns.set()\n",
        "plt.plot(x, y, marker=\".\", linestyle=\"none\")\n",
        "plt.xlabel(\"TestGrades\")\n",
        "plt.ylabel(\"Cumulative Distribution Function\")\n",
        "\n",
        "#Running this will yield a chart that looks like the following:"
      ],
      "execution_count": null,
      "outputs": [
        {
          "output_type": "execute_result",
          "data": {
            "text/plain": [
              "Text(0, 0.5, 'Cumulative Distribution Function')"
            ]
          },
          "metadata": {
            "tags": []
          },
          "execution_count": 34
        },
        {
          "output_type": "display_data",
          "data": {
            "image/png": "[encoded data removed]",
            "text/plain": [
              "<Figure size 576x504 with 1 Axes>"
            ]
          },
          "metadata": {
            "tags": []
          }
        }
      ]
    },
    {
      "cell_type": "markdown",
      "metadata": {
        "id": "GUxBU1EoFddP"
      },
      "source": [
        "Excellent! We can really start to see the curve here. Now, in order to compare this to a perfect normal distribution, we'll need to plot a second series of data. This could be done in a number of ways, but in this tutorial, we'll use a technique called bootstrapping to accomplish the task.\n",
        "\n",
        "The following code will generate 100 'TestGrades' that follow a normal distribution using the mean and the standard deviation of our dataset to scale the range."
      ]
    },
    {
      "cell_type": "code",
      "metadata": {
        "id": "xbb3NfRi3xyN"
      },
      "source": [
        "samples = np.random.normal(np.mean(df[\"TestGrades\"]), np.std(df[\"TestGrades\"]), size=100)"
      ],
      "execution_count": null,
      "outputs": []
    },
    {
      "cell_type": "markdown",
      "metadata": {
        "id": "mQEjVw0UFxxX"
      },
      "source": [
        "This data will just be a list of TestGrades. We can transform this randomized data into x,y pairs using the same function we defined earlier, allowing us to plot the data alongside the actual samples with the following code:"
      ]
    },
    {
      "cell_type": "code",
      "metadata": {
        "id": "OvL3RHp_FsGU"
      },
      "source": [
        "x_theor, y_theor = ecdf(samples)"
      ],
      "execution_count": null,
      "outputs": []
    },
    {
      "cell_type": "markdown",
      "metadata": {
        "id": "aJ6bjpJoGFiO"
      },
      "source": [
        "These theoretical examples represent how the data would look if we had 100 samples and the distribution of the readings were perfectly normal. It's a hypothetical we can use to compare reality.\n",
        "\n",
        "Let's plot this on the same chart as our earlier data with the following code and add a legend:"
      ]
    },
    {
      "cell_type": "code",
      "metadata": {
        "colab": {
          "base_uri": "https://localhost:8080/",
          "height": 285
        },
        "id": "P3QYRkrQ4EfX",
        "outputId": "fac7ac15-1cdc-4839-c3fa-f15a0af11c10"
      },
      "source": [
        "plt.plot(x_theor, y_theor)\n",
        "plt.legend(('Normal Distribution', 'Empirical Data'), loc='lower right')\n",
        "\n",
        "plt.show\n",
        "\n",
        " "
      ],
      "execution_count": null,
      "outputs": [
        {
          "output_type": "execute_result",
          "data": {
            "text/plain": [
              "<function matplotlib.pyplot.show>"
            ]
          },
          "metadata": {
            "tags": []
          },
          "execution_count": 52
        },
        {
          "output_type": "display_data",
          "data": {
            "image/png": "[encoded data removed]",
            "text/plain": [
              "<Figure size 432x288 with 1 Axes>"
            ]
          },
          "metadata": {
            "tags": []
          }
        }
      ]
    },
    {
      "cell_type": "markdown",
      "metadata": {
        "id": "9Ea8Rc0nG8bL"
      },
      "source": [
        "Check that out! It looks like our sample data is very close to the true normal distribution! We can probably consider this data normally distributed. \n",
        "\n",
        "Let's add one more line of code to provide further insight into the distribution:"
      ]
    },
    {
      "cell_type": "code",
      "metadata": {
        "colab": {
          "base_uri": "https://localhost:8080/"
        },
        "id": "HW2A1lVr4lLV",
        "outputId": "a59fcf78-b82b-44ab-ca8b-58616544d8a4"
      },
      "source": [
        "print(stats.normaltest(df[\"TestGrades\"]))"
      ],
      "execution_count": null,
      "outputs": [
        {
          "output_type": "stream",
          "text": [
            "NormaltestResult(statistic=1.0592969258955085, pvalue=0.588811922507996)\n"
          ],
          "name": "stdout"
        }
      ]
    },
    {
      "cell_type": "markdown",
      "metadata": {
        "id": "Y_i3O-mVHCjc"
      },
      "source": [
        "This will run SciPy's normal test and print the results including a p representing A 2-sided chi squared probability for the hypothesis test. If the p value is less than our alpha (significance value), we can reject the hypothesis that this sample data is normally distributed. If greater, we cannot reject the null hypothesis and must conclude the data is normally distributed. \n",
        "\n",
        " Based on this examination samples, can we conclude that TestGrades are normally distributed and there is no difference in the Marks awarded by the 2 professors"
      ]
    }
  ]
}