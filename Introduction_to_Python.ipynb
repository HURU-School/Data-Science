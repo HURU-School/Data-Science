{
  "nbformat": 4,
  "nbformat_minor": 0,
  "metadata": {
    "colab": {
      "name": "Lab2 Introduction to Python.ipynb",
      "provenance": [],
      "include_colab_link": true
    },
    "kernelspec": {
      "name": "python3",
      "display_name": "Python 3"
    }
  },
  "cells": [
    {
      "cell_type": "markdown",
      "metadata": {
        "id": "view-in-github",
        "colab_type": "text"
      },
      "source": [
        "<a href=\"https://colab.research.google.com/github/HURU-School/Data-Science/blob/main/Introduction_to_Python.ipynb\" target=\"_parent\"><img src=\"https://colab.research.google.com/assets/colab-badge.svg\" alt=\"Open In Colab\"/></a>"
      ]
    },
    {
      "cell_type": "markdown",
      "metadata": {
        "id": "1QojqCyIhfxG"
      },
      "source": [
        "\n",
        "\n",
        "\n",
        "# Introduction to Python\n",
        "\n",
        "This is a notebook that introduces the use of python using Google Colab Notebooks\n",
        "\n",
        "\n"
      ]
    },
    {
      "cell_type": "code",
      "metadata": {
        "colab": {
          "base_uri": "https://localhost:8080/"
        },
        "id": "HGbsXEoY4MVG",
        "outputId": "e8741658-cc4d-4855-9646-27d32b80be2b"
      },
      "source": [
        "# Simple mathematical operations\n",
        "\n",
        "3+3\n"
      ],
      "execution_count": 4,
      "outputs": [
        {
          "output_type": "execute_result",
          "data": {
            "text/plain": [
              "6"
            ]
          },
          "metadata": {
            "tags": []
          },
          "execution_count": 4
        }
      ]
    },
    {
      "cell_type": "code",
      "metadata": {
        "colab": {
          "base_uri": "https://localhost:8080/"
        },
        "id": "duvFfxPQ534_",
        "outputId": "ce401a64-b08a-4e91-f2c3-fed4ce9e2a49"
      },
      "source": [
        "#division\n",
        "\n",
        "22/8 "
      ],
      "execution_count": 2,
      "outputs": [
        {
          "output_type": "execute_result",
          "data": {
            "text/plain": [
              "2.75"
            ]
          },
          "metadata": {
            "tags": []
          },
          "execution_count": 2
        }
      ]
    },
    {
      "cell_type": "code",
      "metadata": {
        "id": "N2jji51Q6Yq4"
      },
      "source": [
        "# Variables\n",
        "# rules in creating varibles use one word\n",
        "# use letter,number,underscore\n",
        "# cannot begin with a number cant be a keyword"
      ],
      "execution_count": null,
      "outputs": []
    },
    {
      "cell_type": "code",
      "metadata": {
        "id": "OWhlptZ-7tOM"
      },
      "source": [
        "#snake_case\n",
        "my_value = 10\n",
        "\n",
        "# pascal case\n",
        "MyValue2 = 20\n",
        "\n",
        "# camelcase\n",
        "myValue3 =30"
      ],
      "execution_count": null,
      "outputs": []
    },
    {
      "cell_type": "code",
      "metadata": {
        "colab": {
          "base_uri": "https://localhost:8080/",
          "height": 35
        },
        "id": "LUtHb1TF75gZ",
        "outputId": "ee8591d9-6432-4054-c789-7973d23a4bc2"
      },
      "source": [
        "# Rules of creating comments in python\n",
        "\n",
        "\"\"\"\n",
        "this \n",
        "is a \n",
        "comment\n",
        "- can also use  3 single quotes\n",
        "\n",
        "\"\"\""
      ],
      "execution_count": null,
      "outputs": [
        {
          "output_type": "execute_result",
          "data": {
            "application/vnd.google.colaboratory.intrinsic+json": {
              "type": "string"
            },
            "text/plain": [
              "'\\nthis \\nis a \\ncomment\\n\\n'"
            ]
          },
          "metadata": {
            "tags": []
          },
          "execution_count": 17
        }
      ]
    },
    {
      "cell_type": "code",
      "metadata": {
        "colab": {
          "base_uri": "https://localhost:8080/",
          "height": 201
        },
        "id": "J13AQ9s6-Kzx",
        "outputId": "a8164149-4003-4d59-840d-20d8481cf74b"
      },
      "source": [
        "# case sensitive\n",
        "\n",
        "MYVALUE2"
      ],
      "execution_count": 6,
      "outputs": [
        {
          "output_type": "error",
          "ename": "NameError",
          "evalue": "ignored",
          "traceback": [
            "\u001b[0;31m---------------------------------------------------------------------------\u001b[0m",
            "\u001b[0;31mNameError\u001b[0m                                 Traceback (most recent call last)",
            "\u001b[0;32m<ipython-input-6-355900e8d9d5>\u001b[0m in \u001b[0;36m<module>\u001b[0;34m()\u001b[0m\n\u001b[1;32m      1\u001b[0m \u001b[0;31m# case sensitive\u001b[0m\u001b[0;34m\u001b[0m\u001b[0;34m\u001b[0m\u001b[0;34m\u001b[0m\u001b[0m\n\u001b[1;32m      2\u001b[0m \u001b[0;34m\u001b[0m\u001b[0m\n\u001b[0;32m----> 3\u001b[0;31m \u001b[0mMYVALUE2\u001b[0m\u001b[0;34m\u001b[0m\u001b[0;34m\u001b[0m\u001b[0m\n\u001b[0m",
            "\u001b[0;31mNameError\u001b[0m: name 'MYVALUE2' is not defined"
          ]
        }
      ]
    },
    {
      "cell_type": "code",
      "metadata": {
        "id": "jXNb7rQd-WTZ"
      },
      "source": [
        "# sensitive to indentattion"
      ],
      "execution_count": null,
      "outputs": []
    },
    {
      "cell_type": "markdown",
      "metadata": {
        "id": "K32aEhO5-w0y"
      },
      "source": [
        "# Data types"
      ]
    },
    {
      "cell_type": "code",
      "metadata": {
        "colab": {
          "base_uri": "https://localhost:8080/",
          "height": 35
        },
        "id": "Os8-7Ab5-0My",
        "outputId": "d4586fb0-aa34-4c11-ba2e-0ee172082b0f"
      },
      "source": [
        "\"\"\"\n",
        "common data types:\n",
        "1.Numbers\n",
        "2.Strings\n",
        "3.List\n",
        "4.Dictionary\n",
        "5.Boolean\n",
        "6.Tuples\n",
        "\n",
        "\"\"\""
      ],
      "execution_count": null,
      "outputs": [
        {
          "output_type": "execute_result",
          "data": {
            "application/vnd.google.colaboratory.intrinsic+json": {
              "type": "string"
            },
            "text/plain": [
              "'\\ncommon data types:\\n1.Numbers\\n2Strings\\n3.List\\n4.Dictionary\\n5.Boolean\\n6.Tuples\\n\\n\\n'"
            ]
          },
          "metadata": {
            "tags": []
          },
          "execution_count": 20
        }
      ]
    },
    {
      "cell_type": "code",
      "metadata": {
        "colab": {
          "base_uri": "https://localhost:8080/"
        },
        "id": "_mF3_XKC_rAS",
        "outputId": "c052217f-e7ff-4329-9e91-1c4288078595"
      },
      "source": [
        "#Numbers\n",
        "\n",
        "num1 = 10\n",
        "num2 = 20\n",
        "num1 - num2"
      ],
      "execution_count": null,
      "outputs": [
        {
          "output_type": "execute_result",
          "data": {
            "text/plain": [
              "-10"
            ]
          },
          "metadata": {
            "tags": []
          },
          "execution_count": 22
        }
      ]
    },
    {
      "cell_type": "code",
      "metadata": {
        "id": "pdExWwRg_076"
      },
      "source": [
        "# Strings\n",
        "# Rules of implementing strings\n",
        "# within single or double quotes\n",
        "\n",
        "my_name = \"Kenny\"\n",
        "my_name2 = 'Rodgers'"
      ],
      "execution_count": 7,
      "outputs": []
    },
    {
      "cell_type": "code",
      "metadata": {
        "colab": {
          "base_uri": "https://localhost:8080/",
          "height": 35
        },
        "id": "sj1EgfT8AYDm",
        "outputId": "d8722a39-8b7a-44ec-9fc3-b3ad191d7705"
      },
      "source": [
        "my_name"
      ],
      "execution_count": 8,
      "outputs": [
        {
          "output_type": "execute_result",
          "data": {
            "application/vnd.google.colaboratory.intrinsic+json": {
              "type": "string"
            },
            "text/plain": [
              "'Kenny'"
            ]
          },
          "metadata": {
            "tags": []
          },
          "execution_count": 8
        }
      ]
    },
    {
      "cell_type": "code",
      "metadata": {
        "colab": {
          "base_uri": "https://localhost:8080/",
          "height": 35
        },
        "id": "_CpPur6bAhk9",
        "outputId": "e3948518-5b0b-4464-b3c6-b6f363c1816e"
      },
      "source": [
        "my_name2\n"
      ],
      "execution_count": 9,
      "outputs": [
        {
          "output_type": "execute_result",
          "data": {
            "application/vnd.google.colaboratory.intrinsic+json": {
              "type": "string"
            },
            "text/plain": [
              "'Rodgers'"
            ]
          },
          "metadata": {
            "tags": []
          },
          "execution_count": 9
        }
      ]
    },
    {
      "cell_type": "code",
      "metadata": {
        "colab": {
          "base_uri": "https://localhost:8080/",
          "height": 35
        },
        "id": "sMxhYUb6BCUe",
        "outputId": "815eb9fb-8d56-4ea2-964b-4622e84abb5b"
      },
      "source": [
        "'''\n",
        "operations on strings\n",
        "1. Replication\n",
        "2. Concatenation\n",
        "\n",
        "'''"
      ],
      "execution_count": null,
      "outputs": [
        {
          "output_type": "execute_result",
          "data": {
            "application/vnd.google.colaboratory.intrinsic+json": {
              "type": "string"
            },
            "text/plain": [
              "'\\noperations on strings\\n1.replication\\n2.Concatination\\n\\n'"
            ]
          },
          "metadata": {
            "tags": []
          },
          "execution_count": 32
        }
      ]
    },
    {
      "cell_type": "code",
      "metadata": {
        "id": "KTIPOdYmBlhl",
        "colab": {
          "base_uri": "https://localhost:8080/",
          "height": 35
        },
        "outputId": "c04d91d7-77ff-4a83-d0ec-36e321d26ca8"
      },
      "source": [
        "# Concatenation\n",
        "first_name = \"Kenny\"\n",
        "last_name = \"Rodgers\"\n",
        "full_name = first_name +\" \" + last_name\n",
        "full_name\n"
      ],
      "execution_count": 13,
      "outputs": [
        {
          "output_type": "execute_result",
          "data": {
            "application/vnd.google.colaboratory.intrinsic+json": {
              "type": "string"
            },
            "text/plain": [
              "'Kenny Rodgers'"
            ]
          },
          "metadata": {
            "tags": []
          },
          "execution_count": 13
        }
      ]
    },
    {
      "cell_type": "code",
      "metadata": {
        "id": "aehhbvazCEh1"
      },
      "source": [
        "# Replication\n",
        "# we use * operator\n",
        "first_name_4 = first_name * 4"
      ],
      "execution_count": 15,
      "outputs": []
    },
    {
      "cell_type": "code",
      "metadata": {
        "colab": {
          "base_uri": "https://localhost:8080/",
          "height": 35
        },
        "id": "ejGXJppPCGMv",
        "outputId": "48e6af7f-2ee9-4efd-8ae1-6d7b6e026b85"
      },
      "source": [
        "first_name_4"
      ],
      "execution_count": 16,
      "outputs": [
        {
          "output_type": "execute_result",
          "data": {
            "application/vnd.google.colaboratory.intrinsic+json": {
              "type": "string"
            },
            "text/plain": [
              "'KennyKennyKennyKenny'"
            ]
          },
          "metadata": {
            "tags": []
          },
          "execution_count": 16
        }
      ]
    },
    {
      "cell_type": "markdown",
      "metadata": {
        "id": "prc-LU1bERUi"
      },
      "source": [
        "# Casting"
      ]
    },
    {
      "cell_type": "code",
      "metadata": {
        "id": "UxO98UvCDmW2"
      },
      "source": [
        "# Conversion between data types\n",
        "\n",
        "my_int =10"
      ],
      "execution_count": 31,
      "outputs": []
    },
    {
      "cell_type": "code",
      "metadata": {
        "colab": {
          "base_uri": "https://localhost:8080/"
        },
        "id": "W6ZEoT8NEutv",
        "outputId": "ba03f65f-5f65-4574-f964-5872581b4568"
      },
      "source": [
        "type(my_int)\n"
      ],
      "execution_count": 33,
      "outputs": [
        {
          "output_type": "execute_result",
          "data": {
            "text/plain": [
              "int"
            ]
          },
          "metadata": {
            "tags": []
          },
          "execution_count": 33
        }
      ]
    },
    {
      "cell_type": "code",
      "metadata": {
        "id": "eS3UUXikEzf5"
      },
      "source": [
        "my_float =float(my_int)"
      ],
      "execution_count": 34,
      "outputs": []
    },
    {
      "cell_type": "code",
      "metadata": {
        "colab": {
          "base_uri": "https://localhost:8080/"
        },
        "id": "wBNrZJWlFGTi",
        "outputId": "2da433d8-e04e-43d0-d76e-82a4b47b56d7"
      },
      "source": [
        "type(my_float)"
      ],
      "execution_count": 35,
      "outputs": [
        {
          "output_type": "execute_result",
          "data": {
            "text/plain": [
              "float"
            ]
          },
          "metadata": {
            "tags": []
          },
          "execution_count": 35
        }
      ]
    },
    {
      "cell_type": "code",
      "metadata": {
        "colab": {
          "base_uri": "https://localhost:8080/"
        },
        "id": "Fm3XwyN1FIkU",
        "outputId": "131dd0d9-afca-4385-9ad8-013138f4c919"
      },
      "source": [
        "my_float"
      ],
      "execution_count": 36,
      "outputs": [
        {
          "output_type": "execute_result",
          "data": {
            "text/plain": [
              "10.0"
            ]
          },
          "metadata": {
            "tags": []
          },
          "execution_count": 36
        }
      ]
    },
    {
      "cell_type": "code",
      "metadata": {
        "id": "AmVYxKjKFJ59"
      },
      "source": [
        "my_int_to_string = str(my_int)"
      ],
      "execution_count": 37,
      "outputs": []
    },
    {
      "cell_type": "code",
      "metadata": {
        "colab": {
          "base_uri": "https://localhost:8080/",
          "height": 35
        },
        "id": "SKK6B1YsFoVU",
        "outputId": "2be0fe4d-f31b-4311-e204-33f107217f39"
      },
      "source": [
        "my_int_to_string"
      ],
      "execution_count": 38,
      "outputs": [
        {
          "output_type": "execute_result",
          "data": {
            "application/vnd.google.colaboratory.intrinsic+json": {
              "type": "string"
            },
            "text/plain": [
              "'10'"
            ]
          },
          "metadata": {
            "tags": []
          },
          "execution_count": 38
        }
      ]
    },
    {
      "cell_type": "code",
      "metadata": {
        "id": "KkJHQxm8Fv4u"
      },
      "source": [
        "answer = first_name + \" \" + my_int_to_string"
      ],
      "execution_count": 39,
      "outputs": []
    },
    {
      "cell_type": "code",
      "metadata": {
        "colab": {
          "base_uri": "https://localhost:8080/",
          "height": 35
        },
        "id": "klo2tWrzF7Lb",
        "outputId": "a65d53a6-b8fb-4fb8-8d15-f4e6e15c2451"
      },
      "source": [
        "answer"
      ],
      "execution_count": 40,
      "outputs": [
        {
          "output_type": "execute_result",
          "data": {
            "application/vnd.google.colaboratory.intrinsic+json": {
              "type": "string"
            },
            "text/plain": [
              "'Kenny 10'"
            ]
          },
          "metadata": {
            "tags": []
          },
          "execution_count": 40
        }
      ]
    },
    {
      "cell_type": "code",
      "metadata": {
        "id": "BbbG34trF8t4"
      },
      "source": [
        "# Some Predefined Functions int(),str(),float()"
      ],
      "execution_count": 26,
      "outputs": []
    },
    {
      "cell_type": "code",
      "metadata": {
        "id": "YTXOK3kLGlkB"
      },
      "source": [
        "# Short quiz\n",
        "# Create a variable that hold the name of your country\n",
        "# Create another variable that holds a number btn 300-1000\n",
        "# Create another variable that contains the results a concatenation of the above variables"
      ],
      "execution_count": 27,
      "outputs": []
    },
    {
      "cell_type": "code",
      "metadata": {
        "colab": {
          "base_uri": "https://localhost:8080/",
          "height": 35
        },
        "id": "kgbBsF8UG-ML",
        "outputId": "b0e1183e-51f1-4f96-be44-127728aa2c05"
      },
      "source": [
        "my_country =\"Kenya\"\n",
        "my_num = 254\n",
        "converted_num =str(my_num)\n",
        "answer = my_country + \" \" +converted_num\n",
        "answer"
      ],
      "execution_count": 43,
      "outputs": [
        {
          "output_type": "execute_result",
          "data": {
            "application/vnd.google.colaboratory.intrinsic+json": {
              "type": "string"
            },
            "text/plain": [
              "'Kenya 254'"
            ]
          },
          "metadata": {
            "tags": []
          },
          "execution_count": 43
        }
      ]
    }
  ]
}